{
 "cells": [
  {
   "cell_type": "markdown",
   "id": "245918b3-be3c-4d1f-9a58-7f2a88d01183",
   "metadata": {},
   "source": [
    "# Project 2\n",
    "### CS 5/7394 - Applied Machine Learning\n",
    "\n",
    "- **Due** - March 11 @ 11:59 pm pushed to Github repo\n",
    "- **Teams** - You can do this project solo or in pairs.  Not 3, not 4 not 5... Max of 2. If a 5394 student pairs with a 7394 student, the pair needs to do the 7394 work. "
   ]
  },
  {
   "cell_type": "markdown",
   "id": "cae9b08f-7745-4dfb-8927-258f22423720",
   "metadata": {},
   "source": [
    "Below are 6 Kaggle Datasets.  You will choose 1 to work with for this project. \n",
    "\n",
    "- [Airfare Prediction Dataset](https://www.kaggle.com/zwartfreak/airline-fare-prediction)\n",
    "- [Chinese Rest Holiday Dataset](https://www.kaggle.com/holoong9291/chinese-rest-holiday-dataset-2020-to-2022)\n",
    "- [Jigsaw Toxic Comment Classification Challenge](https://www.kaggle.com/julian3833/jigsaw-toxic-comment-classification-challenge?select=train.csv)\n",
    "- [Latest Covid 19 Dataset Worldwide](https://www.kaggle.com/sandhyakrishnan02/latest-covid-19-dataset-worldwide)\n",
    "- [Trains](https://www.kaggle.com/vahidehdashti/machinelearningdatabase-trains?select=trains-original.data)\n",
    "- [Football Data top 5 Leagues](https://www.kaggle.com/sanjeetsinghnaik/football-data-top-5-leagues)\n",
    "\n",
    "Merging disparate datasets is a staple of the data exploration process.  Therefore, for which ever data set above that you choose, you will need to independently find **an additional** dataset to merge with your selection.  The only requirement is that it add to the richness of the original dataset. Students in the 7000-level version of the class need to find two additional data sets to merge with the original selection. \n",
    "\n",
    "_Note_: If you want to start with a different data set, you need to get Fontenot's OK first.  "
   ]
  },
  {
   "cell_type": "markdown",
   "id": "126330db-b29f-46d9-b16e-7811612a9e73",
   "metadata": {},
   "source": [
    "### Your Tasks\n",
    "\n",
    "Below, there are cells that provide directions on what to do for the project.  \n",
    "\n",
    "You can insert as many cells between the ones below as you'd like, but please **Do NOT** change the cells already provided. "
   ]
  },
  {
   "cell_type": "markdown",
   "id": "0f2ca87f-07eb-4792-b76e-15f2f01d1408",
   "metadata": {},
   "source": [
    "### Part 1 - Getting Started\n",
    "\n",
    "- Import libraries\n",
    "- Load original Data (which ever one you chose from the provided list) into a data frame. \n",
    "- Load your additional data set(s) into a data frame. \n",
    "- In a markdown cell, provide a brief description of your the data sets you've chosen to work with.  \n",
    "- Develop a list of 3 - 4 questions that you hope to be able to answer after the exploration of the data and write them in this section. "
   ]
  },
  {
   "cell_type": "markdown",
   "id": "0677b38a",
   "metadata": {},
   "source": [
    "https://www.kaggle.com/datasets/shubhambathwal/flight-price-prediction?select=Clean_Dataset.csv"
   ]
  },
  {
   "cell_type": "code",
   "execution_count": 1,
   "id": "eb138aa4",
   "metadata": {},
   "outputs": [],
   "source": [
    "import pandas as pd\n",
    "import numpy as np\n",
    "import seaborn as sns\n",
    "import matplotlib.pyplot as plt\n",
    "import matplotlib as mpl"
   ]
  },
  {
   "cell_type": "code",
   "execution_count": 2,
   "id": "7035f9c5",
   "metadata": {},
   "outputs": [],
   "source": [
    "path1 = '/Users/claywrentz/Desktop/ML-Fontenot/MLProject2/Dataset1/train.xlsx' \n",
    "path2 = '/Users/claywrentz/Desktop/ML-Fontenot/MLProject2/Dataset2.csv'\n",
    "\n",
    "flight1 = pd.read_excel(path1)\n",
    "flight2 = pd.read_csv(path2)"
   ]
  },
  {
   "cell_type": "markdown",
   "id": "6263162f",
   "metadata": {},
   "source": [
    "The first data set contains data on airfare prices for different flights, I can't find where the data was scraped from however I got it from [this](https://www.kaggle.com/datasets/zwartfreak/airline-fare-prediction?select=train.xlsx) link. It is split into a train and test set. The train set has 10,683 entries and the test set has 2,671 entries. Both sets have 11 different attributes. For this analysis I will only be using the train set. The prediction attribute is price. This data set uses numbers to represent the time of day. "
   ]
  },
  {
   "cell_type": "code",
   "execution_count": 3,
   "id": "93687f71",
   "metadata": {},
   "outputs": [
    {
     "data": {
      "text/html": [
       "<div>\n",
       "<style scoped>\n",
       "    .dataframe tbody tr th:only-of-type {\n",
       "        vertical-align: middle;\n",
       "    }\n",
       "\n",
       "    .dataframe tbody tr th {\n",
       "        vertical-align: top;\n",
       "    }\n",
       "\n",
       "    .dataframe thead th {\n",
       "        text-align: right;\n",
       "    }\n",
       "</style>\n",
       "<table border=\"1\" class=\"dataframe\">\n",
       "  <thead>\n",
       "    <tr style=\"text-align: right;\">\n",
       "      <th></th>\n",
       "      <th>Airline</th>\n",
       "      <th>Date_of_Journey</th>\n",
       "      <th>Source</th>\n",
       "      <th>Destination</th>\n",
       "      <th>Route</th>\n",
       "      <th>Dep_Time</th>\n",
       "      <th>Arrival_Time</th>\n",
       "      <th>Duration</th>\n",
       "      <th>Total_Stops</th>\n",
       "      <th>Additional Info</th>\n",
       "      <th>Price</th>\n",
       "    </tr>\n",
       "  </thead>\n",
       "  <tbody>\n",
       "    <tr>\n",
       "      <th>0</th>\n",
       "      <td>IndiGo</td>\n",
       "      <td>24/03/2019</td>\n",
       "      <td>Banglore</td>\n",
       "      <td>New Delhi</td>\n",
       "      <td>BLR → DEL</td>\n",
       "      <td>22:20</td>\n",
       "      <td>01:10 22 Mar</td>\n",
       "      <td>2h 50m</td>\n",
       "      <td>non-stop</td>\n",
       "      <td>No info</td>\n",
       "      <td>3898</td>\n",
       "    </tr>\n",
       "    <tr>\n",
       "      <th>1</th>\n",
       "      <td>Air India</td>\n",
       "      <td>1/05/2019</td>\n",
       "      <td>Kolkata</td>\n",
       "      <td>Banglore</td>\n",
       "      <td>CCU → IXR → BBI → BLR</td>\n",
       "      <td>05:50</td>\n",
       "      <td>13:15</td>\n",
       "      <td>7h 25m</td>\n",
       "      <td>2 stops</td>\n",
       "      <td>No info</td>\n",
       "      <td>7663</td>\n",
       "    </tr>\n",
       "    <tr>\n",
       "      <th>2</th>\n",
       "      <td>Jet Airways</td>\n",
       "      <td>9/06/2019</td>\n",
       "      <td>Delhi</td>\n",
       "      <td>Cochin</td>\n",
       "      <td>DEL → LKO → BOM → COK</td>\n",
       "      <td>09:25</td>\n",
       "      <td>04:25 10 Jun</td>\n",
       "      <td>19h</td>\n",
       "      <td>2 stops</td>\n",
       "      <td>No info</td>\n",
       "      <td>13883</td>\n",
       "    </tr>\n",
       "    <tr>\n",
       "      <th>3</th>\n",
       "      <td>IndiGo</td>\n",
       "      <td>12/05/2019</td>\n",
       "      <td>Kolkata</td>\n",
       "      <td>Banglore</td>\n",
       "      <td>CCU → NAG → BLR</td>\n",
       "      <td>18:05</td>\n",
       "      <td>23:30</td>\n",
       "      <td>5h 25m</td>\n",
       "      <td>1 stop</td>\n",
       "      <td>No info</td>\n",
       "      <td>6219</td>\n",
       "    </tr>\n",
       "    <tr>\n",
       "      <th>4</th>\n",
       "      <td>IndiGo</td>\n",
       "      <td>01/03/2019</td>\n",
       "      <td>Banglore</td>\n",
       "      <td>New Delhi</td>\n",
       "      <td>BLR → NAG → DEL</td>\n",
       "      <td>16:50</td>\n",
       "      <td>21:35</td>\n",
       "      <td>4h 45m</td>\n",
       "      <td>1 stop</td>\n",
       "      <td>No info</td>\n",
       "      <td>13303</td>\n",
       "    </tr>\n",
       "  </tbody>\n",
       "</table>\n",
       "</div>"
      ],
      "text/plain": [
       "       Airline Date_of_Journey    Source Destination                  Route  \\\n",
       "0       IndiGo      24/03/2019  Banglore   New Delhi              BLR → DEL   \n",
       "1    Air India       1/05/2019   Kolkata    Banglore  CCU → IXR → BBI → BLR   \n",
       "2  Jet Airways       9/06/2019     Delhi      Cochin  DEL → LKO → BOM → COK   \n",
       "3       IndiGo      12/05/2019   Kolkata    Banglore        CCU → NAG → BLR   \n",
       "4       IndiGo      01/03/2019  Banglore   New Delhi        BLR → NAG → DEL   \n",
       "\n",
       "  Dep_Time  Arrival_Time Duration Total_Stops Additional Info  Price  \n",
       "0    22:20  01:10 22 Mar   2h 50m    non-stop         No info   3898  \n",
       "1    05:50         13:15   7h 25m     2 stops         No info   7663  \n",
       "2    09:25  04:25 10 Jun      19h     2 stops         No info  13883  \n",
       "3    18:05         23:30   5h 25m      1 stop         No info   6219  \n",
       "4    16:50         21:35   4h 45m      1 stop         No info  13303  "
      ]
     },
     "execution_count": 3,
     "metadata": {},
     "output_type": "execute_result"
    }
   ],
   "source": [
    "flight1.head()"
   ]
  },
  {
   "cell_type": "markdown",
   "id": "607d2f3a",
   "metadata": {},
   "source": [
    "The second data set also contains data on airfare prices for different flights, but specifically focuses on flight travel between India's top 6 metro cities. This data is collected from the website \"Easemytrip\" and I found it at [this](https://www.kaggle.com/datasets/shubhambathwal/flight-price-prediction?select=Clean_Dataset.csv) link. This dataset uses categories to represent the time of day (morning, evening, etc.). This datasets prediction attribute is also price. This dataset has 300,153 entries and 11 different attributes. \n",
    "\n"
   ]
  },
  {
   "cell_type": "code",
   "execution_count": 4,
   "id": "2da0cb21",
   "metadata": {},
   "outputs": [
    {
     "data": {
      "text/html": [
       "<div>\n",
       "<style scoped>\n",
       "    .dataframe tbody tr th:only-of-type {\n",
       "        vertical-align: middle;\n",
       "    }\n",
       "\n",
       "    .dataframe tbody tr th {\n",
       "        vertical-align: top;\n",
       "    }\n",
       "\n",
       "    .dataframe thead th {\n",
       "        text-align: right;\n",
       "    }\n",
       "</style>\n",
       "<table border=\"1\" class=\"dataframe\">\n",
       "  <thead>\n",
       "    <tr style=\"text-align: right;\">\n",
       "      <th></th>\n",
       "      <th>Unnamed: 0</th>\n",
       "      <th>airline</th>\n",
       "      <th>flight</th>\n",
       "      <th>source_city</th>\n",
       "      <th>departure_time</th>\n",
       "      <th>stops</th>\n",
       "      <th>arrival_time</th>\n",
       "      <th>destination_city</th>\n",
       "      <th>class</th>\n",
       "      <th>duration</th>\n",
       "      <th>days_left</th>\n",
       "      <th>price</th>\n",
       "    </tr>\n",
       "  </thead>\n",
       "  <tbody>\n",
       "    <tr>\n",
       "      <th>0</th>\n",
       "      <td>0</td>\n",
       "      <td>SpiceJet</td>\n",
       "      <td>SG-8709</td>\n",
       "      <td>Delhi</td>\n",
       "      <td>Evening</td>\n",
       "      <td>zero</td>\n",
       "      <td>Night</td>\n",
       "      <td>Mumbai</td>\n",
       "      <td>Economy</td>\n",
       "      <td>2.17</td>\n",
       "      <td>1</td>\n",
       "      <td>5953</td>\n",
       "    </tr>\n",
       "    <tr>\n",
       "      <th>1</th>\n",
       "      <td>1</td>\n",
       "      <td>SpiceJet</td>\n",
       "      <td>SG-8157</td>\n",
       "      <td>Delhi</td>\n",
       "      <td>Early_Morning</td>\n",
       "      <td>zero</td>\n",
       "      <td>Morning</td>\n",
       "      <td>Mumbai</td>\n",
       "      <td>Economy</td>\n",
       "      <td>2.33</td>\n",
       "      <td>1</td>\n",
       "      <td>5953</td>\n",
       "    </tr>\n",
       "    <tr>\n",
       "      <th>2</th>\n",
       "      <td>2</td>\n",
       "      <td>AirAsia</td>\n",
       "      <td>I5-764</td>\n",
       "      <td>Delhi</td>\n",
       "      <td>Early_Morning</td>\n",
       "      <td>zero</td>\n",
       "      <td>Early_Morning</td>\n",
       "      <td>Mumbai</td>\n",
       "      <td>Economy</td>\n",
       "      <td>2.17</td>\n",
       "      <td>1</td>\n",
       "      <td>5956</td>\n",
       "    </tr>\n",
       "    <tr>\n",
       "      <th>3</th>\n",
       "      <td>3</td>\n",
       "      <td>Vistara</td>\n",
       "      <td>UK-995</td>\n",
       "      <td>Delhi</td>\n",
       "      <td>Morning</td>\n",
       "      <td>zero</td>\n",
       "      <td>Afternoon</td>\n",
       "      <td>Mumbai</td>\n",
       "      <td>Economy</td>\n",
       "      <td>2.25</td>\n",
       "      <td>1</td>\n",
       "      <td>5955</td>\n",
       "    </tr>\n",
       "    <tr>\n",
       "      <th>4</th>\n",
       "      <td>4</td>\n",
       "      <td>Vistara</td>\n",
       "      <td>UK-963</td>\n",
       "      <td>Delhi</td>\n",
       "      <td>Morning</td>\n",
       "      <td>zero</td>\n",
       "      <td>Morning</td>\n",
       "      <td>Mumbai</td>\n",
       "      <td>Economy</td>\n",
       "      <td>2.33</td>\n",
       "      <td>1</td>\n",
       "      <td>5955</td>\n",
       "    </tr>\n",
       "  </tbody>\n",
       "</table>\n",
       "</div>"
      ],
      "text/plain": [
       "   Unnamed: 0   airline   flight source_city departure_time stops  \\\n",
       "0           0  SpiceJet  SG-8709       Delhi        Evening  zero   \n",
       "1           1  SpiceJet  SG-8157       Delhi  Early_Morning  zero   \n",
       "2           2   AirAsia   I5-764       Delhi  Early_Morning  zero   \n",
       "3           3   Vistara   UK-995       Delhi        Morning  zero   \n",
       "4           4   Vistara   UK-963       Delhi        Morning  zero   \n",
       "\n",
       "    arrival_time destination_city    class  duration  days_left  price  \n",
       "0          Night           Mumbai  Economy      2.17          1   5953  \n",
       "1        Morning           Mumbai  Economy      2.33          1   5953  \n",
       "2  Early_Morning           Mumbai  Economy      2.17          1   5956  \n",
       "3      Afternoon           Mumbai  Economy      2.25          1   5955  \n",
       "4        Morning           Mumbai  Economy      2.33          1   5955  "
      ]
     },
     "execution_count": 4,
     "metadata": {},
     "output_type": "execute_result"
    }
   ],
   "source": [
    "flight2.head()\n"
   ]
  },
  {
   "cell_type": "markdown",
   "id": "9bcc60c9",
   "metadata": {},
   "source": [
    "### Questions \n",
    "\n",
    "1. Is there any trend based on what day of the week you buy a flight and how much it costs.\n",
    "\n",
    "2. What are the most expensive regions to fly to?\n",
    "\n",
    "3. Is there a major price difference between flights that have stops and flights that don't?\n",
    "\n",
    "4. How/why do prices vary with different airlines?\n",
    "\n"
   ]
  },
  {
   "cell_type": "markdown",
   "id": "7dc8b1e5-3e29-4da6-8d36-0e7cf48a3e59",
   "metadata": {},
   "source": [
    "### Part 2 - Data Inspection\n",
    "\n",
    "Write some code to summarize the datasets.  Think about the following questions:\n",
    "- What type of data is each variable? (think like a data scientist here, not a computer scientist)\n",
    "- What is the total size of the data sets?\n",
    "- What time boundaries are there in the dataset?  IOW, what time frame do they span?\n",
    "- Are there any missing values in any of the variables? \n",
    "\n",
    "Do this with Intentionality.  Don't skimp. "
   ]
  },
  {
   "cell_type": "markdown",
   "id": "34f03457",
   "metadata": {},
   "source": [
    "### Data Set 1"
   ]
  },
  {
   "cell_type": "code",
   "execution_count": 5,
   "id": "393dbd5e",
   "metadata": {},
   "outputs": [
    {
     "name": "stdout",
     "output_type": "stream",
     "text": [
      "<class 'pandas.core.frame.DataFrame'>\n",
      "RangeIndex: 10683 entries, 0 to 10682\n",
      "Data columns (total 11 columns):\n",
      " #   Column           Non-Null Count  Dtype \n",
      "---  ------           --------------  ----- \n",
      " 0   Airline          10683 non-null  object\n",
      " 1   Date_of_Journey  10683 non-null  object\n",
      " 2   Source           10683 non-null  object\n",
      " 3   Destination      10683 non-null  object\n",
      " 4   Route            10682 non-null  object\n",
      " 5   Dep_Time         10683 non-null  object\n",
      " 6   Arrival_Time     10683 non-null  object\n",
      " 7   Duration         10683 non-null  object\n",
      " 8   Total_Stops      10682 non-null  object\n",
      " 9   Additional_Info  10683 non-null  object\n",
      " 10  Price            10683 non-null  int64 \n",
      "dtypes: int64(1), object(10)\n",
      "memory usage: 918.2+ KB\n"
     ]
    },
    {
     "data": {
      "text/plain": [
       "array(['No info', 'In-flight meal not included',\n",
       "       'No check-in baggage included', '1 Short layover', 'No Info',\n",
       "       '1 Long layover', 'Change airports', 'Business class',\n",
       "       'Red-eye flight', '2 Long layover'], dtype=object)"
      ]
     },
     "execution_count": 5,
     "metadata": {},
     "output_type": "execute_result"
    }
   ],
   "source": [
    "flight1.columns = [c.replace(' ', '_') for c in flight1.columns]\n",
    "flight1.info()\n",
    "flight1.shape\n",
    "flight1.Additional_Info.unique()"
   ]
  },
  {
   "cell_type": "markdown",
   "id": "f935792b",
   "metadata": {},
   "source": [
    "**Airline:** Nominal categorical variable, 12 categories\n",
    "\n",
    "**Date of Journey:** Continuous numerical variable, initially stored as a string, will be datetime\n",
    "    \n",
    "**Source:** Nominal categorical variable, 5 categories\n",
    "    \n",
    "**Destination:** Nominal categorical variable, 6 categories\n",
    "    \n",
    "**Route:** Nominal categorical variable, 129 categories\n",
    "    \n",
    "**Departure Time:** Continuous numerical variable, initially stored as a string, will be datetime\n",
    "    \n",
    "**Arrival Time:** Continuous numerical variable, initially stored as a string, will be datetime\n",
    "    \n",
    "**Duration:** Discrete numerical variable, initially stored as a string\n",
    "    \n",
    "**Total Stops:** Discrete numerical variable\n",
    "    \n",
    "**Additional Info:** Nominal categorical variable, 10 categories\n",
    "    \n",
    "**Price:** Discrete numerical variable, stored as an int\n",
    "\n",
    "\n",
    "\n",
    "\n",
    "This dataset has 11 attributes and 10,683 entries, which is 117,513 total data points. \n"
   ]
  },
  {
   "cell_type": "code",
   "execution_count": 6,
   "id": "3ead7cbd",
   "metadata": {},
   "outputs": [
    {
     "data": {
      "text/html": [
       "<div>\n",
       "<style scoped>\n",
       "    .dataframe tbody tr th:only-of-type {\n",
       "        vertical-align: middle;\n",
       "    }\n",
       "\n",
       "    .dataframe tbody tr th {\n",
       "        vertical-align: top;\n",
       "    }\n",
       "\n",
       "    .dataframe thead th {\n",
       "        text-align: right;\n",
       "    }\n",
       "</style>\n",
       "<table border=\"1\" class=\"dataframe\">\n",
       "  <thead>\n",
       "    <tr style=\"text-align: right;\">\n",
       "      <th></th>\n",
       "      <th>Airline</th>\n",
       "      <th>Date_of_Journey</th>\n",
       "      <th>Source</th>\n",
       "      <th>Destination</th>\n",
       "      <th>Route</th>\n",
       "      <th>Dep_Time</th>\n",
       "      <th>Arrival_Time</th>\n",
       "      <th>Duration</th>\n",
       "      <th>Total_Stops</th>\n",
       "      <th>Additional_Info</th>\n",
       "      <th>Price</th>\n",
       "    </tr>\n",
       "  </thead>\n",
       "  <tbody>\n",
       "    <tr>\n",
       "      <th>0</th>\n",
       "      <td>IndiGo</td>\n",
       "      <td>2019-03-24</td>\n",
       "      <td>Banglore</td>\n",
       "      <td>New Delhi</td>\n",
       "      <td>BLR → DEL</td>\n",
       "      <td>22:20</td>\n",
       "      <td>01:10 22 Mar</td>\n",
       "      <td>2h 50m</td>\n",
       "      <td>non-stop</td>\n",
       "      <td>No info</td>\n",
       "      <td>3898</td>\n",
       "    </tr>\n",
       "    <tr>\n",
       "      <th>1</th>\n",
       "      <td>Air India</td>\n",
       "      <td>2019-01-05</td>\n",
       "      <td>Kolkata</td>\n",
       "      <td>Banglore</td>\n",
       "      <td>CCU → IXR → BBI → BLR</td>\n",
       "      <td>05:50</td>\n",
       "      <td>13:15</td>\n",
       "      <td>7h 25m</td>\n",
       "      <td>2 stops</td>\n",
       "      <td>No info</td>\n",
       "      <td>7663</td>\n",
       "    </tr>\n",
       "    <tr>\n",
       "      <th>2</th>\n",
       "      <td>Jet Airways</td>\n",
       "      <td>2019-09-06</td>\n",
       "      <td>Delhi</td>\n",
       "      <td>Cochin</td>\n",
       "      <td>DEL → LKO → BOM → COK</td>\n",
       "      <td>09:25</td>\n",
       "      <td>04:25 10 Jun</td>\n",
       "      <td>19h</td>\n",
       "      <td>2 stops</td>\n",
       "      <td>No info</td>\n",
       "      <td>13883</td>\n",
       "    </tr>\n",
       "    <tr>\n",
       "      <th>3</th>\n",
       "      <td>IndiGo</td>\n",
       "      <td>2019-12-05</td>\n",
       "      <td>Kolkata</td>\n",
       "      <td>Banglore</td>\n",
       "      <td>CCU → NAG → BLR</td>\n",
       "      <td>18:05</td>\n",
       "      <td>23:30</td>\n",
       "      <td>5h 25m</td>\n",
       "      <td>1 stop</td>\n",
       "      <td>No info</td>\n",
       "      <td>6219</td>\n",
       "    </tr>\n",
       "    <tr>\n",
       "      <th>4</th>\n",
       "      <td>IndiGo</td>\n",
       "      <td>2019-01-03</td>\n",
       "      <td>Banglore</td>\n",
       "      <td>New Delhi</td>\n",
       "      <td>BLR → NAG → DEL</td>\n",
       "      <td>16:50</td>\n",
       "      <td>21:35</td>\n",
       "      <td>4h 45m</td>\n",
       "      <td>1 stop</td>\n",
       "      <td>No info</td>\n",
       "      <td>13303</td>\n",
       "    </tr>\n",
       "  </tbody>\n",
       "</table>\n",
       "</div>"
      ],
      "text/plain": [
       "       Airline Date_of_Journey    Source Destination                  Route  \\\n",
       "0       IndiGo      2019-03-24  Banglore   New Delhi              BLR → DEL   \n",
       "1    Air India      2019-01-05   Kolkata    Banglore  CCU → IXR → BBI → BLR   \n",
       "2  Jet Airways      2019-09-06     Delhi      Cochin  DEL → LKO → BOM → COK   \n",
       "3       IndiGo      2019-12-05   Kolkata    Banglore        CCU → NAG → BLR   \n",
       "4       IndiGo      2019-01-03  Banglore   New Delhi        BLR → NAG → DEL   \n",
       "\n",
       "  Dep_Time  Arrival_Time Duration Total_Stops Additional_Info  Price  \n",
       "0    22:20  01:10 22 Mar   2h 50m    non-stop         No info   3898  \n",
       "1    05:50         13:15   7h 25m     2 stops         No info   7663  \n",
       "2    09:25  04:25 10 Jun      19h     2 stops         No info  13883  \n",
       "3    18:05         23:30   5h 25m      1 stop         No info   6219  \n",
       "4    16:50         21:35   4h 45m      1 stop         No info  13303  "
      ]
     },
     "execution_count": 6,
     "metadata": {},
     "output_type": "execute_result"
    }
   ],
   "source": [
    "flight1['Date_of_Journey'] = pd.to_datetime(flight1['Date_of_Journey'])\n",
    "flight1.head()"
   ]
  },
  {
   "cell_type": "code",
   "execution_count": 7,
   "id": "fd5c0649",
   "metadata": {},
   "outputs": [
    {
     "data": {
      "text/html": [
       "<div>\n",
       "<style scoped>\n",
       "    .dataframe tbody tr th:only-of-type {\n",
       "        vertical-align: middle;\n",
       "    }\n",
       "\n",
       "    .dataframe tbody tr th {\n",
       "        vertical-align: top;\n",
       "    }\n",
       "\n",
       "    .dataframe thead th {\n",
       "        text-align: right;\n",
       "    }\n",
       "</style>\n",
       "<table border=\"1\" class=\"dataframe\">\n",
       "  <thead>\n",
       "    <tr style=\"text-align: right;\">\n",
       "      <th></th>\n",
       "      <th>Airline</th>\n",
       "      <th>Date_of_Journey</th>\n",
       "      <th>Source</th>\n",
       "      <th>Destination</th>\n",
       "      <th>Route</th>\n",
       "      <th>Dep_Time</th>\n",
       "      <th>Arrival_Time</th>\n",
       "      <th>Duration</th>\n",
       "      <th>Total_Stops</th>\n",
       "      <th>Additional_Info</th>\n",
       "      <th>Price</th>\n",
       "    </tr>\n",
       "  </thead>\n",
       "  <tbody>\n",
       "    <tr>\n",
       "      <th>959</th>\n",
       "      <td>Jet Airways</td>\n",
       "      <td>2019-01-03</td>\n",
       "      <td>Banglore</td>\n",
       "      <td>New Delhi</td>\n",
       "      <td>BLR → BOM → DEL</td>\n",
       "      <td>11:40</td>\n",
       "      <td>00:45 02 Mar</td>\n",
       "      <td>13h 5m</td>\n",
       "      <td>1 stop</td>\n",
       "      <td>No info</td>\n",
       "      <td>26891</td>\n",
       "    </tr>\n",
       "    <tr>\n",
       "      <th>6336</th>\n",
       "      <td>SpiceJet</td>\n",
       "      <td>2019-01-03</td>\n",
       "      <td>Banglore</td>\n",
       "      <td>New Delhi</td>\n",
       "      <td>BLR → HYD → DEL</td>\n",
       "      <td>15:35</td>\n",
       "      <td>23:40</td>\n",
       "      <td>8h 5m</td>\n",
       "      <td>1 stop</td>\n",
       "      <td>1 Long layover</td>\n",
       "      <td>7745</td>\n",
       "    </tr>\n",
       "    <tr>\n",
       "      <th>1654</th>\n",
       "      <td>Jet Airways</td>\n",
       "      <td>2019-01-03</td>\n",
       "      <td>Banglore</td>\n",
       "      <td>New Delhi</td>\n",
       "      <td>BLR → BOM → DEL</td>\n",
       "      <td>08:00</td>\n",
       "      <td>20:20</td>\n",
       "      <td>12h 20m</td>\n",
       "      <td>1 stop</td>\n",
       "      <td>No info</td>\n",
       "      <td>27993</td>\n",
       "    </tr>\n",
       "    <tr>\n",
       "      <th>6321</th>\n",
       "      <td>Air India</td>\n",
       "      <td>2019-01-03</td>\n",
       "      <td>Banglore</td>\n",
       "      <td>New Delhi</td>\n",
       "      <td>BLR → BOM → AMD → DEL</td>\n",
       "      <td>08:50</td>\n",
       "      <td>23:55 02 Mar</td>\n",
       "      <td>39h 5m</td>\n",
       "      <td>2 stops</td>\n",
       "      <td>No info</td>\n",
       "      <td>17136</td>\n",
       "    </tr>\n",
       "    <tr>\n",
       "      <th>6314</th>\n",
       "      <td>Jet Airways</td>\n",
       "      <td>2019-01-03</td>\n",
       "      <td>Banglore</td>\n",
       "      <td>New Delhi</td>\n",
       "      <td>BLR → BOM → DEL</td>\n",
       "      <td>11:40</td>\n",
       "      <td>11:25 02 Mar</td>\n",
       "      <td>23h 45m</td>\n",
       "      <td>1 stop</td>\n",
       "      <td>No info</td>\n",
       "      <td>25736</td>\n",
       "    </tr>\n",
       "  </tbody>\n",
       "</table>\n",
       "</div>"
      ],
      "text/plain": [
       "          Airline Date_of_Journey    Source Destination  \\\n",
       "959   Jet Airways      2019-01-03  Banglore   New Delhi   \n",
       "6336     SpiceJet      2019-01-03  Banglore   New Delhi   \n",
       "1654  Jet Airways      2019-01-03  Banglore   New Delhi   \n",
       "6321    Air India      2019-01-03  Banglore   New Delhi   \n",
       "6314  Jet Airways      2019-01-03  Banglore   New Delhi   \n",
       "\n",
       "                      Route Dep_Time  Arrival_Time Duration Total_Stops  \\\n",
       "959         BLR → BOM → DEL    11:40  00:45 02 Mar   13h 5m      1 stop   \n",
       "6336        BLR → HYD → DEL    15:35         23:40    8h 5m      1 stop   \n",
       "1654        BLR → BOM → DEL    08:00         20:20  12h 20m      1 stop   \n",
       "6321  BLR → BOM → AMD → DEL    08:50  23:55 02 Mar   39h 5m     2 stops   \n",
       "6314        BLR → BOM → DEL    11:40  11:25 02 Mar  23h 45m      1 stop   \n",
       "\n",
       "     Additional_Info  Price  \n",
       "959          No info  26891  \n",
       "6336  1 Long layover   7745  \n",
       "1654         No info  27993  \n",
       "6321         No info  17136  \n",
       "6314         No info  25736  "
      ]
     },
     "execution_count": 7,
     "metadata": {},
     "output_type": "execute_result"
    }
   ],
   "source": [
    "flight1 = flight1.sort_values(by='Date_of_Journey')\n",
    "flight1.head()"
   ]
  },
  {
   "cell_type": "code",
   "execution_count": 8,
   "id": "5f210a2a",
   "metadata": {},
   "outputs": [
    {
     "data": {
      "text/html": [
       "<div>\n",
       "<style scoped>\n",
       "    .dataframe tbody tr th:only-of-type {\n",
       "        vertical-align: middle;\n",
       "    }\n",
       "\n",
       "    .dataframe tbody tr th {\n",
       "        vertical-align: top;\n",
       "    }\n",
       "\n",
       "    .dataframe thead th {\n",
       "        text-align: right;\n",
       "    }\n",
       "</style>\n",
       "<table border=\"1\" class=\"dataframe\">\n",
       "  <thead>\n",
       "    <tr style=\"text-align: right;\">\n",
       "      <th></th>\n",
       "      <th>Airline</th>\n",
       "      <th>Date_of_Journey</th>\n",
       "      <th>Source</th>\n",
       "      <th>Destination</th>\n",
       "      <th>Route</th>\n",
       "      <th>Dep_Time</th>\n",
       "      <th>Arrival_Time</th>\n",
       "      <th>Duration</th>\n",
       "      <th>Total_Stops</th>\n",
       "      <th>Additional_Info</th>\n",
       "      <th>Price</th>\n",
       "    </tr>\n",
       "  </thead>\n",
       "  <tbody>\n",
       "    <tr>\n",
       "      <th>9873</th>\n",
       "      <td>Multiple carriers</td>\n",
       "      <td>2019-12-06</td>\n",
       "      <td>Delhi</td>\n",
       "      <td>Cochin</td>\n",
       "      <td>DEL → BOM → COK</td>\n",
       "      <td>09:15</td>\n",
       "      <td>19:00</td>\n",
       "      <td>9h 45m</td>\n",
       "      <td>1 stop</td>\n",
       "      <td>No info</td>\n",
       "      <td>11623</td>\n",
       "    </tr>\n",
       "    <tr>\n",
       "      <th>5993</th>\n",
       "      <td>IndiGo</td>\n",
       "      <td>2019-12-06</td>\n",
       "      <td>Kolkata</td>\n",
       "      <td>Banglore</td>\n",
       "      <td>CCU → MAA → BLR</td>\n",
       "      <td>08:10</td>\n",
       "      <td>13:00</td>\n",
       "      <td>4h 50m</td>\n",
       "      <td>1 stop</td>\n",
       "      <td>No info</td>\n",
       "      <td>5070</td>\n",
       "    </tr>\n",
       "    <tr>\n",
       "      <th>7260</th>\n",
       "      <td>Jet Airways</td>\n",
       "      <td>2019-12-06</td>\n",
       "      <td>Delhi</td>\n",
       "      <td>Cochin</td>\n",
       "      <td>DEL → BOM → COK</td>\n",
       "      <td>22:50</td>\n",
       "      <td>19:00 13 Jun</td>\n",
       "      <td>20h 10m</td>\n",
       "      <td>1 stop</td>\n",
       "      <td>No info</td>\n",
       "      <td>14715</td>\n",
       "    </tr>\n",
       "    <tr>\n",
       "      <th>4997</th>\n",
       "      <td>Air Asia</td>\n",
       "      <td>2019-12-06</td>\n",
       "      <td>Kolkata</td>\n",
       "      <td>Banglore</td>\n",
       "      <td>CCU → DEL → BLR</td>\n",
       "      <td>07:35</td>\n",
       "      <td>23:30</td>\n",
       "      <td>15h 55m</td>\n",
       "      <td>1 stop</td>\n",
       "      <td>No info</td>\n",
       "      <td>5193</td>\n",
       "    </tr>\n",
       "    <tr>\n",
       "      <th>1081</th>\n",
       "      <td>Jet Airways</td>\n",
       "      <td>2019-12-06</td>\n",
       "      <td>Delhi</td>\n",
       "      <td>Cochin</td>\n",
       "      <td>DEL → BOM → COK</td>\n",
       "      <td>21:50</td>\n",
       "      <td>04:25 13 Jun</td>\n",
       "      <td>6h 35m</td>\n",
       "      <td>1 stop</td>\n",
       "      <td>In-flight meal not included</td>\n",
       "      <td>10263</td>\n",
       "    </tr>\n",
       "  </tbody>\n",
       "</table>\n",
       "</div>"
      ],
      "text/plain": [
       "                Airline Date_of_Journey   Source Destination            Route  \\\n",
       "9873  Multiple carriers      2019-12-06    Delhi      Cochin  DEL → BOM → COK   \n",
       "5993             IndiGo      2019-12-06  Kolkata    Banglore  CCU → MAA → BLR   \n",
       "7260        Jet Airways      2019-12-06    Delhi      Cochin  DEL → BOM → COK   \n",
       "4997           Air Asia      2019-12-06  Kolkata    Banglore  CCU → DEL → BLR   \n",
       "1081        Jet Airways      2019-12-06    Delhi      Cochin  DEL → BOM → COK   \n",
       "\n",
       "     Dep_Time  Arrival_Time Duration Total_Stops              Additional_Info  \\\n",
       "9873    09:15         19:00   9h 45m      1 stop                      No info   \n",
       "5993    08:10         13:00   4h 50m      1 stop                      No info   \n",
       "7260    22:50  19:00 13 Jun  20h 10m      1 stop                      No info   \n",
       "4997    07:35         23:30  15h 55m      1 stop                      No info   \n",
       "1081    21:50  04:25 13 Jun   6h 35m      1 stop  In-flight meal not included   \n",
       "\n",
       "      Price  \n",
       "9873  11623  \n",
       "5993   5070  \n",
       "7260  14715  \n",
       "4997   5193  \n",
       "1081  10263  "
      ]
     },
     "execution_count": 8,
     "metadata": {},
     "output_type": "execute_result"
    }
   ],
   "source": [
    "flight1.tail()"
   ]
  },
  {
   "cell_type": "markdown",
   "id": "154f8f27",
   "metadata": {},
   "source": [
    "I changed Date of Journey to a datetime object in order to have the same format for all entries. After sorting by this column, we can see that the data has dates beginning on 01/03/2019 and spanning until 12/06/2019; a timespan of about one year. We can see above that there is very few missing datapoints. Route and Total Stops are the only columns missing data and they are both missing only one entry. "
   ]
  },
  {
   "cell_type": "code",
   "execution_count": 9,
   "id": "1e609e64",
   "metadata": {},
   "outputs": [
    {
     "name": "stdout",
     "output_type": "stream",
     "text": [
      "<class 'pandas.core.frame.DataFrame'>\n",
      "Int64Index: 10683 entries, 959 to 1081\n",
      "Data columns (total 11 columns):\n",
      " #   Column           Non-Null Count  Dtype         \n",
      "---  ------           --------------  -----         \n",
      " 0   Airline          10683 non-null  object        \n",
      " 1   Date_of_Journey  10683 non-null  datetime64[ns]\n",
      " 2   Source           10683 non-null  object        \n",
      " 3   Destination      10683 non-null  object        \n",
      " 4   Route            10682 non-null  object        \n",
      " 5   Dep_Time         10683 non-null  object        \n",
      " 6   Arrival_Time     10683 non-null  object        \n",
      " 7   Duration         10683 non-null  object        \n",
      " 8   Total_Stops      10682 non-null  object        \n",
      " 9   Additional_Info  10683 non-null  object        \n",
      " 10  Price            10683 non-null  int64         \n",
      "dtypes: datetime64[ns](1), int64(1), object(9)\n",
      "memory usage: 1001.5+ KB\n"
     ]
    }
   ],
   "source": [
    "flight1.info()"
   ]
  },
  {
   "cell_type": "markdown",
   "id": "dbd6a49c",
   "metadata": {},
   "source": [
    "### Dataset 2"
   ]
  },
  {
   "cell_type": "code",
   "execution_count": 10,
   "id": "e1266ffc",
   "metadata": {},
   "outputs": [
    {
     "name": "stdout",
     "output_type": "stream",
     "text": [
      "<class 'pandas.core.frame.DataFrame'>\n",
      "RangeIndex: 300153 entries, 0 to 300152\n",
      "Data columns (total 11 columns):\n",
      " #   Column            Non-Null Count   Dtype  \n",
      "---  ------            --------------   -----  \n",
      " 0   airline           300153 non-null  object \n",
      " 1   flight            300153 non-null  object \n",
      " 2   source_city       300153 non-null  object \n",
      " 3   departure_time    300153 non-null  object \n",
      " 4   stops             300153 non-null  object \n",
      " 5   arrival_time      300153 non-null  object \n",
      " 6   destination_city  300153 non-null  object \n",
      " 7   class             300153 non-null  object \n",
      " 8   duration          300153 non-null  float64\n",
      " 9   days_left         300153 non-null  int64  \n",
      " 10  price             300153 non-null  int64  \n",
      "dtypes: float64(1), int64(2), object(8)\n",
      "memory usage: 25.2+ MB\n"
     ]
    },
    {
     "name": "stderr",
     "output_type": "stream",
     "text": [
      "/var/folders/sc/3djkvdx57jb0ycqsbk23w5pc0000gn/T/ipykernel_80409/4202729272.py:2: FutureWarning: In a future version of pandas all arguments of DataFrame.drop except for the argument 'labels' will be keyword-only\n",
      "  flight2 = flight2.drop('Unnamed:_0', 1)\n"
     ]
    },
    {
     "data": {
      "text/plain": [
       "(300153, 11)"
      ]
     },
     "execution_count": 10,
     "metadata": {},
     "output_type": "execute_result"
    }
   ],
   "source": [
    "flight2.columns = [c.replace(' ', '_') for c in flight2.columns]\n",
    "flight2 = flight2.drop('Unnamed:_0', 1)\n",
    "flight2.info()\n",
    "flight2.shape"
   ]
  },
  {
   "cell_type": "code",
   "execution_count": 11,
   "id": "9c667881",
   "metadata": {},
   "outputs": [
    {
     "data": {
      "text/plain": [
       "2"
      ]
     },
     "execution_count": 11,
     "metadata": {},
     "output_type": "execute_result"
    }
   ],
   "source": [
    "x = flight2['class'].unique()\n",
    "len(x)"
   ]
  },
  {
   "cell_type": "markdown",
   "id": "36bb3a97",
   "metadata": {},
   "source": [
    "**Airline:** Nominal categorical variable, 6 categories\n",
    "\n",
    "**Flight:** Nominal categorical variable, 1561 categories\n",
    "\n",
    "**Source City:** Nominal categorical variable, 6 categories\n",
    "\n",
    "**Departure Time:** Ordinal categorical variable, 6 categories\n",
    "\n",
    "**Stops:** Discrete numerical variable, initially stored as a string (not an int)\n",
    "\n",
    "**Arrival Time:** Ordinal categorical variable, 6 categories\n",
    "\n",
    "**Destination City:** Nominal categorical variable, 6 categories\n",
    "\n",
    "**Class:** Nominal categorical variable, 2 categories\n",
    "\n",
    "**Duration:** Continuous numerical variable, stored as float\n",
    "\n",
    "**Days Left:** Discrete numerical variable, stored as int\n",
    "\n",
    "**Price:** Discrete numerical variable, stored as an int\n",
    "\n",
    "This dataset has 11 attributes and 300,153 entries, which is 3,301,683 total data points.\n",
    "\n",
    "There are no dates included in the dataset, however using the description from Kaggle we can see this data was collected for flights departing on 02/11/2022 through 03/31/2022. This dataset is limited to a much smaller timespan, only 1.5 months. \n",
    "There is no missing data, all columns have 300,153 non-null entries. "
   ]
  },
  {
   "cell_type": "markdown",
   "id": "f816006c-868c-4863-b0b8-e56e8a1ec8f3",
   "metadata": {
    "tags": []
   },
   "source": [
    "### Part 3 - Data Description\n",
    "\n",
    "- Create a data description (data dictionary) for your data sets.\n",
    "    - Describe each variable\n",
    "    - If categorical, what levels are present? If the levels are encoded, what do the codes mean?\n",
    "    - If numeric, provide min, max, median and any other univariate stats you'd like to add in. \n",
    "- Where appropriate, provide histograms or other visualizations to characterize each variable. "
   ]
  },
  {
   "cell_type": "markdown",
   "id": "4c21dc2a",
   "metadata": {},
   "source": [
    "First step is to change all numeric data (that's not a date) to integers. Then we can better understand each variable.\n",
    "### Dataset 1"
   ]
  },
  {
   "cell_type": "code",
   "execution_count": 12,
   "id": "e6e6c13a",
   "metadata": {},
   "outputs": [
    {
     "data": {
      "text/html": [
       "<div>\n",
       "<style scoped>\n",
       "    .dataframe tbody tr th:only-of-type {\n",
       "        vertical-align: middle;\n",
       "    }\n",
       "\n",
       "    .dataframe tbody tr th {\n",
       "        vertical-align: top;\n",
       "    }\n",
       "\n",
       "    .dataframe thead th {\n",
       "        text-align: right;\n",
       "    }\n",
       "</style>\n",
       "<table border=\"1\" class=\"dataframe\">\n",
       "  <thead>\n",
       "    <tr style=\"text-align: right;\">\n",
       "      <th></th>\n",
       "      <th>Airline</th>\n",
       "      <th>Date_of_Journey</th>\n",
       "      <th>Source</th>\n",
       "      <th>Destination</th>\n",
       "      <th>Route</th>\n",
       "      <th>Dep_Time</th>\n",
       "      <th>Arrival_Time</th>\n",
       "      <th>Duration</th>\n",
       "      <th>Total_Stops</th>\n",
       "      <th>Additional_Info</th>\n",
       "      <th>Price</th>\n",
       "    </tr>\n",
       "  </thead>\n",
       "  <tbody>\n",
       "    <tr>\n",
       "      <th>959</th>\n",
       "      <td>Jet Airways</td>\n",
       "      <td>2019-01-03</td>\n",
       "      <td>Banglore</td>\n",
       "      <td>New Delhi</td>\n",
       "      <td>BLR → BOM → DEL</td>\n",
       "      <td>11:40</td>\n",
       "      <td>00:45 02 Mar</td>\n",
       "      <td>13h 5m</td>\n",
       "      <td>1 stop</td>\n",
       "      <td>No info</td>\n",
       "      <td>26891</td>\n",
       "    </tr>\n",
       "    <tr>\n",
       "      <th>6336</th>\n",
       "      <td>SpiceJet</td>\n",
       "      <td>2019-01-03</td>\n",
       "      <td>Banglore</td>\n",
       "      <td>New Delhi</td>\n",
       "      <td>BLR → HYD → DEL</td>\n",
       "      <td>15:35</td>\n",
       "      <td>23:40</td>\n",
       "      <td>8h 5m</td>\n",
       "      <td>1 stop</td>\n",
       "      <td>1 Long layover</td>\n",
       "      <td>7745</td>\n",
       "    </tr>\n",
       "    <tr>\n",
       "      <th>1654</th>\n",
       "      <td>Jet Airways</td>\n",
       "      <td>2019-01-03</td>\n",
       "      <td>Banglore</td>\n",
       "      <td>New Delhi</td>\n",
       "      <td>BLR → BOM → DEL</td>\n",
       "      <td>08:00</td>\n",
       "      <td>20:20</td>\n",
       "      <td>12h 20m</td>\n",
       "      <td>1 stop</td>\n",
       "      <td>No info</td>\n",
       "      <td>27993</td>\n",
       "    </tr>\n",
       "    <tr>\n",
       "      <th>6321</th>\n",
       "      <td>Air India</td>\n",
       "      <td>2019-01-03</td>\n",
       "      <td>Banglore</td>\n",
       "      <td>New Delhi</td>\n",
       "      <td>BLR → BOM → AMD → DEL</td>\n",
       "      <td>08:50</td>\n",
       "      <td>23:55 02 Mar</td>\n",
       "      <td>39h 5m</td>\n",
       "      <td>2 stops</td>\n",
       "      <td>No info</td>\n",
       "      <td>17136</td>\n",
       "    </tr>\n",
       "    <tr>\n",
       "      <th>6314</th>\n",
       "      <td>Jet Airways</td>\n",
       "      <td>2019-01-03</td>\n",
       "      <td>Banglore</td>\n",
       "      <td>New Delhi</td>\n",
       "      <td>BLR → BOM → DEL</td>\n",
       "      <td>11:40</td>\n",
       "      <td>11:25 02 Mar</td>\n",
       "      <td>23h 45m</td>\n",
       "      <td>1 stop</td>\n",
       "      <td>No info</td>\n",
       "      <td>25736</td>\n",
       "    </tr>\n",
       "  </tbody>\n",
       "</table>\n",
       "</div>"
      ],
      "text/plain": [
       "          Airline Date_of_Journey    Source Destination  \\\n",
       "959   Jet Airways      2019-01-03  Banglore   New Delhi   \n",
       "6336     SpiceJet      2019-01-03  Banglore   New Delhi   \n",
       "1654  Jet Airways      2019-01-03  Banglore   New Delhi   \n",
       "6321    Air India      2019-01-03  Banglore   New Delhi   \n",
       "6314  Jet Airways      2019-01-03  Banglore   New Delhi   \n",
       "\n",
       "                      Route Dep_Time  Arrival_Time Duration Total_Stops  \\\n",
       "959         BLR → BOM → DEL    11:40  00:45 02 Mar   13h 5m      1 stop   \n",
       "6336        BLR → HYD → DEL    15:35         23:40    8h 5m      1 stop   \n",
       "1654        BLR → BOM → DEL    08:00         20:20  12h 20m      1 stop   \n",
       "6321  BLR → BOM → AMD → DEL    08:50  23:55 02 Mar   39h 5m     2 stops   \n",
       "6314        BLR → BOM → DEL    11:40  11:25 02 Mar  23h 45m      1 stop   \n",
       "\n",
       "     Additional_Info  Price  \n",
       "959          No info  26891  \n",
       "6336  1 Long layover   7745  \n",
       "1654         No info  27993  \n",
       "6321         No info  17136  \n",
       "6314         No info  25736  "
      ]
     },
     "execution_count": 12,
     "metadata": {},
     "output_type": "execute_result"
    }
   ],
   "source": [
    "flight1.head()"
   ]
  },
  {
   "cell_type": "markdown",
   "id": "3a4b81ac",
   "metadata": {},
   "source": [
    "I started by converting the Duration column from a string to an int. I multiplied the total hours by 60 and added the minutes, so now the duration is measured in minutes. "
   ]
  },
  {
   "cell_type": "code",
   "execution_count": 13,
   "id": "ec0fe53d",
   "metadata": {},
   "outputs": [
    {
     "data": {
      "text/html": [
       "<div>\n",
       "<style scoped>\n",
       "    .dataframe tbody tr th:only-of-type {\n",
       "        vertical-align: middle;\n",
       "    }\n",
       "\n",
       "    .dataframe tbody tr th {\n",
       "        vertical-align: top;\n",
       "    }\n",
       "\n",
       "    .dataframe thead th {\n",
       "        text-align: right;\n",
       "    }\n",
       "</style>\n",
       "<table border=\"1\" class=\"dataframe\">\n",
       "  <thead>\n",
       "    <tr style=\"text-align: right;\">\n",
       "      <th></th>\n",
       "      <th>Airline</th>\n",
       "      <th>Date_of_Journey</th>\n",
       "      <th>Source</th>\n",
       "      <th>Destination</th>\n",
       "      <th>Route</th>\n",
       "      <th>Dep_Time</th>\n",
       "      <th>Arrival_Time</th>\n",
       "      <th>Duration</th>\n",
       "      <th>Total_Stops</th>\n",
       "      <th>Additional_Info</th>\n",
       "      <th>Price</th>\n",
       "    </tr>\n",
       "  </thead>\n",
       "  <tbody>\n",
       "    <tr>\n",
       "      <th>959</th>\n",
       "      <td>Jet Airways</td>\n",
       "      <td>2019-01-03</td>\n",
       "      <td>Banglore</td>\n",
       "      <td>New Delhi</td>\n",
       "      <td>BLR → BOM → DEL</td>\n",
       "      <td>11:40</td>\n",
       "      <td>00:45 02 Mar</td>\n",
       "      <td>785</td>\n",
       "      <td>1 stop</td>\n",
       "      <td>No info</td>\n",
       "      <td>26891</td>\n",
       "    </tr>\n",
       "    <tr>\n",
       "      <th>6336</th>\n",
       "      <td>SpiceJet</td>\n",
       "      <td>2019-01-03</td>\n",
       "      <td>Banglore</td>\n",
       "      <td>New Delhi</td>\n",
       "      <td>BLR → HYD → DEL</td>\n",
       "      <td>15:35</td>\n",
       "      <td>23:40</td>\n",
       "      <td>485</td>\n",
       "      <td>1 stop</td>\n",
       "      <td>1 Long layover</td>\n",
       "      <td>7745</td>\n",
       "    </tr>\n",
       "    <tr>\n",
       "      <th>1654</th>\n",
       "      <td>Jet Airways</td>\n",
       "      <td>2019-01-03</td>\n",
       "      <td>Banglore</td>\n",
       "      <td>New Delhi</td>\n",
       "      <td>BLR → BOM → DEL</td>\n",
       "      <td>08:00</td>\n",
       "      <td>20:20</td>\n",
       "      <td>740</td>\n",
       "      <td>1 stop</td>\n",
       "      <td>No info</td>\n",
       "      <td>27993</td>\n",
       "    </tr>\n",
       "    <tr>\n",
       "      <th>6321</th>\n",
       "      <td>Air India</td>\n",
       "      <td>2019-01-03</td>\n",
       "      <td>Banglore</td>\n",
       "      <td>New Delhi</td>\n",
       "      <td>BLR → BOM → AMD → DEL</td>\n",
       "      <td>08:50</td>\n",
       "      <td>23:55 02 Mar</td>\n",
       "      <td>2345</td>\n",
       "      <td>2 stops</td>\n",
       "      <td>No info</td>\n",
       "      <td>17136</td>\n",
       "    </tr>\n",
       "    <tr>\n",
       "      <th>6314</th>\n",
       "      <td>Jet Airways</td>\n",
       "      <td>2019-01-03</td>\n",
       "      <td>Banglore</td>\n",
       "      <td>New Delhi</td>\n",
       "      <td>BLR → BOM → DEL</td>\n",
       "      <td>11:40</td>\n",
       "      <td>11:25 02 Mar</td>\n",
       "      <td>1425</td>\n",
       "      <td>1 stop</td>\n",
       "      <td>No info</td>\n",
       "      <td>25736</td>\n",
       "    </tr>\n",
       "  </tbody>\n",
       "</table>\n",
       "</div>"
      ],
      "text/plain": [
       "          Airline Date_of_Journey    Source Destination  \\\n",
       "959   Jet Airways      2019-01-03  Banglore   New Delhi   \n",
       "6336     SpiceJet      2019-01-03  Banglore   New Delhi   \n",
       "1654  Jet Airways      2019-01-03  Banglore   New Delhi   \n",
       "6321    Air India      2019-01-03  Banglore   New Delhi   \n",
       "6314  Jet Airways      2019-01-03  Banglore   New Delhi   \n",
       "\n",
       "                      Route Dep_Time  Arrival_Time  Duration Total_Stops  \\\n",
       "959         BLR → BOM → DEL    11:40  00:45 02 Mar       785      1 stop   \n",
       "6336        BLR → HYD → DEL    15:35         23:40       485      1 stop   \n",
       "1654        BLR → BOM → DEL    08:00         20:20       740      1 stop   \n",
       "6321  BLR → BOM → AMD → DEL    08:50  23:55 02 Mar      2345     2 stops   \n",
       "6314        BLR → BOM → DEL    11:40  11:25 02 Mar      1425      1 stop   \n",
       "\n",
       "     Additional_Info  Price  \n",
       "959          No info  26891  \n",
       "6336  1 Long layover   7745  \n",
       "1654         No info  27993  \n",
       "6321         No info  17136  \n",
       "6314         No info  25736  "
      ]
     },
     "execution_count": 13,
     "metadata": {},
     "output_type": "execute_result"
    }
   ],
   "source": [
    "h = flight1['Duration'].str.extract('(\\d+)h', expand=False).astype(float) * 60\n",
    "m = flight1['Duration'].str.extract('(\\d+)m', expand=False).astype(float)\n",
    "\n",
    "flight1['Duration'] = h.add(m, fill_value=0).astype(int)\n",
    "flight1.head()"
   ]
  },
  {
   "cell_type": "markdown",
   "id": "47d60fd8",
   "metadata": {},
   "source": [
    "I also shortened the Arrival Time column to include only the first 5 characters, meaning just the time. If I need to know what date the column is referencing I will use the duration column + departure time column. Right now the Arrival Time and Departure Time columns are still pbjects but may later be changed to datetime types. "
   ]
  },
  {
   "cell_type": "code",
   "execution_count": 14,
   "id": "ffbd0335",
   "metadata": {},
   "outputs": [],
   "source": [
    "flight1['Arrival_Time'] = flight1['Arrival_Time'].str[0:5]"
   ]
  },
  {
   "cell_type": "markdown",
   "id": "75fff5bc",
   "metadata": {},
   "source": [
    "Next I dropped all the rows from dataset 1 that have null entries. This ended up being only one row because, as stated earlier, there are only two null entries and they happened to be in the same row. Therefore, dropping all rows with null entries has a miniscule effect on the overall data. Then, I formatted the Total stops column to only contain an int, and changed its type to int."
   ]
  },
  {
   "cell_type": "code",
   "execution_count": 15,
   "id": "47c847e5",
   "metadata": {},
   "outputs": [
    {
     "name": "stderr",
     "output_type": "stream",
     "text": [
      "/var/folders/sc/3djkvdx57jb0ycqsbk23w5pc0000gn/T/ipykernel_80409/1157681791.py:1: FutureWarning: In a future version of pandas all arguments of DataFrame.dropna will be keyword-only\n",
      "  flight1 = flight1.dropna(0)\n"
     ]
    }
   ],
   "source": [
    "flight1 = flight1.dropna(0)\n",
    "flight1['Total_Stops'] = flight1['Total_Stops'].str[0:1]\n",
    "flight1['Total_Stops'] = [c.replace('n', '0') for c in flight1['Total_Stops']]\n",
    "flight1['Total_Stops'] = flight1['Total_Stops'].astype(int)"
   ]
  },
  {
   "cell_type": "code",
   "execution_count": 16,
   "id": "4aa38ef3",
   "metadata": {},
   "outputs": [
    {
     "data": {
      "text/html": [
       "<div>\n",
       "<style scoped>\n",
       "    .dataframe tbody tr th:only-of-type {\n",
       "        vertical-align: middle;\n",
       "    }\n",
       "\n",
       "    .dataframe tbody tr th {\n",
       "        vertical-align: top;\n",
       "    }\n",
       "\n",
       "    .dataframe thead th {\n",
       "        text-align: right;\n",
       "    }\n",
       "</style>\n",
       "<table border=\"1\" class=\"dataframe\">\n",
       "  <thead>\n",
       "    <tr style=\"text-align: right;\">\n",
       "      <th></th>\n",
       "      <th>Airline</th>\n",
       "      <th>Date_of_Journey</th>\n",
       "      <th>Source</th>\n",
       "      <th>Destination</th>\n",
       "      <th>Route</th>\n",
       "      <th>Dep_Time</th>\n",
       "      <th>Arrival_Time</th>\n",
       "      <th>Duration</th>\n",
       "      <th>Total_Stops</th>\n",
       "      <th>Additional_Info</th>\n",
       "      <th>Price</th>\n",
       "    </tr>\n",
       "  </thead>\n",
       "  <tbody>\n",
       "    <tr>\n",
       "      <th>959</th>\n",
       "      <td>Jet Airways</td>\n",
       "      <td>2019-01-03</td>\n",
       "      <td>Banglore</td>\n",
       "      <td>New Delhi</td>\n",
       "      <td>BLR → BOM → DEL</td>\n",
       "      <td>11:40</td>\n",
       "      <td>00:45</td>\n",
       "      <td>785</td>\n",
       "      <td>1</td>\n",
       "      <td>No info</td>\n",
       "      <td>26891</td>\n",
       "    </tr>\n",
       "    <tr>\n",
       "      <th>6336</th>\n",
       "      <td>SpiceJet</td>\n",
       "      <td>2019-01-03</td>\n",
       "      <td>Banglore</td>\n",
       "      <td>New Delhi</td>\n",
       "      <td>BLR → HYD → DEL</td>\n",
       "      <td>15:35</td>\n",
       "      <td>23:40</td>\n",
       "      <td>485</td>\n",
       "      <td>1</td>\n",
       "      <td>1 Long layover</td>\n",
       "      <td>7745</td>\n",
       "    </tr>\n",
       "    <tr>\n",
       "      <th>1654</th>\n",
       "      <td>Jet Airways</td>\n",
       "      <td>2019-01-03</td>\n",
       "      <td>Banglore</td>\n",
       "      <td>New Delhi</td>\n",
       "      <td>BLR → BOM → DEL</td>\n",
       "      <td>08:00</td>\n",
       "      <td>20:20</td>\n",
       "      <td>740</td>\n",
       "      <td>1</td>\n",
       "      <td>No info</td>\n",
       "      <td>27993</td>\n",
       "    </tr>\n",
       "    <tr>\n",
       "      <th>6321</th>\n",
       "      <td>Air India</td>\n",
       "      <td>2019-01-03</td>\n",
       "      <td>Banglore</td>\n",
       "      <td>New Delhi</td>\n",
       "      <td>BLR → BOM → AMD → DEL</td>\n",
       "      <td>08:50</td>\n",
       "      <td>23:55</td>\n",
       "      <td>2345</td>\n",
       "      <td>2</td>\n",
       "      <td>No info</td>\n",
       "      <td>17136</td>\n",
       "    </tr>\n",
       "    <tr>\n",
       "      <th>6314</th>\n",
       "      <td>Jet Airways</td>\n",
       "      <td>2019-01-03</td>\n",
       "      <td>Banglore</td>\n",
       "      <td>New Delhi</td>\n",
       "      <td>BLR → BOM → DEL</td>\n",
       "      <td>11:40</td>\n",
       "      <td>11:25</td>\n",
       "      <td>1425</td>\n",
       "      <td>1</td>\n",
       "      <td>No info</td>\n",
       "      <td>25736</td>\n",
       "    </tr>\n",
       "  </tbody>\n",
       "</table>\n",
       "</div>"
      ],
      "text/plain": [
       "          Airline Date_of_Journey    Source Destination  \\\n",
       "959   Jet Airways      2019-01-03  Banglore   New Delhi   \n",
       "6336     SpiceJet      2019-01-03  Banglore   New Delhi   \n",
       "1654  Jet Airways      2019-01-03  Banglore   New Delhi   \n",
       "6321    Air India      2019-01-03  Banglore   New Delhi   \n",
       "6314  Jet Airways      2019-01-03  Banglore   New Delhi   \n",
       "\n",
       "                      Route Dep_Time Arrival_Time  Duration  Total_Stops  \\\n",
       "959         BLR → BOM → DEL    11:40        00:45       785            1   \n",
       "6336        BLR → HYD → DEL    15:35        23:40       485            1   \n",
       "1654        BLR → BOM → DEL    08:00        20:20       740            1   \n",
       "6321  BLR → BOM → AMD → DEL    08:50        23:55      2345            2   \n",
       "6314        BLR → BOM → DEL    11:40        11:25      1425            1   \n",
       "\n",
       "     Additional_Info  Price  \n",
       "959          No info  26891  \n",
       "6336  1 Long layover   7745  \n",
       "1654         No info  27993  \n",
       "6321         No info  17136  \n",
       "6314         No info  25736  "
      ]
     },
     "execution_count": 16,
     "metadata": {},
     "output_type": "execute_result"
    }
   ],
   "source": [
    "flight1.head()"
   ]
  },
  {
   "cell_type": "markdown",
   "id": "e8b3ac69",
   "metadata": {},
   "source": [
    "The data from dataset 1 now appears to be ready to be put into the data dictionary. "
   ]
  },
  {
   "cell_type": "code",
   "execution_count": 17,
   "id": "3d9b7d8b",
   "metadata": {},
   "outputs": [
    {
     "data": {
      "text/plain": [
       "array(['Jet Airways', 'SpiceJet', 'Air India', 'IndiGo', 'Air Asia',\n",
       "       'Vistara', 'GoAir', 'Jet Airways Business', 'Multiple carriers',\n",
       "       'Vistara Premium economy', 'Multiple carriers Premium economy',\n",
       "       'Trujet'], dtype=object)"
      ]
     },
     "execution_count": 17,
     "metadata": {},
     "output_type": "execute_result"
    }
   ],
   "source": [
    "flight1['Airline'].unique()"
   ]
  },
  {
   "cell_type": "markdown",
   "id": "4690bbde",
   "metadata": {},
   "source": [
    "#### Airline\n",
    "This variable represents all the different airlines available for travel in dataset 1. This includes Jet Airways, SpiceJet, Air India, IndiGo, Air Asia, Vistara, GoAir, Jet Airways Business, multiple carriers, Vistara premium economy, Trujet, and multiple carriers premium economy. Multiple carriers means that multiple different airlines were taken to get to the final destination. The majority of flights were on Jet Airways."
   ]
  },
  {
   "cell_type": "code",
   "execution_count": 18,
   "id": "a2d2074d",
   "metadata": {},
   "outputs": [
    {
     "data": {
      "text/plain": [
       "<function matplotlib.pyplot.show(close=None, block=None)>"
      ]
     },
     "execution_count": 18,
     "metadata": {},
     "output_type": "execute_result"
    },
    {
     "data": {
      "image/png": "[encoded data removed]",
      "text/plain": [
       "<Figure size 432x288 with 1 Axes>"
      ]
     },
     "metadata": {
      "needs_background": "light"
     },
     "output_type": "display_data"
    }
   ],
   "source": [
    "plt.hist(flight1['Airline'], bins = 12, density = False)\n",
    "plt.xticks(rotation='vertical')\n",
    "plt.show"
   ]
  },
  {
   "cell_type": "code",
   "execution_count": 19,
   "id": "9bffc040",
   "metadata": {},
   "outputs": [
    {
     "data": {
      "text/plain": [
       "<function matplotlib.pyplot.show(close=None, block=None)>"
      ]
     },
     "execution_count": 19,
     "metadata": {},
     "output_type": "execute_result"
    },
    {
     "data": {
      "image/png": "[encoded data removed]",
      "text/plain": [
       "<Figure size 432x288 with 1 Axes>"
      ]
     },
     "metadata": {
      "needs_background": "light"
     },
     "output_type": "display_data"
    }
   ],
   "source": [
    "flight1.boxplot(column = 'Price', by = 'Airline')\n",
    "plt.xticks(rotation=90)\n",
    "plt.show"
   ]
  },
  {
   "cell_type": "markdown",
   "id": "2808c3fe",
   "metadata": {},
   "source": [
    "#### Date of Journey\n",
    "\n",
    "This variable represents the date that the journey began, meaning the date that the flight departs. It is saved as a datetime object in the format YYYY-MM-DD. This variable is a little bit inbetween categorical and numeric. The representation of it includes numbers, however these numbers can't alone be used for calculation. You have to take other logic into account such as the number of days in a month or year. Also you can't calculate the average. The data also isn't exactly categorical because if we considered it that there would be too many categories. Although its not exactly numeric, we can still calculate the min, max, and median. The min is 01/03/2019 and the max is 12/06/2019. The median is 05/24/2019. The date with the highest number of flights was 05/18/2019.\n",
    "\n"
   ]
  },
  {
   "cell_type": "code",
   "execution_count": 20,
   "id": "18f25d7b",
   "metadata": {},
   "outputs": [
    {
     "data": {
      "text/plain": [
       "<function matplotlib.pyplot.show(close=None, block=None)>"
      ]
     },
     "execution_count": 20,
     "metadata": {},
     "output_type": "execute_result"
    },
    {
     "data": {
      "image/png": "[encoded data removed]",
      "text/plain": [
       "<Figure size 432x288 with 1 Axes>"
      ]
     },
     "metadata": {
      "needs_background": "light"
     },
     "output_type": "display_data"
    }
   ],
   "source": [
    "plt.hist(flight1['Date_of_Journey'], bins = 40, density = False)\n",
    "plt.xticks(rotation='vertical')\n",
    "plt.show"
   ]
  },
  {
   "cell_type": "markdown",
   "id": "802c4d36",
   "metadata": {},
   "source": [
    "#### Source\n",
    "\n",
    "This variable represents the location of which the flight is departing from. This is a categorical variable consisting of 5 categories: Banglore, Chennai, Delhi, Kolkata, and Mumbai. Most of the flights were made from Delhi, with the second most being from Banglore and Kolkata. "
   ]
  },
  {
   "cell_type": "code",
   "execution_count": 21,
   "id": "87ae8e73",
   "metadata": {},
   "outputs": [
    {
     "data": {
      "text/plain": [
       "<function matplotlib.pyplot.show(close=None, block=None)>"
      ]
     },
     "execution_count": 21,
     "metadata": {},
     "output_type": "execute_result"
    },
    {
     "data": {
      "image/png": "[encoded data removed]",
      "text/plain": [
       "<Figure size 432x288 with 1 Axes>"
      ]
     },
     "metadata": {
      "needs_background": "light"
     },
     "output_type": "display_data"
    }
   ],
   "source": [
    "plt.hist(flight1['Source'], bins = 5, density = False)\n",
    "plt.xticks(rotation='vertical')\n",
    "plt.show"
   ]
  },
  {
   "cell_type": "markdown",
   "id": "faefed02",
   "metadata": {},
   "source": [
    "#### Destination\n",
    "\n",
    "This variable represents the location of which the flight is landing at. This is a categorical variable consisting of 6 categories: New Delhi, Kolkata, Cochin, Banglore, Hyderabad, and Delhi. Most of the flights were made to Cochin, with Banglore coming in second. "
   ]
  },
  {
   "cell_type": "code",
   "execution_count": 22,
   "id": "588ed813",
   "metadata": {},
   "outputs": [
    {
     "data": {
      "text/plain": [
       "<function matplotlib.pyplot.show(close=None, block=None)>"
      ]
     },
     "execution_count": 22,
     "metadata": {},
     "output_type": "execute_result"
    },
    {
     "data": {
      "image/png": "[encoded data removed]",
      "text/plain": [
       "<Figure size 432x288 with 1 Axes>"
      ]
     },
     "metadata": {
      "needs_background": "light"
     },
     "output_type": "display_data"
    }
   ],
   "source": [
    "plt.hist(flight1['Destination'], bins = 6, density = False)\n",
    "plt.xticks(rotation='vertical')\n",
    "plt.show"
   ]
  },
  {
   "cell_type": "markdown",
   "id": "d994e4af",
   "metadata": {},
   "source": [
    "#### Route \n",
    "\n",
    "This variable represents the path that was taken to get from the source to destination. It consists of the names of locations in the order of which they were reached by the flight. It is a categorical variable of 129 different categories. The most popular route is DEL -> BOM -> COK with 2,376 total flights through this path in the timespan that the data was recorded. The mean number of flights for each path is 83, with a minimum of 1. "
   ]
  },
  {
   "cell_type": "code",
   "execution_count": 23,
   "id": "102af091",
   "metadata": {},
   "outputs": [
    {
     "data": {
      "text/html": [
       "<div>\n",
       "<style scoped>\n",
       "    .dataframe tbody tr th:only-of-type {\n",
       "        vertical-align: middle;\n",
       "    }\n",
       "\n",
       "    .dataframe tbody tr th {\n",
       "        vertical-align: top;\n",
       "    }\n",
       "\n",
       "    .dataframe thead th {\n",
       "        text-align: right;\n",
       "    }\n",
       "</style>\n",
       "<table border=\"1\" class=\"dataframe\">\n",
       "  <thead>\n",
       "    <tr style=\"text-align: right;\">\n",
       "      <th></th>\n",
       "      <th>Airline</th>\n",
       "      <th>Date_of_Journey</th>\n",
       "      <th>Source</th>\n",
       "      <th>Destination</th>\n",
       "      <th>Dep_Time</th>\n",
       "      <th>Arrival_Time</th>\n",
       "      <th>Duration</th>\n",
       "      <th>Total_Stops</th>\n",
       "      <th>Additional_Info</th>\n",
       "      <th>Price</th>\n",
       "    </tr>\n",
       "  </thead>\n",
       "  <tbody>\n",
       "    <tr>\n",
       "      <th>count</th>\n",
       "      <td>128.000000</td>\n",
       "      <td>128.000000</td>\n",
       "      <td>128.000000</td>\n",
       "      <td>128.000000</td>\n",
       "      <td>128.000000</td>\n",
       "      <td>128.000000</td>\n",
       "      <td>128.000000</td>\n",
       "      <td>128.000000</td>\n",
       "      <td>128.000000</td>\n",
       "      <td>128.000000</td>\n",
       "    </tr>\n",
       "    <tr>\n",
       "      <th>mean</th>\n",
       "      <td>83.453125</td>\n",
       "      <td>83.453125</td>\n",
       "      <td>83.453125</td>\n",
       "      <td>83.453125</td>\n",
       "      <td>83.453125</td>\n",
       "      <td>83.453125</td>\n",
       "      <td>83.453125</td>\n",
       "      <td>83.453125</td>\n",
       "      <td>83.453125</td>\n",
       "      <td>83.453125</td>\n",
       "    </tr>\n",
       "    <tr>\n",
       "      <th>std</th>\n",
       "      <td>281.334219</td>\n",
       "      <td>281.334219</td>\n",
       "      <td>281.334219</td>\n",
       "      <td>281.334219</td>\n",
       "      <td>281.334219</td>\n",
       "      <td>281.334219</td>\n",
       "      <td>281.334219</td>\n",
       "      <td>281.334219</td>\n",
       "      <td>281.334219</td>\n",
       "      <td>281.334219</td>\n",
       "    </tr>\n",
       "    <tr>\n",
       "      <th>min</th>\n",
       "      <td>1.000000</td>\n",
       "      <td>1.000000</td>\n",
       "      <td>1.000000</td>\n",
       "      <td>1.000000</td>\n",
       "      <td>1.000000</td>\n",
       "      <td>1.000000</td>\n",
       "      <td>1.000000</td>\n",
       "      <td>1.000000</td>\n",
       "      <td>1.000000</td>\n",
       "      <td>1.000000</td>\n",
       "    </tr>\n",
       "    <tr>\n",
       "      <th>25%</th>\n",
       "      <td>2.000000</td>\n",
       "      <td>2.000000</td>\n",
       "      <td>2.000000</td>\n",
       "      <td>2.000000</td>\n",
       "      <td>2.000000</td>\n",
       "      <td>2.000000</td>\n",
       "      <td>2.000000</td>\n",
       "      <td>2.000000</td>\n",
       "      <td>2.000000</td>\n",
       "      <td>2.000000</td>\n",
       "    </tr>\n",
       "    <tr>\n",
       "      <th>50%</th>\n",
       "      <td>9.000000</td>\n",
       "      <td>9.000000</td>\n",
       "      <td>9.000000</td>\n",
       "      <td>9.000000</td>\n",
       "      <td>9.000000</td>\n",
       "      <td>9.000000</td>\n",
       "      <td>9.000000</td>\n",
       "      <td>9.000000</td>\n",
       "      <td>9.000000</td>\n",
       "      <td>9.000000</td>\n",
       "    </tr>\n",
       "    <tr>\n",
       "      <th>75%</th>\n",
       "      <td>37.000000</td>\n",
       "      <td>37.000000</td>\n",
       "      <td>37.000000</td>\n",
       "      <td>37.000000</td>\n",
       "      <td>37.000000</td>\n",
       "      <td>37.000000</td>\n",
       "      <td>37.000000</td>\n",
       "      <td>37.000000</td>\n",
       "      <td>37.000000</td>\n",
       "      <td>37.000000</td>\n",
       "    </tr>\n",
       "    <tr>\n",
       "      <th>max</th>\n",
       "      <td>2376.000000</td>\n",
       "      <td>2376.000000</td>\n",
       "      <td>2376.000000</td>\n",
       "      <td>2376.000000</td>\n",
       "      <td>2376.000000</td>\n",
       "      <td>2376.000000</td>\n",
       "      <td>2376.000000</td>\n",
       "      <td>2376.000000</td>\n",
       "      <td>2376.000000</td>\n",
       "      <td>2376.000000</td>\n",
       "    </tr>\n",
       "  </tbody>\n",
       "</table>\n",
       "</div>"
      ],
      "text/plain": [
       "           Airline  Date_of_Journey       Source  Destination     Dep_Time  \\\n",
       "count   128.000000       128.000000   128.000000   128.000000   128.000000   \n",
       "mean     83.453125        83.453125    83.453125    83.453125    83.453125   \n",
       "std     281.334219       281.334219   281.334219   281.334219   281.334219   \n",
       "min       1.000000         1.000000     1.000000     1.000000     1.000000   \n",
       "25%       2.000000         2.000000     2.000000     2.000000     2.000000   \n",
       "50%       9.000000         9.000000     9.000000     9.000000     9.000000   \n",
       "75%      37.000000        37.000000    37.000000    37.000000    37.000000   \n",
       "max    2376.000000      2376.000000  2376.000000  2376.000000  2376.000000   \n",
       "\n",
       "       Arrival_Time     Duration  Total_Stops  Additional_Info        Price  \n",
       "count    128.000000   128.000000   128.000000       128.000000   128.000000  \n",
       "mean      83.453125    83.453125    83.453125        83.453125    83.453125  \n",
       "std      281.334219   281.334219   281.334219       281.334219   281.334219  \n",
       "min        1.000000     1.000000     1.000000         1.000000     1.000000  \n",
       "25%        2.000000     2.000000     2.000000         2.000000     2.000000  \n",
       "50%        9.000000     9.000000     9.000000         9.000000     9.000000  \n",
       "75%       37.000000    37.000000    37.000000        37.000000    37.000000  \n",
       "max     2376.000000  2376.000000  2376.000000      2376.000000  2376.000000  "
      ]
     },
     "execution_count": 23,
     "metadata": {},
     "output_type": "execute_result"
    }
   ],
   "source": [
    "x = flight1.groupby('Route').count()\n",
    "x.head()\n",
    "x = x.sort_values(by='Airline')\n",
    "x.tail()\n",
    "x.describe()"
   ]
  },
  {
   "cell_type": "markdown",
   "id": "92133860",
   "metadata": {},
   "source": [
    "#### Departure Time\n",
    "\n",
    "This variable represents the time that the flight departed the airport on the day found in the Date of Journey column. Although this data is continuous and numeric, it is an object, not an int. You can't perform calculations with this data without taking into account the number of minutes in an hour. The histogram below makes it difficult to read the labels, however you can see that most flights depart in the morning, with the majority between 4 and 5 am.  "
   ]
  },
  {
   "cell_type": "code",
   "execution_count": 24,
   "id": "eecae4ac",
   "metadata": {},
   "outputs": [
    {
     "data": {
      "text/plain": [
       "<function matplotlib.pyplot.show(close=None, block=None)>"
      ]
     },
     "execution_count": 24,
     "metadata": {},
     "output_type": "execute_result"
    },
    {
     "data": {
      "image/png": "[encoded data removed]",
      "text/plain": [
       "<Figure size 432x288 with 1 Axes>"
      ]
     },
     "metadata": {
      "needs_background": "light"
     },
     "output_type": "display_data"
    }
   ],
   "source": [
    "plt.hist(flight1['Dep_Time'], bins = 24, density = False)\n",
    "plt.xticks(rotation='vertical')\n",
    "plt.show"
   ]
  },
  {
   "cell_type": "markdown",
   "id": "6d705dcf",
   "metadata": {},
   "source": [
    "#### Arrival Time\n",
    "\n",
    "This variable represents the time that the flight arrives at its destination. It only includes the hour and minute, not the date. If you want to know the day it arrived you can use the Departure date column along with the Duration column. Although this data is continuous and numeric, it is an object, not an int. You can't perform calculations with this data without taking into account the number of minutes in an hour. The histogram below makes it difficult to read the labels, however you can see that most flights arrive very early in the day, with the most between 4 and 5 am."
   ]
  },
  {
   "cell_type": "code",
   "execution_count": 25,
   "id": "13f3ebae",
   "metadata": {},
   "outputs": [
    {
     "data": {
      "text/plain": [
       "<function matplotlib.pyplot.show(close=None, block=None)>"
      ]
     },
     "execution_count": 25,
     "metadata": {},
     "output_type": "execute_result"
    },
    {
     "data": {
      "image/png": "[encoded data removed]",
      "text/plain": [
       "<Figure size 432x288 with 1 Axes>"
      ]
     },
     "metadata": {
      "needs_background": "light"
     },
     "output_type": "display_data"
    }
   ],
   "source": [
    "plt.hist(flight1['Arrival_Time'], bins = 24, density = False)\n",
    "plt.xticks(rotation='vertical')\n",
    "plt.show"
   ]
  },
  {
   "cell_type": "markdown",
   "id": "68c55a7d",
   "metadata": {},
   "source": [
    "#### Duration\n",
    "\n",
    "This variable represents the total duration of time between the departure time and arrival time. This value is represented in minutes. It is a discrete numerical variable and represented with an integer. The minimum trip duration is 5 minutes, which seems out of the ordinary so I will inspect that. The maximum trip duration is 2860 minutes, which is nearly two days. This seems long for one trip, but these trips can include multiple flights and layovers to get to the final destination. The average trip duration is 643 minutes or nearly 11 hours. "
   ]
  },
  {
   "cell_type": "code",
   "execution_count": 26,
   "id": "0cd7f886",
   "metadata": {},
   "outputs": [
    {
     "data": {
      "text/html": [
       "<div>\n",
       "<style scoped>\n",
       "    .dataframe tbody tr th:only-of-type {\n",
       "        vertical-align: middle;\n",
       "    }\n",
       "\n",
       "    .dataframe tbody tr th {\n",
       "        vertical-align: top;\n",
       "    }\n",
       "\n",
       "    .dataframe thead th {\n",
       "        text-align: right;\n",
       "    }\n",
       "</style>\n",
       "<table border=\"1\" class=\"dataframe\">\n",
       "  <thead>\n",
       "    <tr style=\"text-align: right;\">\n",
       "      <th></th>\n",
       "      <th>Duration</th>\n",
       "      <th>Total_Stops</th>\n",
       "      <th>Price</th>\n",
       "    </tr>\n",
       "  </thead>\n",
       "  <tbody>\n",
       "    <tr>\n",
       "      <th>count</th>\n",
       "      <td>10682.000000</td>\n",
       "      <td>10682.000000</td>\n",
       "      <td>10682.000000</td>\n",
       "    </tr>\n",
       "    <tr>\n",
       "      <th>mean</th>\n",
       "      <td>643.020502</td>\n",
       "      <td>0.824190</td>\n",
       "      <td>9088.214567</td>\n",
       "    </tr>\n",
       "    <tr>\n",
       "      <th>std</th>\n",
       "      <td>507.830133</td>\n",
       "      <td>0.675229</td>\n",
       "      <td>4611.548810</td>\n",
       "    </tr>\n",
       "    <tr>\n",
       "      <th>min</th>\n",
       "      <td>5.000000</td>\n",
       "      <td>0.000000</td>\n",
       "      <td>1760.000000</td>\n",
       "    </tr>\n",
       "    <tr>\n",
       "      <th>25%</th>\n",
       "      <td>170.000000</td>\n",
       "      <td>0.000000</td>\n",
       "      <td>5278.000000</td>\n",
       "    </tr>\n",
       "    <tr>\n",
       "      <th>50%</th>\n",
       "      <td>520.000000</td>\n",
       "      <td>1.000000</td>\n",
       "      <td>8373.000000</td>\n",
       "    </tr>\n",
       "    <tr>\n",
       "      <th>75%</th>\n",
       "      <td>930.000000</td>\n",
       "      <td>1.000000</td>\n",
       "      <td>12374.000000</td>\n",
       "    </tr>\n",
       "    <tr>\n",
       "      <th>max</th>\n",
       "      <td>2860.000000</td>\n",
       "      <td>4.000000</td>\n",
       "      <td>79513.000000</td>\n",
       "    </tr>\n",
       "  </tbody>\n",
       "</table>\n",
       "</div>"
      ],
      "text/plain": [
       "           Duration   Total_Stops         Price\n",
       "count  10682.000000  10682.000000  10682.000000\n",
       "mean     643.020502      0.824190   9088.214567\n",
       "std      507.830133      0.675229   4611.548810\n",
       "min        5.000000      0.000000   1760.000000\n",
       "25%      170.000000      0.000000   5278.000000\n",
       "50%      520.000000      1.000000   8373.000000\n",
       "75%      930.000000      1.000000  12374.000000\n",
       "max     2860.000000      4.000000  79513.000000"
      ]
     },
     "execution_count": 26,
     "metadata": {},
     "output_type": "execute_result"
    }
   ],
   "source": [
    "flight1.describe()"
   ]
  },
  {
   "cell_type": "code",
   "execution_count": 27,
   "id": "5d5539c4",
   "metadata": {},
   "outputs": [
    {
     "data": {
      "text/html": [
       "<div>\n",
       "<style scoped>\n",
       "    .dataframe tbody tr th:only-of-type {\n",
       "        vertical-align: middle;\n",
       "    }\n",
       "\n",
       "    .dataframe tbody tr th {\n",
       "        vertical-align: top;\n",
       "    }\n",
       "\n",
       "    .dataframe thead th {\n",
       "        text-align: right;\n",
       "    }\n",
       "</style>\n",
       "<table border=\"1\" class=\"dataframe\">\n",
       "  <thead>\n",
       "    <tr style=\"text-align: right;\">\n",
       "      <th></th>\n",
       "      <th>Airline</th>\n",
       "      <th>Date_of_Journey</th>\n",
       "      <th>Source</th>\n",
       "      <th>Destination</th>\n",
       "      <th>Route</th>\n",
       "      <th>Dep_Time</th>\n",
       "      <th>Arrival_Time</th>\n",
       "      <th>Duration</th>\n",
       "      <th>Total_Stops</th>\n",
       "      <th>Additional_Info</th>\n",
       "      <th>Price</th>\n",
       "    </tr>\n",
       "  </thead>\n",
       "  <tbody>\n",
       "    <tr>\n",
       "      <th>6474</th>\n",
       "      <td>Air India</td>\n",
       "      <td>2019-06-03</td>\n",
       "      <td>Mumbai</td>\n",
       "      <td>Hyderabad</td>\n",
       "      <td>BOM → GOI → PNQ → HYD</td>\n",
       "      <td>16:50</td>\n",
       "      <td>16:55</td>\n",
       "      <td>5</td>\n",
       "      <td>2</td>\n",
       "      <td>No info</td>\n",
       "      <td>17328</td>\n",
       "    </tr>\n",
       "    <tr>\n",
       "      <th>10384</th>\n",
       "      <td>Air India</td>\n",
       "      <td>2019-12-05</td>\n",
       "      <td>Mumbai</td>\n",
       "      <td>Hyderabad</td>\n",
       "      <td>BOM → HYD</td>\n",
       "      <td>19:30</td>\n",
       "      <td>20:45</td>\n",
       "      <td>75</td>\n",
       "      <td>0</td>\n",
       "      <td>No info</td>\n",
       "      <td>3626</td>\n",
       "    </tr>\n",
       "    <tr>\n",
       "      <th>1416</th>\n",
       "      <td>Air India</td>\n",
       "      <td>2019-03-18</td>\n",
       "      <td>Mumbai</td>\n",
       "      <td>Hyderabad</td>\n",
       "      <td>BOM → HYD</td>\n",
       "      <td>19:30</td>\n",
       "      <td>20:45</td>\n",
       "      <td>75</td>\n",
       "      <td>0</td>\n",
       "      <td>No info</td>\n",
       "      <td>2051</td>\n",
       "    </tr>\n",
       "    <tr>\n",
       "      <th>3708</th>\n",
       "      <td>Air India</td>\n",
       "      <td>2019-01-05</td>\n",
       "      <td>Mumbai</td>\n",
       "      <td>Hyderabad</td>\n",
       "      <td>BOM → HYD</td>\n",
       "      <td>19:30</td>\n",
       "      <td>20:45</td>\n",
       "      <td>75</td>\n",
       "      <td>0</td>\n",
       "      <td>No info</td>\n",
       "      <td>3101</td>\n",
       "    </tr>\n",
       "    <tr>\n",
       "      <th>7239</th>\n",
       "      <td>Air India</td>\n",
       "      <td>2019-03-24</td>\n",
       "      <td>Mumbai</td>\n",
       "      <td>Hyderabad</td>\n",
       "      <td>BOM → HYD</td>\n",
       "      <td>19:30</td>\n",
       "      <td>20:45</td>\n",
       "      <td>75</td>\n",
       "      <td>0</td>\n",
       "      <td>No info</td>\n",
       "      <td>2576</td>\n",
       "    </tr>\n",
       "  </tbody>\n",
       "</table>\n",
       "</div>"
      ],
      "text/plain": [
       "         Airline Date_of_Journey  Source Destination                  Route  \\\n",
       "6474   Air India      2019-06-03  Mumbai   Hyderabad  BOM → GOI → PNQ → HYD   \n",
       "10384  Air India      2019-12-05  Mumbai   Hyderabad              BOM → HYD   \n",
       "1416   Air India      2019-03-18  Mumbai   Hyderabad              BOM → HYD   \n",
       "3708   Air India      2019-01-05  Mumbai   Hyderabad              BOM → HYD   \n",
       "7239   Air India      2019-03-24  Mumbai   Hyderabad              BOM → HYD   \n",
       "\n",
       "      Dep_Time Arrival_Time  Duration  Total_Stops Additional_Info  Price  \n",
       "6474     16:50        16:55         5            2         No info  17328  \n",
       "10384    19:30        20:45        75            0         No info   3626  \n",
       "1416     19:30        20:45        75            0         No info   2051  \n",
       "3708     19:30        20:45        75            0         No info   3101  \n",
       "7239     19:30        20:45        75            0         No info   2576  "
      ]
     },
     "execution_count": 27,
     "metadata": {},
     "output_type": "execute_result"
    }
   ],
   "source": [
    "flight1 = flight1.sort_values(by='Duration')\n",
    "flight1.head()"
   ]
  },
  {
   "cell_type": "code",
   "execution_count": 28,
   "id": "db53f897",
   "metadata": {},
   "outputs": [],
   "source": [
    "flight1 = flight1.drop([6474])"
   ]
  },
  {
   "cell_type": "markdown",
   "id": "b9bd509c",
   "metadata": {},
   "source": [
    "I chose to drop the row with a trip duration of only 5 minutes. This flight had 2 stops and only a five minute difference between the departure and arrival time. This is likely where the error came from, however at this point its impossible to tell what the actual duration should be so we will drop the row. "
   ]
  },
  {
   "cell_type": "code",
   "execution_count": 29,
   "id": "e8073419",
   "metadata": {},
   "outputs": [
    {
     "data": {
      "text/plain": [
       "<function matplotlib.pyplot.show(close=None, block=None)>"
      ]
     },
     "execution_count": 29,
     "metadata": {},
     "output_type": "execute_result"
    },
    {
     "data": {
      "image/png": "[encoded data removed]",
      "text/plain": [
       "<Figure size 432x288 with 1 Axes>"
      ]
     },
     "metadata": {
      "needs_background": "light"
     },
     "output_type": "display_data"
    }
   ],
   "source": [
    "plt.hist(flight1['Duration'], bins = 10, density = False)\n",
    "plt.xticks(rotation='vertical')\n",
    "plt.show"
   ]
  },
  {
   "cell_type": "markdown",
   "id": "47b33ed6",
   "metadata": {},
   "source": [
    "What we see from the distribution of trip durations is expected. There are much fewer flights with a trip duration over 1000 minutes (16 hours). "
   ]
  },
  {
   "cell_type": "markdown",
   "id": "866c6866",
   "metadata": {},
   "source": [
    "#### Total Stops\n",
    "\n",
    "This variable represents the number of stops in between the source and destination locations. It is a discrete numerical variable represented by an integer. The min is 0, meaning a direct flight, and the max is 4. The average is nearly 1 stop, meaning most flights are not direct. "
   ]
  },
  {
   "cell_type": "code",
   "execution_count": 30,
   "id": "61c9f0dd",
   "metadata": {},
   "outputs": [
    {
     "data": {
      "text/plain": [
       "<function matplotlib.pyplot.show(close=None, block=None)>"
      ]
     },
     "execution_count": 30,
     "metadata": {},
     "output_type": "execute_result"
    },
    {
     "data": {
      "image/png": "[encoded data removed]",
      "text/plain": [
       "<Figure size 432x288 with 1 Axes>"
      ]
     },
     "metadata": {
      "needs_background": "light"
     },
     "output_type": "display_data"
    }
   ],
   "source": [
    "plt.hist(flight1['Total_Stops'], bins = 4, density = False)\n",
    "plt.xticks(rotation='vertical')\n",
    "plt.show"
   ]
  },
  {
   "cell_type": "markdown",
   "id": "07c08430",
   "metadata": {},
   "source": [
    "#### Additional Info\n",
    "\n",
    "This variable represents additional info about the flight not described elsewhere. It is a nominal categorical variable with 10 different categories, however 2 categories are the same: No info and No Info, No check-in baggage included, In-flight meal not included, Red-eye flight, Business class, Change airports, 1 long layover, 1 short layover, and 2 long layover.\n",
    "\n",
    "\n",
    "I have some suspicion about whether or not this variable will be very helpful. For one thing, some of its data is included in other columns, like the Route column. Also, there can only be one value inputetd for each in the data, however that might not really be the case. You could have 1 long layover, fly business class, and get no in flight meal, however the data doesn't allow you to represent all three of these. We will be able to investigate later if this variable is of any help for our price prediction. \n",
    "\n"
   ]
  },
  {
   "cell_type": "code",
   "execution_count": 31,
   "id": "8097d3dd",
   "metadata": {},
   "outputs": [
    {
     "data": {
      "text/plain": [
       "array(['No info', 'No check-in baggage included',\n",
       "       'In-flight meal not included', 'Red-eye flight', 'Business class',\n",
       "       'Change airports', '1 Long layover', '1 Short layover',\n",
       "       '2 Long layover'], dtype=object)"
      ]
     },
     "execution_count": 31,
     "metadata": {},
     "output_type": "execute_result"
    }
   ],
   "source": [
    "flight1['Additional_Info'] = [c.replace('No Info', 'No info') for c in flight1['Additional_Info']]\n",
    "flight1['Additional_Info'].unique()"
   ]
  },
  {
   "cell_type": "code",
   "execution_count": 32,
   "id": "0466804a",
   "metadata": {},
   "outputs": [
    {
     "name": "stdout",
     "output_type": "stream",
     "text": [
      "[8.346e+03 3.200e+02 1.982e+03 1.000e+00 4.000e+00 7.000e+00 1.900e+01\n",
      " 1.000e+00 1.000e+00]\n"
     ]
    },
    {
     "data": {
      "image/png": "[encoded data removed]",
      "text/plain": [
       "<Figure size 432x288 with 1 Axes>"
      ]
     },
     "metadata": {
      "needs_background": "light"
     },
     "output_type": "display_data"
    }
   ],
   "source": [
    "counts, bins, bars = plt.hist(flight1['Additional_Info'], bins = 9, density = False)\n",
    "plt.xticks(rotation='vertical')\n",
    "plt.show\n",
    "print(counts)"
   ]
  },
  {
   "cell_type": "markdown",
   "id": "aa9bfb7c",
   "metadata": {},
   "source": [
    "I first combined the \"No info\" and \"No Info\" categories. The majority of the flights have no info in this column. The majority of these categories have less than 10 occurrences meaning they won't provide significant information."
   ]
  },
  {
   "cell_type": "markdown",
   "id": "6c0d8ce4",
   "metadata": {},
   "source": [
    "#### Price\n",
    "\n",
    "This variable represents the total price in Indian Rupees for the entire trip. This is a discrete numerical variable. The lowest cost of a trip was 1,760 Rupees and the max cost was 79,513 Rupees. In USD this is a span from \\\\$23 &ndash; \\\\$1,042. The mean cost was 9,087 Rupees or \\\\$120, which seems reasonable. There were very little flights that cost more than 30,000 Rupees."
   ]
  },
  {
   "cell_type": "code",
   "execution_count": 33,
   "id": "8bbf2e2f",
   "metadata": {},
   "outputs": [
    {
     "name": "stdout",
     "output_type": "stream",
     "text": [
      "[6.028e+03 4.390e+03 1.810e+02 6.600e+01 7.000e+00 1.000e+00 5.000e+00\n",
      " 2.000e+00 0.000e+00 1.000e+00]\n"
     ]
    },
    {
     "data": {
      "image/png": "[encoded data removed]",
      "text/plain": [
       "<Figure size 432x288 with 1 Axes>"
      ]
     },
     "metadata": {
      "needs_background": "light"
     },
     "output_type": "display_data"
    }
   ],
   "source": [
    "counts, bins, bars = plt.hist(flight1['Price'], bins = 10, density = False)\n",
    "plt.xticks(rotation='vertical')\n",
    "plt.show\n",
    "print(counts)"
   ]
  },
  {
   "cell_type": "markdown",
   "id": "2b8a65e8",
   "metadata": {},
   "source": [
    "### Dataset 2"
   ]
  },
  {
   "cell_type": "code",
   "execution_count": 34,
   "id": "4acab1fd",
   "metadata": {},
   "outputs": [
    {
     "data": {
      "text/plain": [
       "array(['SpiceJet', 'AirAsia', 'Vistara', 'GO_FIRST', 'Indigo',\n",
       "       'Air_India'], dtype=object)"
      ]
     },
     "execution_count": 34,
     "metadata": {},
     "output_type": "execute_result"
    }
   ],
   "source": [
    "flight2['airline'].unique()"
   ]
  },
  {
   "cell_type": "markdown",
   "id": "f4695663",
   "metadata": {},
   "source": [
    "#### Airline\n",
    "\n",
    "This variable represents all the different airlines available for travel in dataset 2. This includes SpiceJet, AirAsia, Vistara, GO_FIRST, Indigo, and Air India. The most popular airlines from this collection of data was Vistara, Air India and Indigo."
   ]
  },
  {
   "cell_type": "code",
   "execution_count": 35,
   "id": "d2273217",
   "metadata": {},
   "outputs": [
    {
     "name": "stdout",
     "output_type": "stream",
     "text": [
      "[6.028e+03 4.390e+03 1.810e+02 6.600e+01 7.000e+00 1.000e+00 5.000e+00\n",
      " 2.000e+00 0.000e+00 1.000e+00]\n"
     ]
    },
    {
     "data": {
      "image/png": "[encoded data removed]",
      "text/plain": [
       "<Figure size 432x288 with 1 Axes>"
      ]
     },
     "metadata": {
      "needs_background": "light"
     },
     "output_type": "display_data"
    }
   ],
   "source": [
    "plt.hist(flight2['airline'], bins = 9, density = False)\n",
    "plt.xticks(rotation='vertical')\n",
    "plt.show\n",
    "print(counts)"
   ]
  },
  {
   "cell_type": "markdown",
   "id": "eeae2c38",
   "metadata": {},
   "source": [
    "#### Flight\n",
    "\n",
    "This variable represents the flight code for each flight taken. This is a nominal categorical variable with 1,561 categories."
   ]
  },
  {
   "cell_type": "code",
   "execution_count": 36,
   "id": "ece28992",
   "metadata": {},
   "outputs": [
    {
     "data": {
      "text/plain": [
       "1561"
      ]
     },
     "execution_count": 36,
     "metadata": {},
     "output_type": "execute_result"
    }
   ],
   "source": [
    "x = flight2['flight'].unique()\n",
    "len(x)"
   ]
  },
  {
   "cell_type": "markdown",
   "id": "6aeba1b1",
   "metadata": {},
   "source": [
    "#### Source City\n",
    "\n",
    "This variable represents the location of which the flight is departing from. This is a categorical variable consisting of 6 categories: Delhi, Mumbai, Bangalore, Kolkata, Hyderabad, Chennai. Most of the flights were made from Delhi, with the second most being from Banglore and Kolkata. The flights are pretty evenly distributed among these cities, however the most popular two were Delhi and Mumbai."
   ]
  },
  {
   "cell_type": "code",
   "execution_count": 37,
   "id": "655456cf",
   "metadata": {},
   "outputs": [
    {
     "name": "stdout",
     "output_type": "stream",
     "text": [
      "[61343.     0. 60896.     0. 52061.     0. 46347.     0. 40806. 38700.]\n"
     ]
    },
    {
     "data": {
      "image/png": "[encoded data removed]",
      "text/plain": [
       "<Figure size 432x288 with 1 Axes>"
      ]
     },
     "metadata": {
      "needs_background": "light"
     },
     "output_type": "display_data"
    }
   ],
   "source": [
    "counts, bins, bars = plt.hist(flight2['source_city'], bins = 10, density = False)\n",
    "plt.xticks(rotation='vertical')\n",
    "plt.show\n",
    "print(counts)"
   ]
  },
  {
   "cell_type": "markdown",
   "id": "2a518728",
   "metadata": {},
   "source": [
    "#### Departure Time\n",
    "\n",
    "This variable represents the time that the flight departed the airport. This dataset doesn't include any information regarding the date, so we don't know what date it departed on, just the time. This dataset uses 6 ordinal categories to define the time: Evening, Early Morning, Morning, Afternoon, Night, and Late Night. This makes it a little hard to compare this dataset to the other because we aren't exactly sure what hours belong to which category. Again, the data is pretty evenly distributed, but most flights were flown in the morning and the least late at night. "
   ]
  },
  {
   "cell_type": "code",
   "execution_count": 38,
   "id": "df6b58d8",
   "metadata": {},
   "outputs": [
    {
     "name": "stdout",
     "output_type": "stream",
     "text": [
      "[65102. 66790. 71146. 47794. 48015.  1306.]\n"
     ]
    },
    {
     "data": {
      "image/png": "[encoded data removed]",
      "text/plain": [
       "<Figure size 432x288 with 1 Axes>"
      ]
     },
     "metadata": {
      "needs_background": "light"
     },
     "output_type": "display_data"
    }
   ],
   "source": [
    "counts, bins, bars = plt.hist(flight2['departure_time'], bins = 6, density = False)\n",
    "plt.xticks(rotation='vertical')\n",
    "plt.show\n",
    "print(counts)"
   ]
  },
  {
   "cell_type": "markdown",
   "id": "f60c6c29",
   "metadata": {},
   "source": [
    "#### Stops\n",
    "\n",
    "This variable represents the number of stops in between the source and destination locations. It is a categorical variable with three categories: zero, one, and two or more. We can't easily change this to an integer because two would represent two or more. This means that this data would later have to be one hot encoded. The majority of flights only had one stop, 250,863 to be exact. There were more direct flights than flights with two or more stops. \n"
   ]
  },
  {
   "cell_type": "code",
   "execution_count": 39,
   "id": "942590a2",
   "metadata": {},
   "outputs": [
    {
     "name": "stdout",
     "output_type": "stream",
     "text": [
      "[ 36004. 250863.  13286.]\n"
     ]
    },
    {
     "data": {
      "image/png": "[encoded data removed]",
      "text/plain": [
       "<Figure size 432x288 with 1 Axes>"
      ]
     },
     "metadata": {
      "needs_background": "light"
     },
     "output_type": "display_data"
    }
   ],
   "source": [
    "counts, bins, bars = plt.hist(flight2['stops'], bins = 3, density = False)\n",
    "plt.xticks(rotation='vertical')\n",
    "plt.show\n",
    "print(counts)"
   ]
  },
  {
   "cell_type": "markdown",
   "id": "5af2c753",
   "metadata": {},
   "source": [
    "#### Arrival Time\n",
    "\n",
    "This variable represents the time that the flight arrives at its destination. This column uses the same ordinal categories as departure time: Evening, Early Morning, Morning, Afternoon, Night, and Late Night. It introduces the same limitations as departure time, this column can't be compared to the other datasets arrival time column with 100% confidence because we don't know what hours define the categories. This column is less equally distributed. The most common arrival times are night, morning, and evening. "
   ]
  },
  {
   "cell_type": "code",
   "execution_count": 40,
   "id": "8b112541",
   "metadata": {},
   "outputs": [
    {
     "name": "stdout",
     "output_type": "stream",
     "text": [
      "[91538. 62735. 15417. 38139. 78323. 14001.]\n"
     ]
    },
    {
     "data": {
      "image/png": "[encoded data removed]",
      "text/plain": [
       "<Figure size 432x288 with 1 Axes>"
      ]
     },
     "metadata": {
      "needs_background": "light"
     },
     "output_type": "display_data"
    }
   ],
   "source": [
    "counts, bins, bars = plt.hist(flight2['arrival_time'], bins = 6, density = False)\n",
    "plt.xticks(rotation='vertical')\n",
    "plt.show\n",
    "print(counts)"
   ]
  },
  {
   "cell_type": "markdown",
   "id": "80494039",
   "metadata": {},
   "source": [
    "#### Destination City\n",
    "\n",
    "This variable represents the location of which the flight is landing at. This is a nominal categorical variable consisting of 6 categories: Mumbai, Bangalore, Kolkata, Hyderabad, Chennai, Delhi. For this variable the flights are pretty evenly distributed with Mumbai and Delhi being the most popular. "
   ]
  },
  {
   "cell_type": "code",
   "execution_count": 41,
   "id": "cfad3d7e",
   "metadata": {},
   "outputs": [
    {
     "name": "stdout",
     "output_type": "stream",
     "text": [
      "[59097. 51068. 49534. 42726. 40368. 57360.]\n"
     ]
    },
    {
     "data": {
      "image/png": "[encoded data removed]",
      "text/plain": [
       "<Figure size 432x288 with 1 Axes>"
      ]
     },
     "metadata": {
      "needs_background": "light"
     },
     "output_type": "display_data"
    }
   ],
   "source": [
    "counts, bins, bars = plt.hist(flight2['destination_city'], bins = 6, density = False)\n",
    "plt.xticks(rotation='vertical')\n",
    "plt.show\n",
    "print(counts)"
   ]
  },
  {
   "cell_type": "markdown",
   "id": "2be7ca3c",
   "metadata": {},
   "source": [
    "#### Class\n",
    "\n",
    "This variable represents the class of seating for each flight. It is a nominal categorical feature with 2 categories: business and economy. The other dataset included this information in its \"Additional Info\" column. As expected because its the cheaper option, the majority of the data consists of economy flights. "
   ]
  },
  {
   "cell_type": "code",
   "execution_count": 42,
   "id": "b7ddca8b",
   "metadata": {},
   "outputs": [
    {
     "name": "stdout",
     "output_type": "stream",
     "text": [
      "[206666.  93487.]\n"
     ]
    },
    {
     "data": {
      "image/png": "[encoded data removed]",
      "text/plain": [
       "<Figure size 432x288 with 1 Axes>"
      ]
     },
     "metadata": {
      "needs_background": "light"
     },
     "output_type": "display_data"
    }
   ],
   "source": [
    "counts, bins, bars = plt.hist(flight2['class'], bins = 2, density = False)\n",
    "plt.xticks(rotation='vertical')\n",
    "plt.show\n",
    "print(counts)"
   ]
  },
  {
   "cell_type": "markdown",
   "id": "e65edc7c",
   "metadata": {},
   "source": [
    "#### Duration\n",
    "\n",
    "This variable represents the duration of time between departing from the source city and arriving at the destination city in hours. This is a continuous numerical variable represented by a float. For flights that include multiple stops the duration will likely be much higher. The minimum duration is about 50 minutes, the max duration is about 50 hours. The mean duration is 12 hours, which is a little higher than I would expect because I would think most flights are around 3-4 hours. "
   ]
  },
  {
   "cell_type": "code",
   "execution_count": 43,
   "id": "5f6fa547",
   "metadata": {},
   "outputs": [
    {
     "data": {
      "text/html": [
       "<div>\n",
       "<style scoped>\n",
       "    .dataframe tbody tr th:only-of-type {\n",
       "        vertical-align: middle;\n",
       "    }\n",
       "\n",
       "    .dataframe tbody tr th {\n",
       "        vertical-align: top;\n",
       "    }\n",
       "\n",
       "    .dataframe thead th {\n",
       "        text-align: right;\n",
       "    }\n",
       "</style>\n",
       "<table border=\"1\" class=\"dataframe\">\n",
       "  <thead>\n",
       "    <tr style=\"text-align: right;\">\n",
       "      <th></th>\n",
       "      <th>duration</th>\n",
       "      <th>days_left</th>\n",
       "      <th>price</th>\n",
       "    </tr>\n",
       "  </thead>\n",
       "  <tbody>\n",
       "    <tr>\n",
       "      <th>count</th>\n",
       "      <td>300153.000000</td>\n",
       "      <td>300153.000000</td>\n",
       "      <td>300153.000000</td>\n",
       "    </tr>\n",
       "    <tr>\n",
       "      <th>mean</th>\n",
       "      <td>12.221021</td>\n",
       "      <td>26.004751</td>\n",
       "      <td>20889.660523</td>\n",
       "    </tr>\n",
       "    <tr>\n",
       "      <th>std</th>\n",
       "      <td>7.191997</td>\n",
       "      <td>13.561004</td>\n",
       "      <td>22697.767366</td>\n",
       "    </tr>\n",
       "    <tr>\n",
       "      <th>min</th>\n",
       "      <td>0.830000</td>\n",
       "      <td>1.000000</td>\n",
       "      <td>1105.000000</td>\n",
       "    </tr>\n",
       "    <tr>\n",
       "      <th>25%</th>\n",
       "      <td>6.830000</td>\n",
       "      <td>15.000000</td>\n",
       "      <td>4783.000000</td>\n",
       "    </tr>\n",
       "    <tr>\n",
       "      <th>50%</th>\n",
       "      <td>11.250000</td>\n",
       "      <td>26.000000</td>\n",
       "      <td>7425.000000</td>\n",
       "    </tr>\n",
       "    <tr>\n",
       "      <th>75%</th>\n",
       "      <td>16.170000</td>\n",
       "      <td>38.000000</td>\n",
       "      <td>42521.000000</td>\n",
       "    </tr>\n",
       "    <tr>\n",
       "      <th>max</th>\n",
       "      <td>49.830000</td>\n",
       "      <td>49.000000</td>\n",
       "      <td>123071.000000</td>\n",
       "    </tr>\n",
       "  </tbody>\n",
       "</table>\n",
       "</div>"
      ],
      "text/plain": [
       "            duration      days_left          price\n",
       "count  300153.000000  300153.000000  300153.000000\n",
       "mean       12.221021      26.004751   20889.660523\n",
       "std         7.191997      13.561004   22697.767366\n",
       "min         0.830000       1.000000    1105.000000\n",
       "25%         6.830000      15.000000    4783.000000\n",
       "50%        11.250000      26.000000    7425.000000\n",
       "75%        16.170000      38.000000   42521.000000\n",
       "max        49.830000      49.000000  123071.000000"
      ]
     },
     "execution_count": 43,
     "metadata": {},
     "output_type": "execute_result"
    }
   ],
   "source": [
    "flight2.describe()"
   ]
  },
  {
   "cell_type": "markdown",
   "id": "ab33a63e",
   "metadata": {},
   "source": [
    "#### Days Left\n",
    "\n",
    "This variable represents how long before the departure date the ticket was booked. This is an interesting variable that wasn't taken into account in the previous dataset. There is a general trend of an increased price the closer to the departure date that you book a flight. This is a discrete numeric value represented by an integer. The min days left is 1 day and the max days left is 49 days. The average days left is 26 which seems like a usual time for book a flight in advance. The histogram reveals that this distribution is pretty even, with a quick decrease as you get within a couple days of the departure date. "
   ]
  },
  {
   "cell_type": "code",
   "execution_count": 44,
   "id": "13ab0135",
   "metadata": {},
   "outputs": [
    {
     "name": "stdout",
     "output_type": "stream",
     "text": [
      "[1927. 4026. 4248. 5077. 5392. 5740. 5703. 5767. 5665. 5822. 6417. 6381.\n",
      " 6404. 6349. 6340. 6272. 6419. 6602. 6537. 6502. 6479. 6494. 6401. 6542.\n",
      " 6633. 6573. 6360. 6522. 6397. 6501. 6534. 6585. 6532. 6412. 6291. 6490.\n",
      " 6476. 6512. 6593. 6531. 6525. 6497. 6472. 6436. 6314. 6160. 6069. 6078.\n",
      " 6154.]\n"
     ]
    },
    {
     "data": {
      "image/png": "[encoded data removed]",
      "text/plain": [
       "<Figure size 432x288 with 1 Axes>"
      ]
     },
     "metadata": {
      "needs_background": "light"
     },
     "output_type": "display_data"
    }
   ],
   "source": [
    "counts, bins, bars = plt.hist(flight2['days_left'], bins = 49, density = False)\n",
    "plt.xticks(rotation='vertical')\n",
    "plt.show\n",
    "print(counts)"
   ]
  },
  {
   "cell_type": "markdown",
   "id": "3a45115b",
   "metadata": {},
   "source": [
    "#### Price\n",
    "\n",
    "This variable represents the total price in Indian Rupees for the entire trip. This is a discrete numerical variable. The lowest cost of a trip was 1,105 Rupees and the max cost was 123,071 Rupees. In USD this is a span from $14.50 – $1,613. The mean cost was 20,889 Rupees or $273, which seems reasonable. There were very little flights that cost more than 30,000 Rupees. Looking at the histogram you can see that the majority of tickets cost less than 20,000 Rupees, however there is another peak at around 40,000 - 60,000 Rupees. This is likely because there are a larger number of business class tickets purchased in this dataset than the previous. So we can see the peaks of the two different types of tickets. "
   ]
  },
  {
   "cell_type": "code",
   "execution_count": 45,
   "id": "cf642b75",
   "metadata": {},
   "outputs": [
    {
     "data": {
      "text/html": [
       "<div>\n",
       "<style scoped>\n",
       "    .dataframe tbody tr th:only-of-type {\n",
       "        vertical-align: middle;\n",
       "    }\n",
       "\n",
       "    .dataframe tbody tr th {\n",
       "        vertical-align: top;\n",
       "    }\n",
       "\n",
       "    .dataframe thead th {\n",
       "        text-align: right;\n",
       "    }\n",
       "</style>\n",
       "<table border=\"1\" class=\"dataframe\">\n",
       "  <thead>\n",
       "    <tr style=\"text-align: right;\">\n",
       "      <th></th>\n",
       "      <th>duration</th>\n",
       "      <th>days_left</th>\n",
       "      <th>price</th>\n",
       "    </tr>\n",
       "  </thead>\n",
       "  <tbody>\n",
       "    <tr>\n",
       "      <th>count</th>\n",
       "      <td>300153.000000</td>\n",
       "      <td>300153.000000</td>\n",
       "      <td>300153.000000</td>\n",
       "    </tr>\n",
       "    <tr>\n",
       "      <th>mean</th>\n",
       "      <td>12.221021</td>\n",
       "      <td>26.004751</td>\n",
       "      <td>20889.660523</td>\n",
       "    </tr>\n",
       "    <tr>\n",
       "      <th>std</th>\n",
       "      <td>7.191997</td>\n",
       "      <td>13.561004</td>\n",
       "      <td>22697.767366</td>\n",
       "    </tr>\n",
       "    <tr>\n",
       "      <th>min</th>\n",
       "      <td>0.830000</td>\n",
       "      <td>1.000000</td>\n",
       "      <td>1105.000000</td>\n",
       "    </tr>\n",
       "    <tr>\n",
       "      <th>25%</th>\n",
       "      <td>6.830000</td>\n",
       "      <td>15.000000</td>\n",
       "      <td>4783.000000</td>\n",
       "    </tr>\n",
       "    <tr>\n",
       "      <th>50%</th>\n",
       "      <td>11.250000</td>\n",
       "      <td>26.000000</td>\n",
       "      <td>7425.000000</td>\n",
       "    </tr>\n",
       "    <tr>\n",
       "      <th>75%</th>\n",
       "      <td>16.170000</td>\n",
       "      <td>38.000000</td>\n",
       "      <td>42521.000000</td>\n",
       "    </tr>\n",
       "    <tr>\n",
       "      <th>max</th>\n",
       "      <td>49.830000</td>\n",
       "      <td>49.000000</td>\n",
       "      <td>123071.000000</td>\n",
       "    </tr>\n",
       "  </tbody>\n",
       "</table>\n",
       "</div>"
      ],
      "text/plain": [
       "            duration      days_left          price\n",
       "count  300153.000000  300153.000000  300153.000000\n",
       "mean       12.221021      26.004751   20889.660523\n",
       "std         7.191997      13.561004   22697.767366\n",
       "min         0.830000       1.000000    1105.000000\n",
       "25%         6.830000      15.000000    4783.000000\n",
       "50%        11.250000      26.000000    7425.000000\n",
       "75%        16.170000      38.000000   42521.000000\n",
       "max        49.830000      49.000000  123071.000000"
      ]
     },
     "execution_count": 45,
     "metadata": {},
     "output_type": "execute_result"
    }
   ],
   "source": [
    "flight2.describe()"
   ]
  },
  {
   "cell_type": "code",
   "execution_count": 46,
   "id": "7ad3e129",
   "metadata": {},
   "outputs": [
    {
     "name": "stdout",
     "output_type": "stream",
     "text": [
      "[1.93661e+05 1.64290e+04 6.99100e+03 2.35870e+04 4.26690e+04 1.26380e+04\n",
      " 3.39200e+03 6.56000e+02 1.15000e+02 1.50000e+01]\n"
     ]
    },
    {
     "data": {
      "image/png": "[encoded data removed]",
      "text/plain": [
       "<Figure size 432x288 with 1 Axes>"
      ]
     },
     "metadata": {
      "needs_background": "light"
     },
     "output_type": "display_data"
    }
   ],
   "source": [
    "counts, bins, bars = plt.hist(flight2['price'], bins = 10, density = False)\n",
    "plt.xticks(rotation='vertical')\n",
    "plt.show\n",
    "print(counts)"
   ]
  },
  {
   "cell_type": "code",
   "execution_count": 47,
   "id": "d1d78cc9",
   "metadata": {},
   "outputs": [
    {
     "data": {
      "text/html": [
       "<div>\n",
       "<style scoped>\n",
       "    .dataframe tbody tr th:only-of-type {\n",
       "        vertical-align: middle;\n",
       "    }\n",
       "\n",
       "    .dataframe tbody tr th {\n",
       "        vertical-align: top;\n",
       "    }\n",
       "\n",
       "    .dataframe thead th {\n",
       "        text-align: right;\n",
       "    }\n",
       "</style>\n",
       "<table border=\"1\" class=\"dataframe\">\n",
       "  <thead>\n",
       "    <tr style=\"text-align: right;\">\n",
       "      <th></th>\n",
       "      <th>airline</th>\n",
       "      <th>flight</th>\n",
       "      <th>source_city</th>\n",
       "      <th>departure_time</th>\n",
       "      <th>stops</th>\n",
       "      <th>arrival_time</th>\n",
       "      <th>destination_city</th>\n",
       "      <th>class</th>\n",
       "      <th>duration</th>\n",
       "      <th>days_left</th>\n",
       "      <th>price</th>\n",
       "    </tr>\n",
       "  </thead>\n",
       "  <tbody>\n",
       "    <tr>\n",
       "      <th>0</th>\n",
       "      <td>SpiceJet</td>\n",
       "      <td>SG-8709</td>\n",
       "      <td>Delhi</td>\n",
       "      <td>Evening</td>\n",
       "      <td>zero</td>\n",
       "      <td>Night</td>\n",
       "      <td>Mumbai</td>\n",
       "      <td>Economy</td>\n",
       "      <td>2.17</td>\n",
       "      <td>1</td>\n",
       "      <td>5953</td>\n",
       "    </tr>\n",
       "    <tr>\n",
       "      <th>1</th>\n",
       "      <td>SpiceJet</td>\n",
       "      <td>SG-8157</td>\n",
       "      <td>Delhi</td>\n",
       "      <td>Early_Morning</td>\n",
       "      <td>zero</td>\n",
       "      <td>Morning</td>\n",
       "      <td>Mumbai</td>\n",
       "      <td>Economy</td>\n",
       "      <td>2.33</td>\n",
       "      <td>1</td>\n",
       "      <td>5953</td>\n",
       "    </tr>\n",
       "    <tr>\n",
       "      <th>2</th>\n",
       "      <td>AirAsia</td>\n",
       "      <td>I5-764</td>\n",
       "      <td>Delhi</td>\n",
       "      <td>Early_Morning</td>\n",
       "      <td>zero</td>\n",
       "      <td>Early_Morning</td>\n",
       "      <td>Mumbai</td>\n",
       "      <td>Economy</td>\n",
       "      <td>2.17</td>\n",
       "      <td>1</td>\n",
       "      <td>5956</td>\n",
       "    </tr>\n",
       "    <tr>\n",
       "      <th>3</th>\n",
       "      <td>Vistara</td>\n",
       "      <td>UK-995</td>\n",
       "      <td>Delhi</td>\n",
       "      <td>Morning</td>\n",
       "      <td>zero</td>\n",
       "      <td>Afternoon</td>\n",
       "      <td>Mumbai</td>\n",
       "      <td>Economy</td>\n",
       "      <td>2.25</td>\n",
       "      <td>1</td>\n",
       "      <td>5955</td>\n",
       "    </tr>\n",
       "    <tr>\n",
       "      <th>4</th>\n",
       "      <td>Vistara</td>\n",
       "      <td>UK-963</td>\n",
       "      <td>Delhi</td>\n",
       "      <td>Morning</td>\n",
       "      <td>zero</td>\n",
       "      <td>Morning</td>\n",
       "      <td>Mumbai</td>\n",
       "      <td>Economy</td>\n",
       "      <td>2.33</td>\n",
       "      <td>1</td>\n",
       "      <td>5955</td>\n",
       "    </tr>\n",
       "  </tbody>\n",
       "</table>\n",
       "</div>"
      ],
      "text/plain": [
       "    airline   flight source_city departure_time stops   arrival_time  \\\n",
       "0  SpiceJet  SG-8709       Delhi        Evening  zero          Night   \n",
       "1  SpiceJet  SG-8157       Delhi  Early_Morning  zero        Morning   \n",
       "2   AirAsia   I5-764       Delhi  Early_Morning  zero  Early_Morning   \n",
       "3   Vistara   UK-995       Delhi        Morning  zero      Afternoon   \n",
       "4   Vistara   UK-963       Delhi        Morning  zero        Morning   \n",
       "\n",
       "  destination_city    class  duration  days_left  price  \n",
       "0           Mumbai  Economy      2.17          1   5953  \n",
       "1           Mumbai  Economy      2.33          1   5953  \n",
       "2           Mumbai  Economy      2.17          1   5956  \n",
       "3           Mumbai  Economy      2.25          1   5955  \n",
       "4           Mumbai  Economy      2.33          1   5955  "
      ]
     },
     "execution_count": 47,
     "metadata": {},
     "output_type": "execute_result"
    }
   ],
   "source": [
    "flight2.head()\n"
   ]
  },
  {
   "cell_type": "markdown",
   "id": "b616f18f",
   "metadata": {},
   "source": [
    "In order to use this data to make predictions, we will need to be able to one hot encode or ordinal encode all the categorical variables that we want to use in our model, but that can be done later when we are ready to make our model. "
   ]
  },
  {
   "cell_type": "markdown",
   "id": "e3afbb04-3bee-4c47-b4ba-d2bfc247492a",
   "metadata": {},
   "source": [
    "### Part 4 - Merge the data\n",
    "\n",
    "Now that you have a better feel for each of your two (or three, for the 7394 students) data sets, it is time to merge them. Describe your strategy for merging the data sets and then actually perform the merge.  \n",
    "\n",
    "Develop a strategy for verifying that the data is properly merged (hoping and finger-crossing are not valid strategies). "
   ]
  },
  {
   "cell_type": "code",
   "execution_count": 48,
   "id": "6ccfb384-f695-4a49-a084-d373d45111f6",
   "metadata": {},
   "outputs": [
    {
     "data": {
      "text/html": [
       "<div>\n",
       "<style scoped>\n",
       "    .dataframe tbody tr th:only-of-type {\n",
       "        vertical-align: middle;\n",
       "    }\n",
       "\n",
       "    .dataframe tbody tr th {\n",
       "        vertical-align: top;\n",
       "    }\n",
       "\n",
       "    .dataframe thead th {\n",
       "        text-align: right;\n",
       "    }\n",
       "</style>\n",
       "<table border=\"1\" class=\"dataframe\">\n",
       "  <thead>\n",
       "    <tr style=\"text-align: right;\">\n",
       "      <th></th>\n",
       "      <th>Airline</th>\n",
       "      <th>Date_of_Journey</th>\n",
       "      <th>Source</th>\n",
       "      <th>Destination</th>\n",
       "      <th>Route</th>\n",
       "      <th>Dep_Time</th>\n",
       "      <th>Arrival_Time</th>\n",
       "      <th>Duration</th>\n",
       "      <th>Total_Stops</th>\n",
       "      <th>Additional_Info</th>\n",
       "      <th>Price</th>\n",
       "    </tr>\n",
       "  </thead>\n",
       "  <tbody>\n",
       "    <tr>\n",
       "      <th>10384</th>\n",
       "      <td>Air India</td>\n",
       "      <td>2019-12-05</td>\n",
       "      <td>Mumbai</td>\n",
       "      <td>Hyderabad</td>\n",
       "      <td>BOM → HYD</td>\n",
       "      <td>19:30</td>\n",
       "      <td>20:45</td>\n",
       "      <td>75</td>\n",
       "      <td>0</td>\n",
       "      <td>No info</td>\n",
       "      <td>3626</td>\n",
       "    </tr>\n",
       "    <tr>\n",
       "      <th>1416</th>\n",
       "      <td>Air India</td>\n",
       "      <td>2019-03-18</td>\n",
       "      <td>Mumbai</td>\n",
       "      <td>Hyderabad</td>\n",
       "      <td>BOM → HYD</td>\n",
       "      <td>19:30</td>\n",
       "      <td>20:45</td>\n",
       "      <td>75</td>\n",
       "      <td>0</td>\n",
       "      <td>No info</td>\n",
       "      <td>2051</td>\n",
       "    </tr>\n",
       "    <tr>\n",
       "      <th>3708</th>\n",
       "      <td>Air India</td>\n",
       "      <td>2019-01-05</td>\n",
       "      <td>Mumbai</td>\n",
       "      <td>Hyderabad</td>\n",
       "      <td>BOM → HYD</td>\n",
       "      <td>19:30</td>\n",
       "      <td>20:45</td>\n",
       "      <td>75</td>\n",
       "      <td>0</td>\n",
       "      <td>No info</td>\n",
       "      <td>3101</td>\n",
       "    </tr>\n",
       "    <tr>\n",
       "      <th>7239</th>\n",
       "      <td>Air India</td>\n",
       "      <td>2019-03-24</td>\n",
       "      <td>Mumbai</td>\n",
       "      <td>Hyderabad</td>\n",
       "      <td>BOM → HYD</td>\n",
       "      <td>19:30</td>\n",
       "      <td>20:45</td>\n",
       "      <td>75</td>\n",
       "      <td>0</td>\n",
       "      <td>No info</td>\n",
       "      <td>2576</td>\n",
       "    </tr>\n",
       "    <tr>\n",
       "      <th>5060</th>\n",
       "      <td>Air India</td>\n",
       "      <td>2019-06-06</td>\n",
       "      <td>Mumbai</td>\n",
       "      <td>Hyderabad</td>\n",
       "      <td>BOM → HYD</td>\n",
       "      <td>19:30</td>\n",
       "      <td>20:45</td>\n",
       "      <td>75</td>\n",
       "      <td>0</td>\n",
       "      <td>No info</td>\n",
       "      <td>3101</td>\n",
       "    </tr>\n",
       "  </tbody>\n",
       "</table>\n",
       "</div>"
      ],
      "text/plain": [
       "         Airline Date_of_Journey  Source Destination      Route Dep_Time  \\\n",
       "10384  Air India      2019-12-05  Mumbai   Hyderabad  BOM → HYD    19:30   \n",
       "1416   Air India      2019-03-18  Mumbai   Hyderabad  BOM → HYD    19:30   \n",
       "3708   Air India      2019-01-05  Mumbai   Hyderabad  BOM → HYD    19:30   \n",
       "7239   Air India      2019-03-24  Mumbai   Hyderabad  BOM → HYD    19:30   \n",
       "5060   Air India      2019-06-06  Mumbai   Hyderabad  BOM → HYD    19:30   \n",
       "\n",
       "      Arrival_Time  Duration  Total_Stops Additional_Info  Price  \n",
       "10384        20:45        75            0         No info   3626  \n",
       "1416         20:45        75            0         No info   2051  \n",
       "3708         20:45        75            0         No info   3101  \n",
       "7239         20:45        75            0         No info   2576  \n",
       "5060         20:45        75            0         No info   3101  "
      ]
     },
     "execution_count": 48,
     "metadata": {},
     "output_type": "execute_result"
    }
   ],
   "source": [
    "flight1.head()"
   ]
  },
  {
   "cell_type": "code",
   "execution_count": 49,
   "id": "0876d51a",
   "metadata": {},
   "outputs": [
    {
     "data": {
      "text/html": [
       "<div>\n",
       "<style scoped>\n",
       "    .dataframe tbody tr th:only-of-type {\n",
       "        vertical-align: middle;\n",
       "    }\n",
       "\n",
       "    .dataframe tbody tr th {\n",
       "        vertical-align: top;\n",
       "    }\n",
       "\n",
       "    .dataframe thead th {\n",
       "        text-align: right;\n",
       "    }\n",
       "</style>\n",
       "<table border=\"1\" class=\"dataframe\">\n",
       "  <thead>\n",
       "    <tr style=\"text-align: right;\">\n",
       "      <th></th>\n",
       "      <th>airline</th>\n",
       "      <th>flight</th>\n",
       "      <th>source_city</th>\n",
       "      <th>departure_time</th>\n",
       "      <th>stops</th>\n",
       "      <th>arrival_time</th>\n",
       "      <th>destination_city</th>\n",
       "      <th>class</th>\n",
       "      <th>duration</th>\n",
       "      <th>days_left</th>\n",
       "      <th>price</th>\n",
       "    </tr>\n",
       "  </thead>\n",
       "  <tbody>\n",
       "    <tr>\n",
       "      <th>0</th>\n",
       "      <td>SpiceJet</td>\n",
       "      <td>SG-8709</td>\n",
       "      <td>Delhi</td>\n",
       "      <td>Evening</td>\n",
       "      <td>zero</td>\n",
       "      <td>Night</td>\n",
       "      <td>Mumbai</td>\n",
       "      <td>Economy</td>\n",
       "      <td>2.17</td>\n",
       "      <td>1</td>\n",
       "      <td>5953</td>\n",
       "    </tr>\n",
       "    <tr>\n",
       "      <th>1</th>\n",
       "      <td>SpiceJet</td>\n",
       "      <td>SG-8157</td>\n",
       "      <td>Delhi</td>\n",
       "      <td>Early_Morning</td>\n",
       "      <td>zero</td>\n",
       "      <td>Morning</td>\n",
       "      <td>Mumbai</td>\n",
       "      <td>Economy</td>\n",
       "      <td>2.33</td>\n",
       "      <td>1</td>\n",
       "      <td>5953</td>\n",
       "    </tr>\n",
       "    <tr>\n",
       "      <th>2</th>\n",
       "      <td>AirAsia</td>\n",
       "      <td>I5-764</td>\n",
       "      <td>Delhi</td>\n",
       "      <td>Early_Morning</td>\n",
       "      <td>zero</td>\n",
       "      <td>Early_Morning</td>\n",
       "      <td>Mumbai</td>\n",
       "      <td>Economy</td>\n",
       "      <td>2.17</td>\n",
       "      <td>1</td>\n",
       "      <td>5956</td>\n",
       "    </tr>\n",
       "    <tr>\n",
       "      <th>3</th>\n",
       "      <td>Vistara</td>\n",
       "      <td>UK-995</td>\n",
       "      <td>Delhi</td>\n",
       "      <td>Morning</td>\n",
       "      <td>zero</td>\n",
       "      <td>Afternoon</td>\n",
       "      <td>Mumbai</td>\n",
       "      <td>Economy</td>\n",
       "      <td>2.25</td>\n",
       "      <td>1</td>\n",
       "      <td>5955</td>\n",
       "    </tr>\n",
       "    <tr>\n",
       "      <th>4</th>\n",
       "      <td>Vistara</td>\n",
       "      <td>UK-963</td>\n",
       "      <td>Delhi</td>\n",
       "      <td>Morning</td>\n",
       "      <td>zero</td>\n",
       "      <td>Morning</td>\n",
       "      <td>Mumbai</td>\n",
       "      <td>Economy</td>\n",
       "      <td>2.33</td>\n",
       "      <td>1</td>\n",
       "      <td>5955</td>\n",
       "    </tr>\n",
       "  </tbody>\n",
       "</table>\n",
       "</div>"
      ],
      "text/plain": [
       "    airline   flight source_city departure_time stops   arrival_time  \\\n",
       "0  SpiceJet  SG-8709       Delhi        Evening  zero          Night   \n",
       "1  SpiceJet  SG-8157       Delhi  Early_Morning  zero        Morning   \n",
       "2   AirAsia   I5-764       Delhi  Early_Morning  zero  Early_Morning   \n",
       "3   Vistara   UK-995       Delhi        Morning  zero      Afternoon   \n",
       "4   Vistara   UK-963       Delhi        Morning  zero        Morning   \n",
       "\n",
       "  destination_city    class  duration  days_left  price  \n",
       "0           Mumbai  Economy      2.17          1   5953  \n",
       "1           Mumbai  Economy      2.33          1   5953  \n",
       "2           Mumbai  Economy      2.17          1   5956  \n",
       "3           Mumbai  Economy      2.25          1   5955  \n",
       "4           Mumbai  Economy      2.33          1   5955  "
      ]
     },
     "execution_count": 49,
     "metadata": {},
     "output_type": "execute_result"
    }
   ],
   "source": [
    "flight2.head()"
   ]
  },
  {
   "cell_type": "markdown",
   "id": "0a7cf618",
   "metadata": {},
   "source": [
    "In order to merge the datasets I first want to look at all the columns and see which ones they have in common. Then I want to make sure that the columns that they have in common have the same column name and data types. For the columns that they don't have in common, I want to mirror those columns into the other dataset. Now they should have identical columns. At this point I can merge the two datasets. Then I can check the unique values of each column and see if there are similar values with slightly different names. I can change those to minimize the unique values. To make sure the merge went correctly I can check the datatypes of each column and the number of rows and compare it with the number of rows I was expecting. "
   ]
  },
  {
   "cell_type": "markdown",
   "id": "bf1809c9",
   "metadata": {},
   "source": [
    "First I will see what columns they have in common. These appear to be airline, source city, departure time, stops, arrival time, destination city, duration, and price. My first step is going to be to change these column labels in dataset 2 to match dataset 1. "
   ]
  },
  {
   "cell_type": "code",
   "execution_count": 50,
   "id": "697ff62c",
   "metadata": {},
   "outputs": [
    {
     "data": {
      "text/html": [
       "<div>\n",
       "<style scoped>\n",
       "    .dataframe tbody tr th:only-of-type {\n",
       "        vertical-align: middle;\n",
       "    }\n",
       "\n",
       "    .dataframe tbody tr th {\n",
       "        vertical-align: top;\n",
       "    }\n",
       "\n",
       "    .dataframe thead th {\n",
       "        text-align: right;\n",
       "    }\n",
       "</style>\n",
       "<table border=\"1\" class=\"dataframe\">\n",
       "  <thead>\n",
       "    <tr style=\"text-align: right;\">\n",
       "      <th></th>\n",
       "      <th>Airline</th>\n",
       "      <th>flight</th>\n",
       "      <th>Source</th>\n",
       "      <th>Dep_Time</th>\n",
       "      <th>Total_Stops</th>\n",
       "      <th>Arrival_Time</th>\n",
       "      <th>Destination</th>\n",
       "      <th>class</th>\n",
       "      <th>Duration</th>\n",
       "      <th>days_left</th>\n",
       "      <th>Price</th>\n",
       "    </tr>\n",
       "  </thead>\n",
       "  <tbody>\n",
       "    <tr>\n",
       "      <th>0</th>\n",
       "      <td>SpiceJet</td>\n",
       "      <td>SG-8709</td>\n",
       "      <td>Delhi</td>\n",
       "      <td>Evening</td>\n",
       "      <td>zero</td>\n",
       "      <td>Night</td>\n",
       "      <td>Mumbai</td>\n",
       "      <td>Economy</td>\n",
       "      <td>2.17</td>\n",
       "      <td>1</td>\n",
       "      <td>5953</td>\n",
       "    </tr>\n",
       "    <tr>\n",
       "      <th>1</th>\n",
       "      <td>SpiceJet</td>\n",
       "      <td>SG-8157</td>\n",
       "      <td>Delhi</td>\n",
       "      <td>Early_Morning</td>\n",
       "      <td>zero</td>\n",
       "      <td>Morning</td>\n",
       "      <td>Mumbai</td>\n",
       "      <td>Economy</td>\n",
       "      <td>2.33</td>\n",
       "      <td>1</td>\n",
       "      <td>5953</td>\n",
       "    </tr>\n",
       "    <tr>\n",
       "      <th>2</th>\n",
       "      <td>AirAsia</td>\n",
       "      <td>I5-764</td>\n",
       "      <td>Delhi</td>\n",
       "      <td>Early_Morning</td>\n",
       "      <td>zero</td>\n",
       "      <td>Early_Morning</td>\n",
       "      <td>Mumbai</td>\n",
       "      <td>Economy</td>\n",
       "      <td>2.17</td>\n",
       "      <td>1</td>\n",
       "      <td>5956</td>\n",
       "    </tr>\n",
       "    <tr>\n",
       "      <th>3</th>\n",
       "      <td>Vistara</td>\n",
       "      <td>UK-995</td>\n",
       "      <td>Delhi</td>\n",
       "      <td>Morning</td>\n",
       "      <td>zero</td>\n",
       "      <td>Afternoon</td>\n",
       "      <td>Mumbai</td>\n",
       "      <td>Economy</td>\n",
       "      <td>2.25</td>\n",
       "      <td>1</td>\n",
       "      <td>5955</td>\n",
       "    </tr>\n",
       "    <tr>\n",
       "      <th>4</th>\n",
       "      <td>Vistara</td>\n",
       "      <td>UK-963</td>\n",
       "      <td>Delhi</td>\n",
       "      <td>Morning</td>\n",
       "      <td>zero</td>\n",
       "      <td>Morning</td>\n",
       "      <td>Mumbai</td>\n",
       "      <td>Economy</td>\n",
       "      <td>2.33</td>\n",
       "      <td>1</td>\n",
       "      <td>5955</td>\n",
       "    </tr>\n",
       "  </tbody>\n",
       "</table>\n",
       "</div>"
      ],
      "text/plain": [
       "    Airline   flight Source       Dep_Time Total_Stops   Arrival_Time  \\\n",
       "0  SpiceJet  SG-8709  Delhi        Evening        zero          Night   \n",
       "1  SpiceJet  SG-8157  Delhi  Early_Morning        zero        Morning   \n",
       "2   AirAsia   I5-764  Delhi  Early_Morning        zero  Early_Morning   \n",
       "3   Vistara   UK-995  Delhi        Morning        zero      Afternoon   \n",
       "4   Vistara   UK-963  Delhi        Morning        zero        Morning   \n",
       "\n",
       "  Destination    class  Duration  days_left  Price  \n",
       "0      Mumbai  Economy      2.17          1   5953  \n",
       "1      Mumbai  Economy      2.33          1   5953  \n",
       "2      Mumbai  Economy      2.17          1   5956  \n",
       "3      Mumbai  Economy      2.25          1   5955  \n",
       "4      Mumbai  Economy      2.33          1   5955  "
      ]
     },
     "execution_count": 50,
     "metadata": {},
     "output_type": "execute_result"
    }
   ],
   "source": [
    "flight2 = flight2.rename({'airline': 'Airline', 'source_city': 'Source', 'destination_city': 'Destination',\n",
    "                         'departure_time': 'Dep_Time', 'arrival_time': 'Arrival_Time', 'stops': 'Total_Stops',\n",
    "                         'duration': 'Duration', 'price': 'Price'}, axis=1)\n",
    "flight2.head()"
   ]
  },
  {
   "cell_type": "markdown",
   "id": "8d571f21",
   "metadata": {},
   "source": [
    "Now Airline, Source, and Destination should merge smoothly. My next step will be to make sure the Departure and Arrival times can merge. Dataset 1 has times in the format HH:MM, and dataset 2 has times as categories. My only option is to try to fit the times into the categories used in dataset 2. As previously stated, the challenge with this is dataset 2 provides no time defintion for each category, so I will have to come up with these on my own:\n",
    "\n",
    "\n",
    "\n",
    "    Late Night:     00:00 - 03:59\n",
    "\n",
    "    Early Morning:  04:00 - 07:59\n",
    "\n",
    "    Morning:        08:00 - 11:59\n",
    "\n",
    "    Afternoon:      12:00 - 15:59\n",
    "\n",
    "    Evening:        16:00 - 19:59\n",
    "\n",
    "    Night:          20:00 - 23:59\n"
   ]
  },
  {
   "cell_type": "markdown",
   "id": "5a4f489f",
   "metadata": {},
   "source": [
    "With six categories and 24 hours in a day, I allowed each category to have a time frame of 4 hours. Now we have our bins. Next we need to change dataset 1 arrival and departure times to integers. "
   ]
  },
  {
   "cell_type": "code",
   "execution_count": 51,
   "id": "1a4b4d66",
   "metadata": {},
   "outputs": [
    {
     "data": {
      "text/html": [
       "<div>\n",
       "<style scoped>\n",
       "    .dataframe tbody tr th:only-of-type {\n",
       "        vertical-align: middle;\n",
       "    }\n",
       "\n",
       "    .dataframe tbody tr th {\n",
       "        vertical-align: top;\n",
       "    }\n",
       "\n",
       "    .dataframe thead th {\n",
       "        text-align: right;\n",
       "    }\n",
       "</style>\n",
       "<table border=\"1\" class=\"dataframe\">\n",
       "  <thead>\n",
       "    <tr style=\"text-align: right;\">\n",
       "      <th></th>\n",
       "      <th>Airline</th>\n",
       "      <th>Date_of_Journey</th>\n",
       "      <th>Source</th>\n",
       "      <th>Destination</th>\n",
       "      <th>Route</th>\n",
       "      <th>Dep_Time</th>\n",
       "      <th>Arrival_Time</th>\n",
       "      <th>Duration</th>\n",
       "      <th>Total_Stops</th>\n",
       "      <th>Additional_Info</th>\n",
       "      <th>Price</th>\n",
       "    </tr>\n",
       "  </thead>\n",
       "  <tbody>\n",
       "    <tr>\n",
       "      <th>10384</th>\n",
       "      <td>Air India</td>\n",
       "      <td>2019-12-05</td>\n",
       "      <td>Mumbai</td>\n",
       "      <td>Hyderabad</td>\n",
       "      <td>BOM → HYD</td>\n",
       "      <td>1930</td>\n",
       "      <td>2045</td>\n",
       "      <td>75</td>\n",
       "      <td>0</td>\n",
       "      <td>No info</td>\n",
       "      <td>3626</td>\n",
       "    </tr>\n",
       "    <tr>\n",
       "      <th>1416</th>\n",
       "      <td>Air India</td>\n",
       "      <td>2019-03-18</td>\n",
       "      <td>Mumbai</td>\n",
       "      <td>Hyderabad</td>\n",
       "      <td>BOM → HYD</td>\n",
       "      <td>1930</td>\n",
       "      <td>2045</td>\n",
       "      <td>75</td>\n",
       "      <td>0</td>\n",
       "      <td>No info</td>\n",
       "      <td>2051</td>\n",
       "    </tr>\n",
       "    <tr>\n",
       "      <th>3708</th>\n",
       "      <td>Air India</td>\n",
       "      <td>2019-01-05</td>\n",
       "      <td>Mumbai</td>\n",
       "      <td>Hyderabad</td>\n",
       "      <td>BOM → HYD</td>\n",
       "      <td>1930</td>\n",
       "      <td>2045</td>\n",
       "      <td>75</td>\n",
       "      <td>0</td>\n",
       "      <td>No info</td>\n",
       "      <td>3101</td>\n",
       "    </tr>\n",
       "    <tr>\n",
       "      <th>7239</th>\n",
       "      <td>Air India</td>\n",
       "      <td>2019-03-24</td>\n",
       "      <td>Mumbai</td>\n",
       "      <td>Hyderabad</td>\n",
       "      <td>BOM → HYD</td>\n",
       "      <td>1930</td>\n",
       "      <td>2045</td>\n",
       "      <td>75</td>\n",
       "      <td>0</td>\n",
       "      <td>No info</td>\n",
       "      <td>2576</td>\n",
       "    </tr>\n",
       "    <tr>\n",
       "      <th>5060</th>\n",
       "      <td>Air India</td>\n",
       "      <td>2019-06-06</td>\n",
       "      <td>Mumbai</td>\n",
       "      <td>Hyderabad</td>\n",
       "      <td>BOM → HYD</td>\n",
       "      <td>1930</td>\n",
       "      <td>2045</td>\n",
       "      <td>75</td>\n",
       "      <td>0</td>\n",
       "      <td>No info</td>\n",
       "      <td>3101</td>\n",
       "    </tr>\n",
       "  </tbody>\n",
       "</table>\n",
       "</div>"
      ],
      "text/plain": [
       "         Airline Date_of_Journey  Source Destination      Route Dep_Time  \\\n",
       "10384  Air India      2019-12-05  Mumbai   Hyderabad  BOM → HYD     1930   \n",
       "1416   Air India      2019-03-18  Mumbai   Hyderabad  BOM → HYD     1930   \n",
       "3708   Air India      2019-01-05  Mumbai   Hyderabad  BOM → HYD     1930   \n",
       "7239   Air India      2019-03-24  Mumbai   Hyderabad  BOM → HYD     1930   \n",
       "5060   Air India      2019-06-06  Mumbai   Hyderabad  BOM → HYD     1930   \n",
       "\n",
       "      Arrival_Time  Duration  Total_Stops Additional_Info  Price  \n",
       "10384         2045        75            0         No info   3626  \n",
       "1416          2045        75            0         No info   2051  \n",
       "3708          2045        75            0         No info   3101  \n",
       "7239          2045        75            0         No info   2576  \n",
       "5060          2045        75            0         No info   3101  "
      ]
     },
     "execution_count": 51,
     "metadata": {},
     "output_type": "execute_result"
    }
   ],
   "source": [
    "flight1['Dep_Time'] = [c.replace(':', '') for c in flight1['Dep_Time']]\n",
    "flight1['Arrival_Time'] = [c.replace(':', '') for c in flight1['Arrival_Time']]\n",
    "flight1.head()"
   ]
  },
  {
   "cell_type": "code",
   "execution_count": 52,
   "id": "b00e9af8",
   "metadata": {},
   "outputs": [
    {
     "name": "stdout",
     "output_type": "stream",
     "text": [
      "<class 'pandas.core.frame.DataFrame'>\n",
      "Int64Index: 10681 entries, 10384 to 10456\n",
      "Data columns (total 11 columns):\n",
      " #   Column           Non-Null Count  Dtype         \n",
      "---  ------           --------------  -----         \n",
      " 0   Airline          10681 non-null  object        \n",
      " 1   Date_of_Journey  10681 non-null  datetime64[ns]\n",
      " 2   Source           10681 non-null  object        \n",
      " 3   Destination      10681 non-null  object        \n",
      " 4   Route            10681 non-null  object        \n",
      " 5   Dep_Time         10681 non-null  int64         \n",
      " 6   Arrival_Time     10681 non-null  int64         \n",
      " 7   Duration         10681 non-null  int64         \n",
      " 8   Total_Stops      10681 non-null  int64         \n",
      " 9   Additional_Info  10681 non-null  object        \n",
      " 10  Price            10681 non-null  int64         \n",
      "dtypes: datetime64[ns](1), int64(5), object(5)\n",
      "memory usage: 1001.3+ KB\n"
     ]
    }
   ],
   "source": [
    "flight1['Dep_Time'] = flight1['Dep_Time'].astype(int)\n",
    "flight1['Arrival_Time'] = flight1['Arrival_Time'].astype(int)\n",
    "flight1.info()"
   ]
  },
  {
   "cell_type": "markdown",
   "id": "a6883820",
   "metadata": {},
   "source": [
    "Now we can put them in our defined bins."
   ]
  },
  {
   "cell_type": "code",
   "execution_count": 53,
   "id": "b38150e6",
   "metadata": {},
   "outputs": [
    {
     "name": "stderr",
     "output_type": "stream",
     "text": [
      "/var/folders/sc/3djkvdx57jb0ycqsbk23w5pc0000gn/T/ipykernel_80409/2395054628.py:5: FutureWarning: In a future version of pandas all arguments of DataFrame.drop except for the argument 'labels' will be keyword-only\n",
      "  flight1 = flight1.drop('bins',1)\n"
     ]
    },
    {
     "data": {
      "text/html": [
       "<div>\n",
       "<style scoped>\n",
       "    .dataframe tbody tr th:only-of-type {\n",
       "        vertical-align: middle;\n",
       "    }\n",
       "\n",
       "    .dataframe tbody tr th {\n",
       "        vertical-align: top;\n",
       "    }\n",
       "\n",
       "    .dataframe thead th {\n",
       "        text-align: right;\n",
       "    }\n",
       "</style>\n",
       "<table border=\"1\" class=\"dataframe\">\n",
       "  <thead>\n",
       "    <tr style=\"text-align: right;\">\n",
       "      <th></th>\n",
       "      <th>Airline</th>\n",
       "      <th>Date_of_Journey</th>\n",
       "      <th>Source</th>\n",
       "      <th>Destination</th>\n",
       "      <th>Route</th>\n",
       "      <th>Dep_Time</th>\n",
       "      <th>Arrival_Time</th>\n",
       "      <th>Duration</th>\n",
       "      <th>Total_Stops</th>\n",
       "      <th>Additional_Info</th>\n",
       "      <th>Price</th>\n",
       "    </tr>\n",
       "  </thead>\n",
       "  <tbody>\n",
       "    <tr>\n",
       "      <th>10384</th>\n",
       "      <td>Air India</td>\n",
       "      <td>2019-12-05</td>\n",
       "      <td>Mumbai</td>\n",
       "      <td>Hyderabad</td>\n",
       "      <td>BOM → HYD</td>\n",
       "      <td>Evening</td>\n",
       "      <td>2045</td>\n",
       "      <td>75</td>\n",
       "      <td>0</td>\n",
       "      <td>No info</td>\n",
       "      <td>3626</td>\n",
       "    </tr>\n",
       "    <tr>\n",
       "      <th>1416</th>\n",
       "      <td>Air India</td>\n",
       "      <td>2019-03-18</td>\n",
       "      <td>Mumbai</td>\n",
       "      <td>Hyderabad</td>\n",
       "      <td>BOM → HYD</td>\n",
       "      <td>Evening</td>\n",
       "      <td>2045</td>\n",
       "      <td>75</td>\n",
       "      <td>0</td>\n",
       "      <td>No info</td>\n",
       "      <td>2051</td>\n",
       "    </tr>\n",
       "    <tr>\n",
       "      <th>3708</th>\n",
       "      <td>Air India</td>\n",
       "      <td>2019-01-05</td>\n",
       "      <td>Mumbai</td>\n",
       "      <td>Hyderabad</td>\n",
       "      <td>BOM → HYD</td>\n",
       "      <td>Evening</td>\n",
       "      <td>2045</td>\n",
       "      <td>75</td>\n",
       "      <td>0</td>\n",
       "      <td>No info</td>\n",
       "      <td>3101</td>\n",
       "    </tr>\n",
       "    <tr>\n",
       "      <th>7239</th>\n",
       "      <td>Air India</td>\n",
       "      <td>2019-03-24</td>\n",
       "      <td>Mumbai</td>\n",
       "      <td>Hyderabad</td>\n",
       "      <td>BOM → HYD</td>\n",
       "      <td>Evening</td>\n",
       "      <td>2045</td>\n",
       "      <td>75</td>\n",
       "      <td>0</td>\n",
       "      <td>No info</td>\n",
       "      <td>2576</td>\n",
       "    </tr>\n",
       "    <tr>\n",
       "      <th>5060</th>\n",
       "      <td>Air India</td>\n",
       "      <td>2019-06-06</td>\n",
       "      <td>Mumbai</td>\n",
       "      <td>Hyderabad</td>\n",
       "      <td>BOM → HYD</td>\n",
       "      <td>Evening</td>\n",
       "      <td>2045</td>\n",
       "      <td>75</td>\n",
       "      <td>0</td>\n",
       "      <td>No info</td>\n",
       "      <td>3101</td>\n",
       "    </tr>\n",
       "  </tbody>\n",
       "</table>\n",
       "</div>"
      ],
      "text/plain": [
       "         Airline Date_of_Journey  Source Destination      Route Dep_Time  \\\n",
       "10384  Air India      2019-12-05  Mumbai   Hyderabad  BOM → HYD  Evening   \n",
       "1416   Air India      2019-03-18  Mumbai   Hyderabad  BOM → HYD  Evening   \n",
       "3708   Air India      2019-01-05  Mumbai   Hyderabad  BOM → HYD  Evening   \n",
       "7239   Air India      2019-03-24  Mumbai   Hyderabad  BOM → HYD  Evening   \n",
       "5060   Air India      2019-06-06  Mumbai   Hyderabad  BOM → HYD  Evening   \n",
       "\n",
       "       Arrival_Time  Duration  Total_Stops Additional_Info  Price  \n",
       "10384          2045        75            0         No info   3626  \n",
       "1416           2045        75            0         No info   2051  \n",
       "3708           2045        75            0         No info   3101  \n",
       "7239           2045        75            0         No info   2576  \n",
       "5060           2045        75            0         No info   3101  "
      ]
     },
     "execution_count": 53,
     "metadata": {},
     "output_type": "execute_result"
    }
   ],
   "source": [
    "flight1['bins'] = pd.cut(x=flight1['Dep_Time'], bins=[0, 400, 800, 1200, 1600, 2000, 2359],\n",
    "                    labels=['Late Night', 'Early Morning', 'Morning',\n",
    "                            'Afternoon', 'Evening', 'Night']) \n",
    "flight1['Dep_Time'] = flight1['bins']\n",
    "flight1 = flight1.drop('bins',1)\n",
    "flight1.head()"
   ]
  },
  {
   "cell_type": "code",
   "execution_count": 54,
   "id": "0aa1fe5f",
   "metadata": {},
   "outputs": [
    {
     "name": "stderr",
     "output_type": "stream",
     "text": [
      "/var/folders/sc/3djkvdx57jb0ycqsbk23w5pc0000gn/T/ipykernel_80409/2025620740.py:5: FutureWarning: In a future version of pandas all arguments of DataFrame.drop except for the argument 'labels' will be keyword-only\n",
      "  flight1 = flight1.drop('bins',1)\n"
     ]
    },
    {
     "data": {
      "text/html": [
       "<div>\n",
       "<style scoped>\n",
       "    .dataframe tbody tr th:only-of-type {\n",
       "        vertical-align: middle;\n",
       "    }\n",
       "\n",
       "    .dataframe tbody tr th {\n",
       "        vertical-align: top;\n",
       "    }\n",
       "\n",
       "    .dataframe thead th {\n",
       "        text-align: right;\n",
       "    }\n",
       "</style>\n",
       "<table border=\"1\" class=\"dataframe\">\n",
       "  <thead>\n",
       "    <tr style=\"text-align: right;\">\n",
       "      <th></th>\n",
       "      <th>Airline</th>\n",
       "      <th>Date_of_Journey</th>\n",
       "      <th>Source</th>\n",
       "      <th>Destination</th>\n",
       "      <th>Route</th>\n",
       "      <th>Dep_Time</th>\n",
       "      <th>Arrival_Time</th>\n",
       "      <th>Duration</th>\n",
       "      <th>Total_Stops</th>\n",
       "      <th>Additional_Info</th>\n",
       "      <th>Price</th>\n",
       "    </tr>\n",
       "  </thead>\n",
       "  <tbody>\n",
       "    <tr>\n",
       "      <th>10384</th>\n",
       "      <td>Air India</td>\n",
       "      <td>2019-12-05</td>\n",
       "      <td>Mumbai</td>\n",
       "      <td>Hyderabad</td>\n",
       "      <td>BOM → HYD</td>\n",
       "      <td>Evening</td>\n",
       "      <td>Night</td>\n",
       "      <td>75</td>\n",
       "      <td>0</td>\n",
       "      <td>No info</td>\n",
       "      <td>3626</td>\n",
       "    </tr>\n",
       "    <tr>\n",
       "      <th>1416</th>\n",
       "      <td>Air India</td>\n",
       "      <td>2019-03-18</td>\n",
       "      <td>Mumbai</td>\n",
       "      <td>Hyderabad</td>\n",
       "      <td>BOM → HYD</td>\n",
       "      <td>Evening</td>\n",
       "      <td>Night</td>\n",
       "      <td>75</td>\n",
       "      <td>0</td>\n",
       "      <td>No info</td>\n",
       "      <td>2051</td>\n",
       "    </tr>\n",
       "    <tr>\n",
       "      <th>3708</th>\n",
       "      <td>Air India</td>\n",
       "      <td>2019-01-05</td>\n",
       "      <td>Mumbai</td>\n",
       "      <td>Hyderabad</td>\n",
       "      <td>BOM → HYD</td>\n",
       "      <td>Evening</td>\n",
       "      <td>Night</td>\n",
       "      <td>75</td>\n",
       "      <td>0</td>\n",
       "      <td>No info</td>\n",
       "      <td>3101</td>\n",
       "    </tr>\n",
       "    <tr>\n",
       "      <th>7239</th>\n",
       "      <td>Air India</td>\n",
       "      <td>2019-03-24</td>\n",
       "      <td>Mumbai</td>\n",
       "      <td>Hyderabad</td>\n",
       "      <td>BOM → HYD</td>\n",
       "      <td>Evening</td>\n",
       "      <td>Night</td>\n",
       "      <td>75</td>\n",
       "      <td>0</td>\n",
       "      <td>No info</td>\n",
       "      <td>2576</td>\n",
       "    </tr>\n",
       "    <tr>\n",
       "      <th>5060</th>\n",
       "      <td>Air India</td>\n",
       "      <td>2019-06-06</td>\n",
       "      <td>Mumbai</td>\n",
       "      <td>Hyderabad</td>\n",
       "      <td>BOM → HYD</td>\n",
       "      <td>Evening</td>\n",
       "      <td>Night</td>\n",
       "      <td>75</td>\n",
       "      <td>0</td>\n",
       "      <td>No info</td>\n",
       "      <td>3101</td>\n",
       "    </tr>\n",
       "  </tbody>\n",
       "</table>\n",
       "</div>"
      ],
      "text/plain": [
       "         Airline Date_of_Journey  Source Destination      Route Dep_Time  \\\n",
       "10384  Air India      2019-12-05  Mumbai   Hyderabad  BOM → HYD  Evening   \n",
       "1416   Air India      2019-03-18  Mumbai   Hyderabad  BOM → HYD  Evening   \n",
       "3708   Air India      2019-01-05  Mumbai   Hyderabad  BOM → HYD  Evening   \n",
       "7239   Air India      2019-03-24  Mumbai   Hyderabad  BOM → HYD  Evening   \n",
       "5060   Air India      2019-06-06  Mumbai   Hyderabad  BOM → HYD  Evening   \n",
       "\n",
       "      Arrival_Time  Duration  Total_Stops Additional_Info  Price  \n",
       "10384        Night        75            0         No info   3626  \n",
       "1416         Night        75            0         No info   2051  \n",
       "3708         Night        75            0         No info   3101  \n",
       "7239         Night        75            0         No info   2576  \n",
       "5060         Night        75            0         No info   3101  "
      ]
     },
     "execution_count": 54,
     "metadata": {},
     "output_type": "execute_result"
    }
   ],
   "source": [
    "flight1['bins'] = pd.cut(x=flight1['Arrival_Time'], bins=[0, 400, 800, 1200, 1600, 2000, 2359],\n",
    "                    labels=['Late Night', 'Early Morning', 'Morning',\n",
    "                            'Afternoon', 'Evening', 'Night']) \n",
    "flight1['Arrival_Time'] = flight1['bins']\n",
    "flight1 = flight1.drop('bins',1)\n",
    "flight1.head()"
   ]
  },
  {
   "cell_type": "markdown",
   "id": "2538f4f7",
   "metadata": {},
   "source": [
    "Now we can focus on the stops column. Because of the categories in dataset 2, we will need to do a similar process as above. We need to fit the integers from dataset 1 into the bins from dataset 2. However, I can use a different method because there are so few categories. "
   ]
  },
  {
   "cell_type": "code",
   "execution_count": 55,
   "id": "efc3353e",
   "metadata": {},
   "outputs": [],
   "source": [
    "flight1['Total_Stops'] = flight1['Total_Stops'].astype(str)\n",
    "flight1['Total_Stops']= [c.replace('0', 'Zero') for c in flight1['Total_Stops']]\n",
    "flight1['Total_Stops']= [c.replace('1', 'One') for c in flight1['Total_Stops']]\n",
    "flight1['Total_Stops']= [c.replace('2', 'Two or more') for c in flight1['Total_Stops']]\n",
    "flight1['Total_Stops']= [c.replace('3', 'Two or more') for c in flight1['Total_Stops']]\n",
    "flight1['Total_Stops']= [c.replace('4', 'Two or more') for c in flight1['Total_Stops']]\n",
    "flight2['Total_Stops']= [c.replace('zero', 'Zero') for c in flight2['Total_Stops']]\n",
    "flight2['Total_Stops']= [c.replace('one', 'One') for c in flight2['Total_Stops']]\n",
    "flight2['Total_Stops']= [c.replace('two_or_more', 'Two or more') for c in flight2['Total_Stops']]"
   ]
  },
  {
   "cell_type": "markdown",
   "id": "d6b51244",
   "metadata": {},
   "source": [
    "Next we can work with the duration column. The duration in dataset 1 is in minutes, and the duration in dataset 2 is in hours. I will change dataset 1 to hours because I think its easier to understand larger values than if they were in minutes. This should be a simply math equation, but the datatype of the column in dataset one will change from an integer to a float. "
   ]
  },
  {
   "cell_type": "code",
   "execution_count": 56,
   "id": "2c26bb73",
   "metadata": {},
   "outputs": [
    {
     "data": {
      "text/html": [
       "<div>\n",
       "<style scoped>\n",
       "    .dataframe tbody tr th:only-of-type {\n",
       "        vertical-align: middle;\n",
       "    }\n",
       "\n",
       "    .dataframe tbody tr th {\n",
       "        vertical-align: top;\n",
       "    }\n",
       "\n",
       "    .dataframe thead th {\n",
       "        text-align: right;\n",
       "    }\n",
       "</style>\n",
       "<table border=\"1\" class=\"dataframe\">\n",
       "  <thead>\n",
       "    <tr style=\"text-align: right;\">\n",
       "      <th></th>\n",
       "      <th>Airline</th>\n",
       "      <th>Date_of_Journey</th>\n",
       "      <th>Source</th>\n",
       "      <th>Destination</th>\n",
       "      <th>Route</th>\n",
       "      <th>Dep_Time</th>\n",
       "      <th>Arrival_Time</th>\n",
       "      <th>Duration</th>\n",
       "      <th>Total_Stops</th>\n",
       "      <th>Additional_Info</th>\n",
       "      <th>Price</th>\n",
       "    </tr>\n",
       "  </thead>\n",
       "  <tbody>\n",
       "    <tr>\n",
       "      <th>10384</th>\n",
       "      <td>Air India</td>\n",
       "      <td>2019-12-05</td>\n",
       "      <td>Mumbai</td>\n",
       "      <td>Hyderabad</td>\n",
       "      <td>BOM → HYD</td>\n",
       "      <td>Evening</td>\n",
       "      <td>Night</td>\n",
       "      <td>1.25</td>\n",
       "      <td>Zero</td>\n",
       "      <td>No info</td>\n",
       "      <td>3626</td>\n",
       "    </tr>\n",
       "    <tr>\n",
       "      <th>1416</th>\n",
       "      <td>Air India</td>\n",
       "      <td>2019-03-18</td>\n",
       "      <td>Mumbai</td>\n",
       "      <td>Hyderabad</td>\n",
       "      <td>BOM → HYD</td>\n",
       "      <td>Evening</td>\n",
       "      <td>Night</td>\n",
       "      <td>1.25</td>\n",
       "      <td>Zero</td>\n",
       "      <td>No info</td>\n",
       "      <td>2051</td>\n",
       "    </tr>\n",
       "    <tr>\n",
       "      <th>3708</th>\n",
       "      <td>Air India</td>\n",
       "      <td>2019-01-05</td>\n",
       "      <td>Mumbai</td>\n",
       "      <td>Hyderabad</td>\n",
       "      <td>BOM → HYD</td>\n",
       "      <td>Evening</td>\n",
       "      <td>Night</td>\n",
       "      <td>1.25</td>\n",
       "      <td>Zero</td>\n",
       "      <td>No info</td>\n",
       "      <td>3101</td>\n",
       "    </tr>\n",
       "    <tr>\n",
       "      <th>7239</th>\n",
       "      <td>Air India</td>\n",
       "      <td>2019-03-24</td>\n",
       "      <td>Mumbai</td>\n",
       "      <td>Hyderabad</td>\n",
       "      <td>BOM → HYD</td>\n",
       "      <td>Evening</td>\n",
       "      <td>Night</td>\n",
       "      <td>1.25</td>\n",
       "      <td>Zero</td>\n",
       "      <td>No info</td>\n",
       "      <td>2576</td>\n",
       "    </tr>\n",
       "    <tr>\n",
       "      <th>5060</th>\n",
       "      <td>Air India</td>\n",
       "      <td>2019-06-06</td>\n",
       "      <td>Mumbai</td>\n",
       "      <td>Hyderabad</td>\n",
       "      <td>BOM → HYD</td>\n",
       "      <td>Evening</td>\n",
       "      <td>Night</td>\n",
       "      <td>1.25</td>\n",
       "      <td>Zero</td>\n",
       "      <td>No info</td>\n",
       "      <td>3101</td>\n",
       "    </tr>\n",
       "  </tbody>\n",
       "</table>\n",
       "</div>"
      ],
      "text/plain": [
       "         Airline Date_of_Journey  Source Destination      Route Dep_Time  \\\n",
       "10384  Air India      2019-12-05  Mumbai   Hyderabad  BOM → HYD  Evening   \n",
       "1416   Air India      2019-03-18  Mumbai   Hyderabad  BOM → HYD  Evening   \n",
       "3708   Air India      2019-01-05  Mumbai   Hyderabad  BOM → HYD  Evening   \n",
       "7239   Air India      2019-03-24  Mumbai   Hyderabad  BOM → HYD  Evening   \n",
       "5060   Air India      2019-06-06  Mumbai   Hyderabad  BOM → HYD  Evening   \n",
       "\n",
       "      Arrival_Time  Duration Total_Stops Additional_Info  Price  \n",
       "10384        Night      1.25        Zero         No info   3626  \n",
       "1416         Night      1.25        Zero         No info   2051  \n",
       "3708         Night      1.25        Zero         No info   3101  \n",
       "7239         Night      1.25        Zero         No info   2576  \n",
       "5060         Night      1.25        Zero         No info   3101  "
      ]
     },
     "execution_count": 56,
     "metadata": {},
     "output_type": "execute_result"
    }
   ],
   "source": [
    "flight1['Duration'] = flight1['Duration'].astype(float)\n",
    "flight1['Duration'] = flight1['Duration']/60\n",
    "flight1.head()"
   ]
  },
  {
   "cell_type": "markdown",
   "id": "8ccb3139",
   "metadata": {},
   "source": [
    "Now all the similar columns between the datasets should be able to merge smoothly."
   ]
  },
  {
   "cell_type": "code",
   "execution_count": 57,
   "id": "7e7a664f",
   "metadata": {},
   "outputs": [
    {
     "data": {
      "text/html": [
       "<div>\n",
       "<style scoped>\n",
       "    .dataframe tbody tr th:only-of-type {\n",
       "        vertical-align: middle;\n",
       "    }\n",
       "\n",
       "    .dataframe tbody tr th {\n",
       "        vertical-align: top;\n",
       "    }\n",
       "\n",
       "    .dataframe thead th {\n",
       "        text-align: right;\n",
       "    }\n",
       "</style>\n",
       "<table border=\"1\" class=\"dataframe\">\n",
       "  <thead>\n",
       "    <tr style=\"text-align: right;\">\n",
       "      <th></th>\n",
       "      <th>Airline</th>\n",
       "      <th>Date_of_Journey</th>\n",
       "      <th>Source</th>\n",
       "      <th>Destination</th>\n",
       "      <th>Route</th>\n",
       "      <th>Dep_Time</th>\n",
       "      <th>Arrival_Time</th>\n",
       "      <th>Duration</th>\n",
       "      <th>Total_Stops</th>\n",
       "      <th>Additional_Info</th>\n",
       "      <th>Price</th>\n",
       "    </tr>\n",
       "  </thead>\n",
       "  <tbody>\n",
       "    <tr>\n",
       "      <th>10384</th>\n",
       "      <td>Air India</td>\n",
       "      <td>2019-12-05</td>\n",
       "      <td>Mumbai</td>\n",
       "      <td>Hyderabad</td>\n",
       "      <td>BOM → HYD</td>\n",
       "      <td>Evening</td>\n",
       "      <td>Night</td>\n",
       "      <td>1.25</td>\n",
       "      <td>Zero</td>\n",
       "      <td>No info</td>\n",
       "      <td>3626</td>\n",
       "    </tr>\n",
       "    <tr>\n",
       "      <th>1416</th>\n",
       "      <td>Air India</td>\n",
       "      <td>2019-03-18</td>\n",
       "      <td>Mumbai</td>\n",
       "      <td>Hyderabad</td>\n",
       "      <td>BOM → HYD</td>\n",
       "      <td>Evening</td>\n",
       "      <td>Night</td>\n",
       "      <td>1.25</td>\n",
       "      <td>Zero</td>\n",
       "      <td>No info</td>\n",
       "      <td>2051</td>\n",
       "    </tr>\n",
       "    <tr>\n",
       "      <th>3708</th>\n",
       "      <td>Air India</td>\n",
       "      <td>2019-01-05</td>\n",
       "      <td>Mumbai</td>\n",
       "      <td>Hyderabad</td>\n",
       "      <td>BOM → HYD</td>\n",
       "      <td>Evening</td>\n",
       "      <td>Night</td>\n",
       "      <td>1.25</td>\n",
       "      <td>Zero</td>\n",
       "      <td>No info</td>\n",
       "      <td>3101</td>\n",
       "    </tr>\n",
       "    <tr>\n",
       "      <th>7239</th>\n",
       "      <td>Air India</td>\n",
       "      <td>2019-03-24</td>\n",
       "      <td>Mumbai</td>\n",
       "      <td>Hyderabad</td>\n",
       "      <td>BOM → HYD</td>\n",
       "      <td>Evening</td>\n",
       "      <td>Night</td>\n",
       "      <td>1.25</td>\n",
       "      <td>Zero</td>\n",
       "      <td>No info</td>\n",
       "      <td>2576</td>\n",
       "    </tr>\n",
       "    <tr>\n",
       "      <th>5060</th>\n",
       "      <td>Air India</td>\n",
       "      <td>2019-06-06</td>\n",
       "      <td>Mumbai</td>\n",
       "      <td>Hyderabad</td>\n",
       "      <td>BOM → HYD</td>\n",
       "      <td>Evening</td>\n",
       "      <td>Night</td>\n",
       "      <td>1.25</td>\n",
       "      <td>Zero</td>\n",
       "      <td>No info</td>\n",
       "      <td>3101</td>\n",
       "    </tr>\n",
       "  </tbody>\n",
       "</table>\n",
       "</div>"
      ],
      "text/plain": [
       "         Airline Date_of_Journey  Source Destination      Route Dep_Time  \\\n",
       "10384  Air India      2019-12-05  Mumbai   Hyderabad  BOM → HYD  Evening   \n",
       "1416   Air India      2019-03-18  Mumbai   Hyderabad  BOM → HYD  Evening   \n",
       "3708   Air India      2019-01-05  Mumbai   Hyderabad  BOM → HYD  Evening   \n",
       "7239   Air India      2019-03-24  Mumbai   Hyderabad  BOM → HYD  Evening   \n",
       "5060   Air India      2019-06-06  Mumbai   Hyderabad  BOM → HYD  Evening   \n",
       "\n",
       "      Arrival_Time  Duration Total_Stops Additional_Info  Price  \n",
       "10384        Night      1.25        Zero         No info   3626  \n",
       "1416         Night      1.25        Zero         No info   2051  \n",
       "3708         Night      1.25        Zero         No info   3101  \n",
       "7239         Night      1.25        Zero         No info   2576  \n",
       "5060         Night      1.25        Zero         No info   3101  "
      ]
     },
     "execution_count": 57,
     "metadata": {},
     "output_type": "execute_result"
    }
   ],
   "source": [
    "flight1.head()"
   ]
  },
  {
   "cell_type": "code",
   "execution_count": 58,
   "id": "910c6255",
   "metadata": {},
   "outputs": [
    {
     "data": {
      "text/html": [
       "<div>\n",
       "<style scoped>\n",
       "    .dataframe tbody tr th:only-of-type {\n",
       "        vertical-align: middle;\n",
       "    }\n",
       "\n",
       "    .dataframe tbody tr th {\n",
       "        vertical-align: top;\n",
       "    }\n",
       "\n",
       "    .dataframe thead th {\n",
       "        text-align: right;\n",
       "    }\n",
       "</style>\n",
       "<table border=\"1\" class=\"dataframe\">\n",
       "  <thead>\n",
       "    <tr style=\"text-align: right;\">\n",
       "      <th></th>\n",
       "      <th>Airline</th>\n",
       "      <th>flight</th>\n",
       "      <th>Source</th>\n",
       "      <th>Dep_Time</th>\n",
       "      <th>Total_Stops</th>\n",
       "      <th>Arrival_Time</th>\n",
       "      <th>Destination</th>\n",
       "      <th>class</th>\n",
       "      <th>Duration</th>\n",
       "      <th>days_left</th>\n",
       "      <th>Price</th>\n",
       "    </tr>\n",
       "  </thead>\n",
       "  <tbody>\n",
       "    <tr>\n",
       "      <th>0</th>\n",
       "      <td>SpiceJet</td>\n",
       "      <td>SG-8709</td>\n",
       "      <td>Delhi</td>\n",
       "      <td>Evening</td>\n",
       "      <td>Zero</td>\n",
       "      <td>Night</td>\n",
       "      <td>Mumbai</td>\n",
       "      <td>Economy</td>\n",
       "      <td>2.17</td>\n",
       "      <td>1</td>\n",
       "      <td>5953</td>\n",
       "    </tr>\n",
       "    <tr>\n",
       "      <th>1</th>\n",
       "      <td>SpiceJet</td>\n",
       "      <td>SG-8157</td>\n",
       "      <td>Delhi</td>\n",
       "      <td>Early_Morning</td>\n",
       "      <td>Zero</td>\n",
       "      <td>Morning</td>\n",
       "      <td>Mumbai</td>\n",
       "      <td>Economy</td>\n",
       "      <td>2.33</td>\n",
       "      <td>1</td>\n",
       "      <td>5953</td>\n",
       "    </tr>\n",
       "    <tr>\n",
       "      <th>2</th>\n",
       "      <td>AirAsia</td>\n",
       "      <td>I5-764</td>\n",
       "      <td>Delhi</td>\n",
       "      <td>Early_Morning</td>\n",
       "      <td>Zero</td>\n",
       "      <td>Early_Morning</td>\n",
       "      <td>Mumbai</td>\n",
       "      <td>Economy</td>\n",
       "      <td>2.17</td>\n",
       "      <td>1</td>\n",
       "      <td>5956</td>\n",
       "    </tr>\n",
       "    <tr>\n",
       "      <th>3</th>\n",
       "      <td>Vistara</td>\n",
       "      <td>UK-995</td>\n",
       "      <td>Delhi</td>\n",
       "      <td>Morning</td>\n",
       "      <td>Zero</td>\n",
       "      <td>Afternoon</td>\n",
       "      <td>Mumbai</td>\n",
       "      <td>Economy</td>\n",
       "      <td>2.25</td>\n",
       "      <td>1</td>\n",
       "      <td>5955</td>\n",
       "    </tr>\n",
       "    <tr>\n",
       "      <th>4</th>\n",
       "      <td>Vistara</td>\n",
       "      <td>UK-963</td>\n",
       "      <td>Delhi</td>\n",
       "      <td>Morning</td>\n",
       "      <td>Zero</td>\n",
       "      <td>Morning</td>\n",
       "      <td>Mumbai</td>\n",
       "      <td>Economy</td>\n",
       "      <td>2.33</td>\n",
       "      <td>1</td>\n",
       "      <td>5955</td>\n",
       "    </tr>\n",
       "  </tbody>\n",
       "</table>\n",
       "</div>"
      ],
      "text/plain": [
       "    Airline   flight Source       Dep_Time Total_Stops   Arrival_Time  \\\n",
       "0  SpiceJet  SG-8709  Delhi        Evening        Zero          Night   \n",
       "1  SpiceJet  SG-8157  Delhi  Early_Morning        Zero        Morning   \n",
       "2   AirAsia   I5-764  Delhi  Early_Morning        Zero  Early_Morning   \n",
       "3   Vistara   UK-995  Delhi        Morning        Zero      Afternoon   \n",
       "4   Vistara   UK-963  Delhi        Morning        Zero        Morning   \n",
       "\n",
       "  Destination    class  Duration  days_left  Price  \n",
       "0      Mumbai  Economy      2.17          1   5953  \n",
       "1      Mumbai  Economy      2.33          1   5953  \n",
       "2      Mumbai  Economy      2.17          1   5956  \n",
       "3      Mumbai  Economy      2.25          1   5955  \n",
       "4      Mumbai  Economy      2.33          1   5955  "
      ]
     },
     "execution_count": 58,
     "metadata": {},
     "output_type": "execute_result"
    }
   ],
   "source": [
    "flight2.head()"
   ]
  },
  {
   "cell_type": "markdown",
   "id": "3303afde",
   "metadata": {},
   "source": [
    "Now I will begin to add the columns that are in dataset 1 (and not dataset 2) to dataset 2. This includes Date of Journey, Route, and Additional Info. Since dataset 2 will have no values for this column I will just make them NaN values, but for Additional Info I can make the value \"No info\". "
   ]
  },
  {
   "cell_type": "code",
   "execution_count": 59,
   "id": "ec38b4d4",
   "metadata": {},
   "outputs": [
    {
     "data": {
      "text/html": [
       "<div>\n",
       "<style scoped>\n",
       "    .dataframe tbody tr th:only-of-type {\n",
       "        vertical-align: middle;\n",
       "    }\n",
       "\n",
       "    .dataframe tbody tr th {\n",
       "        vertical-align: top;\n",
       "    }\n",
       "\n",
       "    .dataframe thead th {\n",
       "        text-align: right;\n",
       "    }\n",
       "</style>\n",
       "<table border=\"1\" class=\"dataframe\">\n",
       "  <thead>\n",
       "    <tr style=\"text-align: right;\">\n",
       "      <th></th>\n",
       "      <th>Airline</th>\n",
       "      <th>flight</th>\n",
       "      <th>Source</th>\n",
       "      <th>Dep_Time</th>\n",
       "      <th>Total_Stops</th>\n",
       "      <th>Arrival_Time</th>\n",
       "      <th>Destination</th>\n",
       "      <th>class</th>\n",
       "      <th>Duration</th>\n",
       "      <th>days_left</th>\n",
       "      <th>Price</th>\n",
       "      <th>Date_of_Journey</th>\n",
       "      <th>Route</th>\n",
       "      <th>Additional_Info</th>\n",
       "    </tr>\n",
       "  </thead>\n",
       "  <tbody>\n",
       "    <tr>\n",
       "      <th>0</th>\n",
       "      <td>SpiceJet</td>\n",
       "      <td>SG-8709</td>\n",
       "      <td>Delhi</td>\n",
       "      <td>Evening</td>\n",
       "      <td>Zero</td>\n",
       "      <td>Night</td>\n",
       "      <td>Mumbai</td>\n",
       "      <td>Economy</td>\n",
       "      <td>2.17</td>\n",
       "      <td>1</td>\n",
       "      <td>5953</td>\n",
       "      <td>NaN</td>\n",
       "      <td>NaN</td>\n",
       "      <td>No info</td>\n",
       "    </tr>\n",
       "    <tr>\n",
       "      <th>1</th>\n",
       "      <td>SpiceJet</td>\n",
       "      <td>SG-8157</td>\n",
       "      <td>Delhi</td>\n",
       "      <td>Early_Morning</td>\n",
       "      <td>Zero</td>\n",
       "      <td>Morning</td>\n",
       "      <td>Mumbai</td>\n",
       "      <td>Economy</td>\n",
       "      <td>2.33</td>\n",
       "      <td>1</td>\n",
       "      <td>5953</td>\n",
       "      <td>NaN</td>\n",
       "      <td>NaN</td>\n",
       "      <td>No info</td>\n",
       "    </tr>\n",
       "    <tr>\n",
       "      <th>2</th>\n",
       "      <td>AirAsia</td>\n",
       "      <td>I5-764</td>\n",
       "      <td>Delhi</td>\n",
       "      <td>Early_Morning</td>\n",
       "      <td>Zero</td>\n",
       "      <td>Early_Morning</td>\n",
       "      <td>Mumbai</td>\n",
       "      <td>Economy</td>\n",
       "      <td>2.17</td>\n",
       "      <td>1</td>\n",
       "      <td>5956</td>\n",
       "      <td>NaN</td>\n",
       "      <td>NaN</td>\n",
       "      <td>No info</td>\n",
       "    </tr>\n",
       "    <tr>\n",
       "      <th>3</th>\n",
       "      <td>Vistara</td>\n",
       "      <td>UK-995</td>\n",
       "      <td>Delhi</td>\n",
       "      <td>Morning</td>\n",
       "      <td>Zero</td>\n",
       "      <td>Afternoon</td>\n",
       "      <td>Mumbai</td>\n",
       "      <td>Economy</td>\n",
       "      <td>2.25</td>\n",
       "      <td>1</td>\n",
       "      <td>5955</td>\n",
       "      <td>NaN</td>\n",
       "      <td>NaN</td>\n",
       "      <td>No info</td>\n",
       "    </tr>\n",
       "    <tr>\n",
       "      <th>4</th>\n",
       "      <td>Vistara</td>\n",
       "      <td>UK-963</td>\n",
       "      <td>Delhi</td>\n",
       "      <td>Morning</td>\n",
       "      <td>Zero</td>\n",
       "      <td>Morning</td>\n",
       "      <td>Mumbai</td>\n",
       "      <td>Economy</td>\n",
       "      <td>2.33</td>\n",
       "      <td>1</td>\n",
       "      <td>5955</td>\n",
       "      <td>NaN</td>\n",
       "      <td>NaN</td>\n",
       "      <td>No info</td>\n",
       "    </tr>\n",
       "  </tbody>\n",
       "</table>\n",
       "</div>"
      ],
      "text/plain": [
       "    Airline   flight Source       Dep_Time Total_Stops   Arrival_Time  \\\n",
       "0  SpiceJet  SG-8709  Delhi        Evening        Zero          Night   \n",
       "1  SpiceJet  SG-8157  Delhi  Early_Morning        Zero        Morning   \n",
       "2   AirAsia   I5-764  Delhi  Early_Morning        Zero  Early_Morning   \n",
       "3   Vistara   UK-995  Delhi        Morning        Zero      Afternoon   \n",
       "4   Vistara   UK-963  Delhi        Morning        Zero        Morning   \n",
       "\n",
       "  Destination    class  Duration  days_left  Price  Date_of_Journey  Route  \\\n",
       "0      Mumbai  Economy      2.17          1   5953              NaN    NaN   \n",
       "1      Mumbai  Economy      2.33          1   5953              NaN    NaN   \n",
       "2      Mumbai  Economy      2.17          1   5956              NaN    NaN   \n",
       "3      Mumbai  Economy      2.25          1   5955              NaN    NaN   \n",
       "4      Mumbai  Economy      2.33          1   5955              NaN    NaN   \n",
       "\n",
       "  Additional_Info  \n",
       "0         No info  \n",
       "1         No info  \n",
       "2         No info  \n",
       "3         No info  \n",
       "4         No info  "
      ]
     },
     "execution_count": 59,
     "metadata": {},
     "output_type": "execute_result"
    }
   ],
   "source": [
    "flight2[\"Date_of_Journey\"] = np.nan\n",
    "flight2['Route'] = np.nan\n",
    "flight2['Additional_Info'] = 'No info'\n",
    "flight2.head()"
   ]
  },
  {
   "cell_type": "markdown",
   "id": "e2aaf452",
   "metadata": {},
   "source": [
    "I can get rid of the class column in dataset 2 by combining the information into the Additional Info column. In dataset 1 all flights are by default economy, unless otherwise denoted in additional information. I will now implement this in dataset 2. "
   ]
  },
  {
   "cell_type": "code",
   "execution_count": 60,
   "id": "a8511919",
   "metadata": {},
   "outputs": [],
   "source": [
    "flight2['Additional_Info'] = np.where(flight2['class']=='Business', 'Business class', 'No info')"
   ]
  },
  {
   "cell_type": "code",
   "execution_count": 61,
   "id": "57496cbc",
   "metadata": {},
   "outputs": [
    {
     "name": "stderr",
     "output_type": "stream",
     "text": [
      "/var/folders/sc/3djkvdx57jb0ycqsbk23w5pc0000gn/T/ipykernel_80409/1930763484.py:1: FutureWarning: In a future version of pandas all arguments of DataFrame.drop except for the argument 'labels' will be keyword-only\n",
      "  flight2 = flight2.drop('class',1)\n"
     ]
    }
   ],
   "source": [
    "flight2 = flight2.drop('class',1)"
   ]
  },
  {
   "cell_type": "markdown",
   "id": "ac7ef3b7",
   "metadata": {},
   "source": [
    "Now I can do the same to dataset 1 (add the columns from dataset 2 that aren't in dataset 1). This consists of flight and days left."
   ]
  },
  {
   "cell_type": "code",
   "execution_count": 64,
   "id": "9855c5c0",
   "metadata": {},
   "outputs": [],
   "source": [
    "flight1[\"flight\"] = np.nan\n",
    "flight1[\"days_left\"] = np.nan"
   ]
  },
  {
   "cell_type": "code",
   "execution_count": 65,
   "id": "b0202830",
   "metadata": {},
   "outputs": [
    {
     "data": {
      "text/html": [
       "<div>\n",
       "<style scoped>\n",
       "    .dataframe tbody tr th:only-of-type {\n",
       "        vertical-align: middle;\n",
       "    }\n",
       "\n",
       "    .dataframe tbody tr th {\n",
       "        vertical-align: top;\n",
       "    }\n",
       "\n",
       "    .dataframe thead th {\n",
       "        text-align: right;\n",
       "    }\n",
       "</style>\n",
       "<table border=\"1\" class=\"dataframe\">\n",
       "  <thead>\n",
       "    <tr style=\"text-align: right;\">\n",
       "      <th></th>\n",
       "      <th>Airline</th>\n",
       "      <th>Date_of_Journey</th>\n",
       "      <th>Source</th>\n",
       "      <th>Destination</th>\n",
       "      <th>Route</th>\n",
       "      <th>Dep_Time</th>\n",
       "      <th>Arrival_Time</th>\n",
       "      <th>Duration</th>\n",
       "      <th>Total_Stops</th>\n",
       "      <th>Additional_Info</th>\n",
       "      <th>Price</th>\n",
       "      <th>flight</th>\n",
       "      <th>days_left</th>\n",
       "    </tr>\n",
       "  </thead>\n",
       "  <tbody>\n",
       "    <tr>\n",
       "      <th>10384</th>\n",
       "      <td>Air India</td>\n",
       "      <td>2019-12-05</td>\n",
       "      <td>Mumbai</td>\n",
       "      <td>Hyderabad</td>\n",
       "      <td>BOM → HYD</td>\n",
       "      <td>Evening</td>\n",
       "      <td>Night</td>\n",
       "      <td>1.25</td>\n",
       "      <td>Zero</td>\n",
       "      <td>No info</td>\n",
       "      <td>3626</td>\n",
       "      <td>NaN</td>\n",
       "      <td>NaN</td>\n",
       "    </tr>\n",
       "    <tr>\n",
       "      <th>1416</th>\n",
       "      <td>Air India</td>\n",
       "      <td>2019-03-18</td>\n",
       "      <td>Mumbai</td>\n",
       "      <td>Hyderabad</td>\n",
       "      <td>BOM → HYD</td>\n",
       "      <td>Evening</td>\n",
       "      <td>Night</td>\n",
       "      <td>1.25</td>\n",
       "      <td>Zero</td>\n",
       "      <td>No info</td>\n",
       "      <td>2051</td>\n",
       "      <td>NaN</td>\n",
       "      <td>NaN</td>\n",
       "    </tr>\n",
       "    <tr>\n",
       "      <th>3708</th>\n",
       "      <td>Air India</td>\n",
       "      <td>2019-01-05</td>\n",
       "      <td>Mumbai</td>\n",
       "      <td>Hyderabad</td>\n",
       "      <td>BOM → HYD</td>\n",
       "      <td>Evening</td>\n",
       "      <td>Night</td>\n",
       "      <td>1.25</td>\n",
       "      <td>Zero</td>\n",
       "      <td>No info</td>\n",
       "      <td>3101</td>\n",
       "      <td>NaN</td>\n",
       "      <td>NaN</td>\n",
       "    </tr>\n",
       "    <tr>\n",
       "      <th>7239</th>\n",
       "      <td>Air India</td>\n",
       "      <td>2019-03-24</td>\n",
       "      <td>Mumbai</td>\n",
       "      <td>Hyderabad</td>\n",
       "      <td>BOM → HYD</td>\n",
       "      <td>Evening</td>\n",
       "      <td>Night</td>\n",
       "      <td>1.25</td>\n",
       "      <td>Zero</td>\n",
       "      <td>No info</td>\n",
       "      <td>2576</td>\n",
       "      <td>NaN</td>\n",
       "      <td>NaN</td>\n",
       "    </tr>\n",
       "    <tr>\n",
       "      <th>5060</th>\n",
       "      <td>Air India</td>\n",
       "      <td>2019-06-06</td>\n",
       "      <td>Mumbai</td>\n",
       "      <td>Hyderabad</td>\n",
       "      <td>BOM → HYD</td>\n",
       "      <td>Evening</td>\n",
       "      <td>Night</td>\n",
       "      <td>1.25</td>\n",
       "      <td>Zero</td>\n",
       "      <td>No info</td>\n",
       "      <td>3101</td>\n",
       "      <td>NaN</td>\n",
       "      <td>NaN</td>\n",
       "    </tr>\n",
       "  </tbody>\n",
       "</table>\n",
       "</div>"
      ],
      "text/plain": [
       "         Airline Date_of_Journey  Source Destination      Route Dep_Time  \\\n",
       "10384  Air India      2019-12-05  Mumbai   Hyderabad  BOM → HYD  Evening   \n",
       "1416   Air India      2019-03-18  Mumbai   Hyderabad  BOM → HYD  Evening   \n",
       "3708   Air India      2019-01-05  Mumbai   Hyderabad  BOM → HYD  Evening   \n",
       "7239   Air India      2019-03-24  Mumbai   Hyderabad  BOM → HYD  Evening   \n",
       "5060   Air India      2019-06-06  Mumbai   Hyderabad  BOM → HYD  Evening   \n",
       "\n",
       "      Arrival_Time  Duration Total_Stops Additional_Info  Price  flight  \\\n",
       "10384        Night      1.25        Zero         No info   3626     NaN   \n",
       "1416         Night      1.25        Zero         No info   2051     NaN   \n",
       "3708         Night      1.25        Zero         No info   3101     NaN   \n",
       "7239         Night      1.25        Zero         No info   2576     NaN   \n",
       "5060         Night      1.25        Zero         No info   3101     NaN   \n",
       "\n",
       "       days_left  \n",
       "10384        NaN  \n",
       "1416         NaN  \n",
       "3708         NaN  \n",
       "7239         NaN  \n",
       "5060         NaN  "
      ]
     },
     "execution_count": 65,
     "metadata": {},
     "output_type": "execute_result"
    }
   ],
   "source": [
    "flight1.head()"
   ]
  },
  {
   "cell_type": "code",
   "execution_count": 66,
   "id": "cde65969",
   "metadata": {},
   "outputs": [
    {
     "data": {
      "text/html": [
       "<div>\n",
       "<style scoped>\n",
       "    .dataframe tbody tr th:only-of-type {\n",
       "        vertical-align: middle;\n",
       "    }\n",
       "\n",
       "    .dataframe tbody tr th {\n",
       "        vertical-align: top;\n",
       "    }\n",
       "\n",
       "    .dataframe thead th {\n",
       "        text-align: right;\n",
       "    }\n",
       "</style>\n",
       "<table border=\"1\" class=\"dataframe\">\n",
       "  <thead>\n",
       "    <tr style=\"text-align: right;\">\n",
       "      <th></th>\n",
       "      <th>Airline</th>\n",
       "      <th>flight</th>\n",
       "      <th>Source</th>\n",
       "      <th>Dep_Time</th>\n",
       "      <th>Total_Stops</th>\n",
       "      <th>Arrival_Time</th>\n",
       "      <th>Destination</th>\n",
       "      <th>Duration</th>\n",
       "      <th>days_left</th>\n",
       "      <th>Price</th>\n",
       "      <th>Date_of_Journey</th>\n",
       "      <th>Route</th>\n",
       "      <th>Additional_Info</th>\n",
       "    </tr>\n",
       "  </thead>\n",
       "  <tbody>\n",
       "    <tr>\n",
       "      <th>0</th>\n",
       "      <td>SpiceJet</td>\n",
       "      <td>SG-8709</td>\n",
       "      <td>Delhi</td>\n",
       "      <td>Evening</td>\n",
       "      <td>Zero</td>\n",
       "      <td>Night</td>\n",
       "      <td>Mumbai</td>\n",
       "      <td>2.17</td>\n",
       "      <td>1</td>\n",
       "      <td>5953</td>\n",
       "      <td>NaN</td>\n",
       "      <td>NaN</td>\n",
       "      <td>No info</td>\n",
       "    </tr>\n",
       "    <tr>\n",
       "      <th>1</th>\n",
       "      <td>SpiceJet</td>\n",
       "      <td>SG-8157</td>\n",
       "      <td>Delhi</td>\n",
       "      <td>Early_Morning</td>\n",
       "      <td>Zero</td>\n",
       "      <td>Morning</td>\n",
       "      <td>Mumbai</td>\n",
       "      <td>2.33</td>\n",
       "      <td>1</td>\n",
       "      <td>5953</td>\n",
       "      <td>NaN</td>\n",
       "      <td>NaN</td>\n",
       "      <td>No info</td>\n",
       "    </tr>\n",
       "    <tr>\n",
       "      <th>2</th>\n",
       "      <td>AirAsia</td>\n",
       "      <td>I5-764</td>\n",
       "      <td>Delhi</td>\n",
       "      <td>Early_Morning</td>\n",
       "      <td>Zero</td>\n",
       "      <td>Early_Morning</td>\n",
       "      <td>Mumbai</td>\n",
       "      <td>2.17</td>\n",
       "      <td>1</td>\n",
       "      <td>5956</td>\n",
       "      <td>NaN</td>\n",
       "      <td>NaN</td>\n",
       "      <td>No info</td>\n",
       "    </tr>\n",
       "    <tr>\n",
       "      <th>3</th>\n",
       "      <td>Vistara</td>\n",
       "      <td>UK-995</td>\n",
       "      <td>Delhi</td>\n",
       "      <td>Morning</td>\n",
       "      <td>Zero</td>\n",
       "      <td>Afternoon</td>\n",
       "      <td>Mumbai</td>\n",
       "      <td>2.25</td>\n",
       "      <td>1</td>\n",
       "      <td>5955</td>\n",
       "      <td>NaN</td>\n",
       "      <td>NaN</td>\n",
       "      <td>No info</td>\n",
       "    </tr>\n",
       "    <tr>\n",
       "      <th>4</th>\n",
       "      <td>Vistara</td>\n",
       "      <td>UK-963</td>\n",
       "      <td>Delhi</td>\n",
       "      <td>Morning</td>\n",
       "      <td>Zero</td>\n",
       "      <td>Morning</td>\n",
       "      <td>Mumbai</td>\n",
       "      <td>2.33</td>\n",
       "      <td>1</td>\n",
       "      <td>5955</td>\n",
       "      <td>NaN</td>\n",
       "      <td>NaN</td>\n",
       "      <td>No info</td>\n",
       "    </tr>\n",
       "  </tbody>\n",
       "</table>\n",
       "</div>"
      ],
      "text/plain": [
       "    Airline   flight Source       Dep_Time Total_Stops   Arrival_Time  \\\n",
       "0  SpiceJet  SG-8709  Delhi        Evening        Zero          Night   \n",
       "1  SpiceJet  SG-8157  Delhi  Early_Morning        Zero        Morning   \n",
       "2   AirAsia   I5-764  Delhi  Early_Morning        Zero  Early_Morning   \n",
       "3   Vistara   UK-995  Delhi        Morning        Zero      Afternoon   \n",
       "4   Vistara   UK-963  Delhi        Morning        Zero        Morning   \n",
       "\n",
       "  Destination  Duration  days_left  Price  Date_of_Journey  Route  \\\n",
       "0      Mumbai      2.17          1   5953              NaN    NaN   \n",
       "1      Mumbai      2.33          1   5953              NaN    NaN   \n",
       "2      Mumbai      2.17          1   5956              NaN    NaN   \n",
       "3      Mumbai      2.25          1   5955              NaN    NaN   \n",
       "4      Mumbai      2.33          1   5955              NaN    NaN   \n",
       "\n",
       "  Additional_Info  \n",
       "0         No info  \n",
       "1         No info  \n",
       "2         No info  \n",
       "3         No info  \n",
       "4         No info  "
      ]
     },
     "execution_count": 66,
     "metadata": {},
     "output_type": "execute_result"
    }
   ],
   "source": [
    "flight2.head()"
   ]
  },
  {
   "cell_type": "code",
   "execution_count": 71,
   "id": "1247056f",
   "metadata": {},
   "outputs": [
    {
     "data": {
      "text/html": [
       "<div>\n",
       "<style scoped>\n",
       "    .dataframe tbody tr th:only-of-type {\n",
       "        vertical-align: middle;\n",
       "    }\n",
       "\n",
       "    .dataframe tbody tr th {\n",
       "        vertical-align: top;\n",
       "    }\n",
       "\n",
       "    .dataframe thead th {\n",
       "        text-align: right;\n",
       "    }\n",
       "</style>\n",
       "<table border=\"1\" class=\"dataframe\">\n",
       "  <thead>\n",
       "    <tr style=\"text-align: right;\">\n",
       "      <th></th>\n",
       "      <th>Airline</th>\n",
       "      <th>flight</th>\n",
       "      <th>Date_of_Journey</th>\n",
       "      <th>Source</th>\n",
       "      <th>Destination</th>\n",
       "      <th>Route</th>\n",
       "      <th>Dep_Time</th>\n",
       "      <th>Arrival_Time</th>\n",
       "      <th>Duration</th>\n",
       "      <th>Total_Stops</th>\n",
       "      <th>Additional_Info</th>\n",
       "      <th>days_left</th>\n",
       "      <th>Price</th>\n",
       "    </tr>\n",
       "  </thead>\n",
       "  <tbody>\n",
       "    <tr>\n",
       "      <th>10384</th>\n",
       "      <td>Air India</td>\n",
       "      <td>NaN</td>\n",
       "      <td>2019-12-05</td>\n",
       "      <td>Mumbai</td>\n",
       "      <td>Hyderabad</td>\n",
       "      <td>BOM → HYD</td>\n",
       "      <td>Evening</td>\n",
       "      <td>Night</td>\n",
       "      <td>1.25</td>\n",
       "      <td>Zero</td>\n",
       "      <td>No info</td>\n",
       "      <td>NaN</td>\n",
       "      <td>3626</td>\n",
       "    </tr>\n",
       "    <tr>\n",
       "      <th>1416</th>\n",
       "      <td>Air India</td>\n",
       "      <td>NaN</td>\n",
       "      <td>2019-03-18</td>\n",
       "      <td>Mumbai</td>\n",
       "      <td>Hyderabad</td>\n",
       "      <td>BOM → HYD</td>\n",
       "      <td>Evening</td>\n",
       "      <td>Night</td>\n",
       "      <td>1.25</td>\n",
       "      <td>Zero</td>\n",
       "      <td>No info</td>\n",
       "      <td>NaN</td>\n",
       "      <td>2051</td>\n",
       "    </tr>\n",
       "    <tr>\n",
       "      <th>3708</th>\n",
       "      <td>Air India</td>\n",
       "      <td>NaN</td>\n",
       "      <td>2019-01-05</td>\n",
       "      <td>Mumbai</td>\n",
       "      <td>Hyderabad</td>\n",
       "      <td>BOM → HYD</td>\n",
       "      <td>Evening</td>\n",
       "      <td>Night</td>\n",
       "      <td>1.25</td>\n",
       "      <td>Zero</td>\n",
       "      <td>No info</td>\n",
       "      <td>NaN</td>\n",
       "      <td>3101</td>\n",
       "    </tr>\n",
       "    <tr>\n",
       "      <th>7239</th>\n",
       "      <td>Air India</td>\n",
       "      <td>NaN</td>\n",
       "      <td>2019-03-24</td>\n",
       "      <td>Mumbai</td>\n",
       "      <td>Hyderabad</td>\n",
       "      <td>BOM → HYD</td>\n",
       "      <td>Evening</td>\n",
       "      <td>Night</td>\n",
       "      <td>1.25</td>\n",
       "      <td>Zero</td>\n",
       "      <td>No info</td>\n",
       "      <td>NaN</td>\n",
       "      <td>2576</td>\n",
       "    </tr>\n",
       "    <tr>\n",
       "      <th>5060</th>\n",
       "      <td>Air India</td>\n",
       "      <td>NaN</td>\n",
       "      <td>2019-06-06</td>\n",
       "      <td>Mumbai</td>\n",
       "      <td>Hyderabad</td>\n",
       "      <td>BOM → HYD</td>\n",
       "      <td>Evening</td>\n",
       "      <td>Night</td>\n",
       "      <td>1.25</td>\n",
       "      <td>Zero</td>\n",
       "      <td>No info</td>\n",
       "      <td>NaN</td>\n",
       "      <td>3101</td>\n",
       "    </tr>\n",
       "  </tbody>\n",
       "</table>\n",
       "</div>"
      ],
      "text/plain": [
       "         Airline  flight Date_of_Journey  Source Destination      Route  \\\n",
       "10384  Air India     NaN      2019-12-05  Mumbai   Hyderabad  BOM → HYD   \n",
       "1416   Air India     NaN      2019-03-18  Mumbai   Hyderabad  BOM → HYD   \n",
       "3708   Air India     NaN      2019-01-05  Mumbai   Hyderabad  BOM → HYD   \n",
       "7239   Air India     NaN      2019-03-24  Mumbai   Hyderabad  BOM → HYD   \n",
       "5060   Air India     NaN      2019-06-06  Mumbai   Hyderabad  BOM → HYD   \n",
       "\n",
       "      Dep_Time Arrival_Time  Duration Total_Stops Additional_Info  days_left  \\\n",
       "10384  Evening        Night      1.25        Zero         No info        NaN   \n",
       "1416   Evening        Night      1.25        Zero         No info        NaN   \n",
       "3708   Evening        Night      1.25        Zero         No info        NaN   \n",
       "7239   Evening        Night      1.25        Zero         No info        NaN   \n",
       "5060   Evening        Night      1.25        Zero         No info        NaN   \n",
       "\n",
       "       Price  \n",
       "10384   3626  \n",
       "1416    2051  \n",
       "3708    3101  \n",
       "7239    2576  \n",
       "5060    3101  "
      ]
     },
     "execution_count": 71,
     "metadata": {},
     "output_type": "execute_result"
    }
   ],
   "source": [
    "cols = list(flight1.columns.values)\n",
    "cols\n",
    "flight1 = flight1[['Airline',\n",
    "         'flight',\n",
    "         'Date_of_Journey',\n",
    "         'Source',\n",
    "         'Destination',\n",
    "         'Route',\n",
    "         'Dep_Time',\n",
    "         'Arrival_Time',\n",
    "         'Duration',\n",
    "         'Total_Stops',\n",
    "         'Additional_Info',\n",
    "         'days_left',\n",
    "         'Price']]\n",
    "flight2 = flight2[['Airline',\n",
    "         'flight',\n",
    "         'Date_of_Journey',\n",
    "         'Source',\n",
    "         'Destination',\n",
    "         'Route',\n",
    "         'Dep_Time',\n",
    "         'Arrival_Time',\n",
    "         'Duration',\n",
    "         'Total_Stops',\n",
    "         'Additional_Info',\n",
    "         'days_left',\n",
    "         'Price']]"
   ]
  },
  {
   "cell_type": "code",
   "execution_count": 73,
   "id": "0395ec6c",
   "metadata": {},
   "outputs": [
    {
     "data": {
      "text/html": [
       "<div>\n",
       "<style scoped>\n",
       "    .dataframe tbody tr th:only-of-type {\n",
       "        vertical-align: middle;\n",
       "    }\n",
       "\n",
       "    .dataframe tbody tr th {\n",
       "        vertical-align: top;\n",
       "    }\n",
       "\n",
       "    .dataframe thead th {\n",
       "        text-align: right;\n",
       "    }\n",
       "</style>\n",
       "<table border=\"1\" class=\"dataframe\">\n",
       "  <thead>\n",
       "    <tr style=\"text-align: right;\">\n",
       "      <th></th>\n",
       "      <th>Airline</th>\n",
       "      <th>flight</th>\n",
       "      <th>Date_of_Journey</th>\n",
       "      <th>Source</th>\n",
       "      <th>Destination</th>\n",
       "      <th>Route</th>\n",
       "      <th>Dep_Time</th>\n",
       "      <th>Arrival_Time</th>\n",
       "      <th>Duration</th>\n",
       "      <th>Total_Stops</th>\n",
       "      <th>Additional_Info</th>\n",
       "      <th>days_left</th>\n",
       "      <th>Price</th>\n",
       "    </tr>\n",
       "  </thead>\n",
       "  <tbody>\n",
       "    <tr>\n",
       "      <th>10384</th>\n",
       "      <td>Air India</td>\n",
       "      <td>NaN</td>\n",
       "      <td>2019-12-05</td>\n",
       "      <td>Mumbai</td>\n",
       "      <td>Hyderabad</td>\n",
       "      <td>BOM → HYD</td>\n",
       "      <td>Evening</td>\n",
       "      <td>Night</td>\n",
       "      <td>1.25</td>\n",
       "      <td>Zero</td>\n",
       "      <td>No info</td>\n",
       "      <td>NaN</td>\n",
       "      <td>3626</td>\n",
       "    </tr>\n",
       "    <tr>\n",
       "      <th>1416</th>\n",
       "      <td>Air India</td>\n",
       "      <td>NaN</td>\n",
       "      <td>2019-03-18</td>\n",
       "      <td>Mumbai</td>\n",
       "      <td>Hyderabad</td>\n",
       "      <td>BOM → HYD</td>\n",
       "      <td>Evening</td>\n",
       "      <td>Night</td>\n",
       "      <td>1.25</td>\n",
       "      <td>Zero</td>\n",
       "      <td>No info</td>\n",
       "      <td>NaN</td>\n",
       "      <td>2051</td>\n",
       "    </tr>\n",
       "    <tr>\n",
       "      <th>3708</th>\n",
       "      <td>Air India</td>\n",
       "      <td>NaN</td>\n",
       "      <td>2019-01-05</td>\n",
       "      <td>Mumbai</td>\n",
       "      <td>Hyderabad</td>\n",
       "      <td>BOM → HYD</td>\n",
       "      <td>Evening</td>\n",
       "      <td>Night</td>\n",
       "      <td>1.25</td>\n",
       "      <td>Zero</td>\n",
       "      <td>No info</td>\n",
       "      <td>NaN</td>\n",
       "      <td>3101</td>\n",
       "    </tr>\n",
       "    <tr>\n",
       "      <th>7239</th>\n",
       "      <td>Air India</td>\n",
       "      <td>NaN</td>\n",
       "      <td>2019-03-24</td>\n",
       "      <td>Mumbai</td>\n",
       "      <td>Hyderabad</td>\n",
       "      <td>BOM → HYD</td>\n",
       "      <td>Evening</td>\n",
       "      <td>Night</td>\n",
       "      <td>1.25</td>\n",
       "      <td>Zero</td>\n",
       "      <td>No info</td>\n",
       "      <td>NaN</td>\n",
       "      <td>2576</td>\n",
       "    </tr>\n",
       "    <tr>\n",
       "      <th>5060</th>\n",
       "      <td>Air India</td>\n",
       "      <td>NaN</td>\n",
       "      <td>2019-06-06</td>\n",
       "      <td>Mumbai</td>\n",
       "      <td>Hyderabad</td>\n",
       "      <td>BOM → HYD</td>\n",
       "      <td>Evening</td>\n",
       "      <td>Night</td>\n",
       "      <td>1.25</td>\n",
       "      <td>Zero</td>\n",
       "      <td>No info</td>\n",
       "      <td>NaN</td>\n",
       "      <td>3101</td>\n",
       "    </tr>\n",
       "  </tbody>\n",
       "</table>\n",
       "</div>"
      ],
      "text/plain": [
       "         Airline  flight Date_of_Journey  Source Destination      Route  \\\n",
       "10384  Air India     NaN      2019-12-05  Mumbai   Hyderabad  BOM → HYD   \n",
       "1416   Air India     NaN      2019-03-18  Mumbai   Hyderabad  BOM → HYD   \n",
       "3708   Air India     NaN      2019-01-05  Mumbai   Hyderabad  BOM → HYD   \n",
       "7239   Air India     NaN      2019-03-24  Mumbai   Hyderabad  BOM → HYD   \n",
       "5060   Air India     NaN      2019-06-06  Mumbai   Hyderabad  BOM → HYD   \n",
       "\n",
       "      Dep_Time Arrival_Time  Duration Total_Stops Additional_Info  days_left  \\\n",
       "10384  Evening        Night      1.25        Zero         No info        NaN   \n",
       "1416   Evening        Night      1.25        Zero         No info        NaN   \n",
       "3708   Evening        Night      1.25        Zero         No info        NaN   \n",
       "7239   Evening        Night      1.25        Zero         No info        NaN   \n",
       "5060   Evening        Night      1.25        Zero         No info        NaN   \n",
       "\n",
       "       Price  \n",
       "10384   3626  \n",
       "1416    2051  \n",
       "3708    3101  \n",
       "7239    2576  \n",
       "5060    3101  "
      ]
     },
     "execution_count": 73,
     "metadata": {},
     "output_type": "execute_result"
    }
   ],
   "source": [
    "flight1.head()"
   ]
  },
  {
   "cell_type": "code",
   "execution_count": 81,
   "id": "5036bab7",
   "metadata": {},
   "outputs": [
    {
     "data": {
      "text/html": [
       "<div>\n",
       "<style scoped>\n",
       "    .dataframe tbody tr th:only-of-type {\n",
       "        vertical-align: middle;\n",
       "    }\n",
       "\n",
       "    .dataframe tbody tr th {\n",
       "        vertical-align: top;\n",
       "    }\n",
       "\n",
       "    .dataframe thead th {\n",
       "        text-align: right;\n",
       "    }\n",
       "</style>\n",
       "<table border=\"1\" class=\"dataframe\">\n",
       "  <thead>\n",
       "    <tr style=\"text-align: right;\">\n",
       "      <th></th>\n",
       "      <th>Airline</th>\n",
       "      <th>flight</th>\n",
       "      <th>Date_of_Journey</th>\n",
       "      <th>Source</th>\n",
       "      <th>Destination</th>\n",
       "      <th>Route</th>\n",
       "      <th>Dep_Time</th>\n",
       "      <th>Arrival_Time</th>\n",
       "      <th>Duration</th>\n",
       "      <th>Total_Stops</th>\n",
       "      <th>Additional_Info</th>\n",
       "      <th>days_left</th>\n",
       "      <th>Price</th>\n",
       "    </tr>\n",
       "  </thead>\n",
       "  <tbody>\n",
       "    <tr>\n",
       "      <th>0</th>\n",
       "      <td>SpiceJet</td>\n",
       "      <td>SG-8709</td>\n",
       "      <td>NaT</td>\n",
       "      <td>Delhi</td>\n",
       "      <td>Mumbai</td>\n",
       "      <td>NaN</td>\n",
       "      <td>Evening</td>\n",
       "      <td>Night</td>\n",
       "      <td>2.17</td>\n",
       "      <td>Zero</td>\n",
       "      <td>No info</td>\n",
       "      <td>1</td>\n",
       "      <td>5953</td>\n",
       "    </tr>\n",
       "    <tr>\n",
       "      <th>1</th>\n",
       "      <td>SpiceJet</td>\n",
       "      <td>SG-8157</td>\n",
       "      <td>NaT</td>\n",
       "      <td>Delhi</td>\n",
       "      <td>Mumbai</td>\n",
       "      <td>NaN</td>\n",
       "      <td>Early_Morning</td>\n",
       "      <td>Morning</td>\n",
       "      <td>2.33</td>\n",
       "      <td>Zero</td>\n",
       "      <td>No info</td>\n",
       "      <td>1</td>\n",
       "      <td>5953</td>\n",
       "    </tr>\n",
       "    <tr>\n",
       "      <th>2</th>\n",
       "      <td>AirAsia</td>\n",
       "      <td>I5-764</td>\n",
       "      <td>NaT</td>\n",
       "      <td>Delhi</td>\n",
       "      <td>Mumbai</td>\n",
       "      <td>NaN</td>\n",
       "      <td>Early_Morning</td>\n",
       "      <td>Early_Morning</td>\n",
       "      <td>2.17</td>\n",
       "      <td>Zero</td>\n",
       "      <td>No info</td>\n",
       "      <td>1</td>\n",
       "      <td>5956</td>\n",
       "    </tr>\n",
       "    <tr>\n",
       "      <th>3</th>\n",
       "      <td>Vistara</td>\n",
       "      <td>UK-995</td>\n",
       "      <td>NaT</td>\n",
       "      <td>Delhi</td>\n",
       "      <td>Mumbai</td>\n",
       "      <td>NaN</td>\n",
       "      <td>Morning</td>\n",
       "      <td>Afternoon</td>\n",
       "      <td>2.25</td>\n",
       "      <td>Zero</td>\n",
       "      <td>No info</td>\n",
       "      <td>1</td>\n",
       "      <td>5955</td>\n",
       "    </tr>\n",
       "    <tr>\n",
       "      <th>4</th>\n",
       "      <td>Vistara</td>\n",
       "      <td>UK-963</td>\n",
       "      <td>NaT</td>\n",
       "      <td>Delhi</td>\n",
       "      <td>Mumbai</td>\n",
       "      <td>NaN</td>\n",
       "      <td>Morning</td>\n",
       "      <td>Morning</td>\n",
       "      <td>2.33</td>\n",
       "      <td>Zero</td>\n",
       "      <td>No info</td>\n",
       "      <td>1</td>\n",
       "      <td>5955</td>\n",
       "    </tr>\n",
       "  </tbody>\n",
       "</table>\n",
       "</div>"
      ],
      "text/plain": [
       "    Airline   flight Date_of_Journey Source Destination  Route       Dep_Time  \\\n",
       "0  SpiceJet  SG-8709             NaT  Delhi      Mumbai    NaN        Evening   \n",
       "1  SpiceJet  SG-8157             NaT  Delhi      Mumbai    NaN  Early_Morning   \n",
       "2   AirAsia   I5-764             NaT  Delhi      Mumbai    NaN  Early_Morning   \n",
       "3   Vistara   UK-995             NaT  Delhi      Mumbai    NaN        Morning   \n",
       "4   Vistara   UK-963             NaT  Delhi      Mumbai    NaN        Morning   \n",
       "\n",
       "    Arrival_Time  Duration Total_Stops Additional_Info  days_left  Price  \n",
       "0          Night      2.17        Zero         No info          1   5953  \n",
       "1        Morning      2.33        Zero         No info          1   5953  \n",
       "2  Early_Morning      2.17        Zero         No info          1   5956  \n",
       "3      Afternoon      2.25        Zero         No info          1   5955  \n",
       "4        Morning      2.33        Zero         No info          1   5955  "
      ]
     },
     "execution_count": 81,
     "metadata": {},
     "output_type": "execute_result"
    }
   ],
   "source": [
    "flight2.head()"
   ]
  },
  {
   "cell_type": "code",
   "execution_count": 93,
   "id": "e4fdbd1e",
   "metadata": {},
   "outputs": [],
   "source": [
    "flight1['flight'] = flight1['flight'].astype(str)\n",
    "flight2['Date_of_Journey'] = pd.to_datetime(flight2['Date_of_Journey'], errors='coerce')\n",
    "flight2['Route'] = flight2['Route'].astype(str)\n",
    "flight2['Dep_Time'] = flight2['Dep_Time'].astype('category')\n",
    "flight2['Arrival_Time'] = flight2['Arrival_Time'].astype('category')\n",
    "flight2['days_left'] = flight2['days_left'].astype(float)"
   ]
  },
  {
   "cell_type": "code",
   "execution_count": 94,
   "id": "a1eb87b2",
   "metadata": {},
   "outputs": [
    {
     "name": "stdout",
     "output_type": "stream",
     "text": [
      "<class 'pandas.core.frame.DataFrame'>\n",
      "Int64Index: 10681 entries, 10384 to 10456\n",
      "Data columns (total 13 columns):\n",
      " #   Column           Non-Null Count  Dtype         \n",
      "---  ------           --------------  -----         \n",
      " 0   Airline          10681 non-null  object        \n",
      " 1   flight           10681 non-null  object        \n",
      " 2   Date_of_Journey  10681 non-null  datetime64[ns]\n",
      " 3   Source           10681 non-null  object        \n",
      " 4   Destination      10681 non-null  object        \n",
      " 5   Route            10681 non-null  object        \n",
      " 6   Dep_Time         10681 non-null  category      \n",
      " 7   Arrival_Time     10681 non-null  category      \n",
      " 8   Duration         10681 non-null  float64       \n",
      " 9   Total_Stops      10681 non-null  object        \n",
      " 10  Additional_Info  10681 non-null  object        \n",
      " 11  days_left        0 non-null      float64       \n",
      " 12  Price            10681 non-null  int64         \n",
      "dtypes: category(2), datetime64[ns](1), float64(2), int64(1), object(7)\n",
      "memory usage: 1022.6+ KB\n"
     ]
    }
   ],
   "source": [
    "flight1.info()"
   ]
  },
  {
   "cell_type": "code",
   "execution_count": 95,
   "id": "7170bc3c",
   "metadata": {},
   "outputs": [
    {
     "name": "stdout",
     "output_type": "stream",
     "text": [
      "<class 'pandas.core.frame.DataFrame'>\n",
      "RangeIndex: 300153 entries, 0 to 300152\n",
      "Data columns (total 13 columns):\n",
      " #   Column           Non-Null Count   Dtype         \n",
      "---  ------           --------------   -----         \n",
      " 0   Airline          300153 non-null  object        \n",
      " 1   flight           300153 non-null  object        \n",
      " 2   Date_of_Journey  0 non-null       datetime64[ns]\n",
      " 3   Source           300153 non-null  object        \n",
      " 4   Destination      300153 non-null  object        \n",
      " 5   Route            300153 non-null  object        \n",
      " 6   Dep_Time         300153 non-null  category      \n",
      " 7   Arrival_Time     300153 non-null  category      \n",
      " 8   Duration         300153 non-null  float64       \n",
      " 9   Total_Stops      300153 non-null  object        \n",
      " 10  Additional_Info  300153 non-null  object        \n",
      " 11  days_left        300153 non-null  float64       \n",
      " 12  Price            300153 non-null  int64         \n",
      "dtypes: category(2), datetime64[ns](1), float64(2), int64(1), object(7)\n",
      "memory usage: 25.8+ MB\n"
     ]
    }
   ],
   "source": [
    "flight2.info()"
   ]
  },
  {
   "cell_type": "markdown",
   "id": "c72ff6ad",
   "metadata": {},
   "source": [
    "Now the two datasets have identical column names and datatypes, so they should be able to merge smoothly. "
   ]
  },
  {
   "cell_type": "code",
   "execution_count": 96,
   "id": "a446b51f",
   "metadata": {},
   "outputs": [
    {
     "data": {
      "text/html": [
       "<div>\n",
       "<style scoped>\n",
       "    .dataframe tbody tr th:only-of-type {\n",
       "        vertical-align: middle;\n",
       "    }\n",
       "\n",
       "    .dataframe tbody tr th {\n",
       "        vertical-align: top;\n",
       "    }\n",
       "\n",
       "    .dataframe thead th {\n",
       "        text-align: right;\n",
       "    }\n",
       "</style>\n",
       "<table border=\"1\" class=\"dataframe\">\n",
       "  <thead>\n",
       "    <tr style=\"text-align: right;\">\n",
       "      <th></th>\n",
       "      <th>Airline</th>\n",
       "      <th>flight</th>\n",
       "      <th>Date_of_Journey</th>\n",
       "      <th>Source</th>\n",
       "      <th>Destination</th>\n",
       "      <th>Route</th>\n",
       "      <th>Dep_Time</th>\n",
       "      <th>Arrival_Time</th>\n",
       "      <th>Duration</th>\n",
       "      <th>Total_Stops</th>\n",
       "      <th>Additional_Info</th>\n",
       "      <th>days_left</th>\n",
       "      <th>Price</th>\n",
       "    </tr>\n",
       "  </thead>\n",
       "  <tbody>\n",
       "    <tr>\n",
       "      <th>10384</th>\n",
       "      <td>Air India</td>\n",
       "      <td>nan</td>\n",
       "      <td>2019-12-05</td>\n",
       "      <td>Mumbai</td>\n",
       "      <td>Hyderabad</td>\n",
       "      <td>BOM → HYD</td>\n",
       "      <td>Evening</td>\n",
       "      <td>Night</td>\n",
       "      <td>1.25</td>\n",
       "      <td>Zero</td>\n",
       "      <td>No info</td>\n",
       "      <td>NaN</td>\n",
       "      <td>3626</td>\n",
       "    </tr>\n",
       "    <tr>\n",
       "      <th>1416</th>\n",
       "      <td>Air India</td>\n",
       "      <td>nan</td>\n",
       "      <td>2019-03-18</td>\n",
       "      <td>Mumbai</td>\n",
       "      <td>Hyderabad</td>\n",
       "      <td>BOM → HYD</td>\n",
       "      <td>Evening</td>\n",
       "      <td>Night</td>\n",
       "      <td>1.25</td>\n",
       "      <td>Zero</td>\n",
       "      <td>No info</td>\n",
       "      <td>NaN</td>\n",
       "      <td>2051</td>\n",
       "    </tr>\n",
       "    <tr>\n",
       "      <th>3708</th>\n",
       "      <td>Air India</td>\n",
       "      <td>nan</td>\n",
       "      <td>2019-01-05</td>\n",
       "      <td>Mumbai</td>\n",
       "      <td>Hyderabad</td>\n",
       "      <td>BOM → HYD</td>\n",
       "      <td>Evening</td>\n",
       "      <td>Night</td>\n",
       "      <td>1.25</td>\n",
       "      <td>Zero</td>\n",
       "      <td>No info</td>\n",
       "      <td>NaN</td>\n",
       "      <td>3101</td>\n",
       "    </tr>\n",
       "    <tr>\n",
       "      <th>7239</th>\n",
       "      <td>Air India</td>\n",
       "      <td>nan</td>\n",
       "      <td>2019-03-24</td>\n",
       "      <td>Mumbai</td>\n",
       "      <td>Hyderabad</td>\n",
       "      <td>BOM → HYD</td>\n",
       "      <td>Evening</td>\n",
       "      <td>Night</td>\n",
       "      <td>1.25</td>\n",
       "      <td>Zero</td>\n",
       "      <td>No info</td>\n",
       "      <td>NaN</td>\n",
       "      <td>2576</td>\n",
       "    </tr>\n",
       "    <tr>\n",
       "      <th>5060</th>\n",
       "      <td>Air India</td>\n",
       "      <td>nan</td>\n",
       "      <td>2019-06-06</td>\n",
       "      <td>Mumbai</td>\n",
       "      <td>Hyderabad</td>\n",
       "      <td>BOM → HYD</td>\n",
       "      <td>Evening</td>\n",
       "      <td>Night</td>\n",
       "      <td>1.25</td>\n",
       "      <td>Zero</td>\n",
       "      <td>No info</td>\n",
       "      <td>NaN</td>\n",
       "      <td>3101</td>\n",
       "    </tr>\n",
       "  </tbody>\n",
       "</table>\n",
       "</div>"
      ],
      "text/plain": [
       "         Airline flight Date_of_Journey  Source Destination      Route  \\\n",
       "10384  Air India    nan      2019-12-05  Mumbai   Hyderabad  BOM → HYD   \n",
       "1416   Air India    nan      2019-03-18  Mumbai   Hyderabad  BOM → HYD   \n",
       "3708   Air India    nan      2019-01-05  Mumbai   Hyderabad  BOM → HYD   \n",
       "7239   Air India    nan      2019-03-24  Mumbai   Hyderabad  BOM → HYD   \n",
       "5060   Air India    nan      2019-06-06  Mumbai   Hyderabad  BOM → HYD   \n",
       "\n",
       "      Dep_Time Arrival_Time  Duration Total_Stops Additional_Info  days_left  \\\n",
       "10384  Evening        Night      1.25        Zero         No info        NaN   \n",
       "1416   Evening        Night      1.25        Zero         No info        NaN   \n",
       "3708   Evening        Night      1.25        Zero         No info        NaN   \n",
       "7239   Evening        Night      1.25        Zero         No info        NaN   \n",
       "5060   Evening        Night      1.25        Zero         No info        NaN   \n",
       "\n",
       "       Price  \n",
       "10384   3626  \n",
       "1416    2051  \n",
       "3708    3101  \n",
       "7239    2576  \n",
       "5060    3101  "
      ]
     },
     "execution_count": 96,
     "metadata": {},
     "output_type": "execute_result"
    }
   ],
   "source": [
    "merged = pd.concat([flight1, flight2], axis=0)\n",
    "merged.head()"
   ]
  },
  {
   "cell_type": "code",
   "execution_count": 98,
   "id": "dba862d7",
   "metadata": {},
   "outputs": [
    {
     "name": "stdout",
     "output_type": "stream",
     "text": [
      "<class 'pandas.core.frame.DataFrame'>\n",
      "Int64Index: 310834 entries, 10384 to 300152\n",
      "Data columns (total 13 columns):\n",
      " #   Column           Non-Null Count   Dtype         \n",
      "---  ------           --------------   -----         \n",
      " 0   Airline          310834 non-null  object        \n",
      " 1   flight           310834 non-null  object        \n",
      " 2   Date_of_Journey  10681 non-null   datetime64[ns]\n",
      " 3   Source           310834 non-null  object        \n",
      " 4   Destination      310834 non-null  object        \n",
      " 5   Route            310834 non-null  object        \n",
      " 6   Dep_Time         310834 non-null  object        \n",
      " 7   Arrival_Time     310834 non-null  object        \n",
      " 8   Duration         310834 non-null  float64       \n",
      " 9   Total_Stops      310834 non-null  object        \n",
      " 10  Additional_Info  310834 non-null  object        \n",
      " 11  days_left        300153 non-null  float64       \n",
      " 12  Price            310834 non-null  int64         \n",
      "dtypes: datetime64[ns](1), float64(2), int64(1), object(9)\n",
      "memory usage: 33.2+ MB\n"
     ]
    }
   ],
   "source": [
    "merged.info()"
   ]
  },
  {
   "cell_type": "markdown",
   "id": "3a65ad2a",
   "metadata": {},
   "source": [
    "Dataset 1 had 10681 entries and dataset 2 had 300153 entries. The merged dataset has 310834 entries meaning the two datasets were successfully combined. We can also check the unique values in each column to make sure that the values merged correctly. This will also include a little cleaning up of the values and column labels to make it look more professional. "
   ]
  },
  {
   "cell_type": "code",
   "execution_count": 99,
   "id": "db46ba65",
   "metadata": {},
   "outputs": [
    {
     "data": {
      "text/plain": [
       "array(['Air India', 'SpiceJet', 'Jet Airways', 'IndiGo', 'Vistara',\n",
       "       'Vistara Premium economy', 'Air Asia', 'GoAir', 'Trujet',\n",
       "       'Jet Airways Business', 'Multiple carriers',\n",
       "       'Multiple carriers Premium economy', 'AirAsia', 'GO_FIRST',\n",
       "       'Indigo', 'Air_India'], dtype=object)"
      ]
     },
     "execution_count": 99,
     "metadata": {},
     "output_type": "execute_result"
    }
   ],
   "source": [
    "merged['Airline'].unique()"
   ]
  },
  {
   "cell_type": "code",
   "execution_count": 101,
   "id": "0e1437f9",
   "metadata": {},
   "outputs": [
    {
     "data": {
      "text/plain": [
       "array(['Air India', 'SpiceJet', 'Jet Airways', 'IndiGo', 'Vistara',\n",
       "       'Vistara Premium economy', 'Air Asia', 'GoAir', 'Trujet',\n",
       "       'Jet Airways Business', 'Multiple carriers',\n",
       "       'Multiple carriers Premium economy', 'Go First'], dtype=object)"
      ]
     },
     "execution_count": 101,
     "metadata": {},
     "output_type": "execute_result"
    }
   ],
   "source": [
    "merged['Airline'] = [c.replace('Air_India', 'Air India') for c in merged['Airline']]\n",
    "merged['Airline'] = [c.replace('GO_FIRST', 'Go First') for c in merged['Airline']]\n",
    "merged['Airline'] = [c.replace('AirAsia', 'Air Asia') for c in merged['Airline']]\n",
    "merged['Airline'] = [c.replace('Indigo', 'IndiGo') for c in merged['Airline']]\n",
    "merged['Airline'].unique()"
   ]
  },
  {
   "cell_type": "code",
   "execution_count": 102,
   "id": "77f384af",
   "metadata": {},
   "outputs": [
    {
     "data": {
      "text/plain": [
       "array(['Mumbai', 'Chennai', 'Kolkata', 'Banglore', 'Delhi', 'Bangalore',\n",
       "       'Hyderabad'], dtype=object)"
      ]
     },
     "execution_count": 102,
     "metadata": {},
     "output_type": "execute_result"
    }
   ],
   "source": [
    "merged = merged.rename({'flight': 'Flight', 'Date_of_Journey': 'Date of Journey',\n",
    "                        'Dep_Time': 'Departure Time', 'Arrival_Time': 'Arrival Time',\n",
    "                       'Total_Stops': 'Total Stops', 'Additional_Info': 'Additional Info',\n",
    "                       'days_left': 'Days Left'}, axis=1)\n",
    "merged['Source'].unique()"
   ]
  },
  {
   "cell_type": "code",
   "execution_count": 103,
   "id": "23a11369",
   "metadata": {},
   "outputs": [
    {
     "data": {
      "text/plain": [
       "array(['Mumbai', 'Chennai', 'Kolkata', 'Bangalore', 'Delhi', 'Hyderabad'],\n",
       "      dtype=object)"
      ]
     },
     "execution_count": 103,
     "metadata": {},
     "output_type": "execute_result"
    }
   ],
   "source": [
    "merged['Source'] = [c.replace('Banglore', 'Bangalore') for c in merged['Source']]\n",
    "merged['Source'].unique()"
   ]
  },
  {
   "cell_type": "code",
   "execution_count": 104,
   "id": "60de9bab",
   "metadata": {},
   "outputs": [
    {
     "data": {
      "text/plain": [
       "array(['Hyderabad', 'Kolkata', 'Banglore', 'Delhi', 'New Delhi', 'Cochin',\n",
       "       'Mumbai', 'Bangalore', 'Chennai'], dtype=object)"
      ]
     },
     "execution_count": 104,
     "metadata": {},
     "output_type": "execute_result"
    }
   ],
   "source": [
    "merged['Destination'].unique()"
   ]
  },
  {
   "cell_type": "code",
   "execution_count": 105,
   "id": "0c1f8d1c",
   "metadata": {},
   "outputs": [
    {
     "data": {
      "text/plain": [
       "array(['Hyderabad', 'Kolkata', 'Bangalore', 'Delhi', 'New Delhi',\n",
       "       'Cochin', 'Mumbai', 'Chennai'], dtype=object)"
      ]
     },
     "execution_count": 105,
     "metadata": {},
     "output_type": "execute_result"
    }
   ],
   "source": [
    "merged['Destination'] = [c.replace('Banglore', 'Bangalore') for c in merged['Destination']]\n",
    "merged['Destination'].unique()"
   ]
  },
  {
   "cell_type": "code",
   "execution_count": 106,
   "id": "60def4f8",
   "metadata": {},
   "outputs": [
    {
     "data": {
      "text/plain": [
       "array(['Evening', 'Night', 'Afternoon', 'Early Morning', 'Late Night',\n",
       "       'Morning', 'Early_Morning', 'Late_Night'], dtype=object)"
      ]
     },
     "execution_count": 106,
     "metadata": {},
     "output_type": "execute_result"
    }
   ],
   "source": [
    "merged['Departure Time'].unique()"
   ]
  },
  {
   "cell_type": "code",
   "execution_count": 107,
   "id": "050bdecc",
   "metadata": {},
   "outputs": [
    {
     "data": {
      "text/plain": [
       "array(['Evening', 'Night', 'Afternoon', 'Early Morning', 'Late Night',\n",
       "       'Morning'], dtype=object)"
      ]
     },
     "execution_count": 107,
     "metadata": {},
     "output_type": "execute_result"
    }
   ],
   "source": [
    "merged['Departure Time'] = [c.replace('Early_Morning', 'Early Morning') for c in merged['Departure Time']]\n",
    "merged['Departure Time'] = [c.replace('Late_Night', 'Late Night') for c in merged['Departure Time']]\n",
    "merged['Departure Time'].unique()"
   ]
  },
  {
   "cell_type": "code",
   "execution_count": 108,
   "id": "ef9dd32e",
   "metadata": {},
   "outputs": [
    {
     "data": {
      "text/plain": [
       "array(['Night', 'Afternoon', 'Early Morning', 'Morning', 'Evening',\n",
       "       'Late Night', 'Early_Morning', 'Late_Night'], dtype=object)"
      ]
     },
     "execution_count": 108,
     "metadata": {},
     "output_type": "execute_result"
    }
   ],
   "source": [
    "merged['Arrival Time'].unique()"
   ]
  },
  {
   "cell_type": "code",
   "execution_count": 109,
   "id": "05e1ec56",
   "metadata": {},
   "outputs": [
    {
     "data": {
      "text/plain": [
       "array(['Night', 'Afternoon', 'Early Morning', 'Morning', 'Evening',\n",
       "       'Late Night'], dtype=object)"
      ]
     },
     "execution_count": 109,
     "metadata": {},
     "output_type": "execute_result"
    }
   ],
   "source": [
    "merged['Arrival Time'] = [c.replace('Early_Morning', 'Early Morning') for c in merged['Arrival Time']]\n",
    "merged['Arrival Time'] = [c.replace('Late_Night', 'Late Night') for c in merged['Arrival Time']]\n",
    "merged['Arrival Time'].unique()"
   ]
  },
  {
   "cell_type": "code",
   "execution_count": 110,
   "id": "a3f76308",
   "metadata": {},
   "outputs": [
    {
     "data": {
      "text/plain": [
       "array(['Zero', 'Two or more', 'One'], dtype=object)"
      ]
     },
     "execution_count": 110,
     "metadata": {},
     "output_type": "execute_result"
    }
   ],
   "source": [
    "merged['Total Stops'].unique()"
   ]
  },
  {
   "cell_type": "code",
   "execution_count": 111,
   "id": "a9daddc2",
   "metadata": {},
   "outputs": [
    {
     "data": {
      "text/plain": [
       "array(['No info', 'No check-in baggage included',\n",
       "       'In-flight meal not included', 'Red-eye flight', 'Business class',\n",
       "       'Change airports', '1 Long layover', '1 Short layover',\n",
       "       '2 Long layover'], dtype=object)"
      ]
     },
     "execution_count": 111,
     "metadata": {},
     "output_type": "execute_result"
    }
   ],
   "source": [
    "merged['Additional Info'].unique()"
   ]
  },
  {
   "cell_type": "code",
   "execution_count": 112,
   "id": "40452428",
   "metadata": {},
   "outputs": [
    {
     "data": {
      "text/html": [
       "<div>\n",
       "<style scoped>\n",
       "    .dataframe tbody tr th:only-of-type {\n",
       "        vertical-align: middle;\n",
       "    }\n",
       "\n",
       "    .dataframe tbody tr th {\n",
       "        vertical-align: top;\n",
       "    }\n",
       "\n",
       "    .dataframe thead th {\n",
       "        text-align: right;\n",
       "    }\n",
       "</style>\n",
       "<table border=\"1\" class=\"dataframe\">\n",
       "  <thead>\n",
       "    <tr style=\"text-align: right;\">\n",
       "      <th></th>\n",
       "      <th>Airline</th>\n",
       "      <th>Flight</th>\n",
       "      <th>Date of Journey</th>\n",
       "      <th>Source</th>\n",
       "      <th>Destination</th>\n",
       "      <th>Route</th>\n",
       "      <th>Departure Time</th>\n",
       "      <th>Arrival Time</th>\n",
       "      <th>Duration</th>\n",
       "      <th>Total Stops</th>\n",
       "      <th>Additional Info</th>\n",
       "      <th>Days Left</th>\n",
       "      <th>Price</th>\n",
       "    </tr>\n",
       "  </thead>\n",
       "  <tbody>\n",
       "    <tr>\n",
       "      <th>10384</th>\n",
       "      <td>Air India</td>\n",
       "      <td>nan</td>\n",
       "      <td>2019-12-05</td>\n",
       "      <td>Mumbai</td>\n",
       "      <td>Hyderabad</td>\n",
       "      <td>BOM → HYD</td>\n",
       "      <td>Evening</td>\n",
       "      <td>Night</td>\n",
       "      <td>1.25</td>\n",
       "      <td>Zero</td>\n",
       "      <td>No info</td>\n",
       "      <td>NaN</td>\n",
       "      <td>3626</td>\n",
       "    </tr>\n",
       "    <tr>\n",
       "      <th>1416</th>\n",
       "      <td>Air India</td>\n",
       "      <td>nan</td>\n",
       "      <td>2019-03-18</td>\n",
       "      <td>Mumbai</td>\n",
       "      <td>Hyderabad</td>\n",
       "      <td>BOM → HYD</td>\n",
       "      <td>Evening</td>\n",
       "      <td>Night</td>\n",
       "      <td>1.25</td>\n",
       "      <td>Zero</td>\n",
       "      <td>No info</td>\n",
       "      <td>NaN</td>\n",
       "      <td>2051</td>\n",
       "    </tr>\n",
       "    <tr>\n",
       "      <th>3708</th>\n",
       "      <td>Air India</td>\n",
       "      <td>nan</td>\n",
       "      <td>2019-01-05</td>\n",
       "      <td>Mumbai</td>\n",
       "      <td>Hyderabad</td>\n",
       "      <td>BOM → HYD</td>\n",
       "      <td>Evening</td>\n",
       "      <td>Night</td>\n",
       "      <td>1.25</td>\n",
       "      <td>Zero</td>\n",
       "      <td>No info</td>\n",
       "      <td>NaN</td>\n",
       "      <td>3101</td>\n",
       "    </tr>\n",
       "    <tr>\n",
       "      <th>7239</th>\n",
       "      <td>Air India</td>\n",
       "      <td>nan</td>\n",
       "      <td>2019-03-24</td>\n",
       "      <td>Mumbai</td>\n",
       "      <td>Hyderabad</td>\n",
       "      <td>BOM → HYD</td>\n",
       "      <td>Evening</td>\n",
       "      <td>Night</td>\n",
       "      <td>1.25</td>\n",
       "      <td>Zero</td>\n",
       "      <td>No info</td>\n",
       "      <td>NaN</td>\n",
       "      <td>2576</td>\n",
       "    </tr>\n",
       "    <tr>\n",
       "      <th>5060</th>\n",
       "      <td>Air India</td>\n",
       "      <td>nan</td>\n",
       "      <td>2019-06-06</td>\n",
       "      <td>Mumbai</td>\n",
       "      <td>Hyderabad</td>\n",
       "      <td>BOM → HYD</td>\n",
       "      <td>Evening</td>\n",
       "      <td>Night</td>\n",
       "      <td>1.25</td>\n",
       "      <td>Zero</td>\n",
       "      <td>No info</td>\n",
       "      <td>NaN</td>\n",
       "      <td>3101</td>\n",
       "    </tr>\n",
       "  </tbody>\n",
       "</table>\n",
       "</div>"
      ],
      "text/plain": [
       "         Airline Flight Date of Journey  Source Destination      Route  \\\n",
       "10384  Air India    nan      2019-12-05  Mumbai   Hyderabad  BOM → HYD   \n",
       "1416   Air India    nan      2019-03-18  Mumbai   Hyderabad  BOM → HYD   \n",
       "3708   Air India    nan      2019-01-05  Mumbai   Hyderabad  BOM → HYD   \n",
       "7239   Air India    nan      2019-03-24  Mumbai   Hyderabad  BOM → HYD   \n",
       "5060   Air India    nan      2019-06-06  Mumbai   Hyderabad  BOM → HYD   \n",
       "\n",
       "      Departure Time Arrival Time  Duration Total Stops Additional Info  \\\n",
       "10384        Evening        Night      1.25        Zero         No info   \n",
       "1416         Evening        Night      1.25        Zero         No info   \n",
       "3708         Evening        Night      1.25        Zero         No info   \n",
       "7239         Evening        Night      1.25        Zero         No info   \n",
       "5060         Evening        Night      1.25        Zero         No info   \n",
       "\n",
       "       Days Left  Price  \n",
       "10384        NaN   3626  \n",
       "1416         NaN   2051  \n",
       "3708         NaN   3101  \n",
       "7239         NaN   2576  \n",
       "5060         NaN   3101  "
      ]
     },
     "execution_count": 112,
     "metadata": {},
     "output_type": "execute_result"
    }
   ],
   "source": [
    "merged.head()"
   ]
  },
  {
   "cell_type": "markdown",
   "id": "f705198a",
   "metadata": {},
   "source": [
    "After analzying the unique categories for each column and confirming the total number of rows in the data, we can assure the data has been merged successfully. "
   ]
  },
  {
   "cell_type": "markdown",
   "id": "3063ca2e-ec1b-4799-bc76-4a464fc82921",
   "metadata": {
    "tags": []
   },
   "source": [
    "### Part 5 - Explore Bivariate relationships\n",
    "\n",
    "- Choose a reasoned set of variables to explore further.  You don't have to explore all possible pairs of variables, nor do we want to grade that much.  Choose 7 - 9 variables. One should be a variable that you'd like to predict (target variable) using the others (predictor variables). \n",
    "- List your predictor variables\n",
    "- List your target variable\n",
    "- Briefly describe why you have chosen these. \n",
    "\n",
    "Use any of the available visualizations from Seaborn to explore the relationships between the variables. Explore the relationships among the predictor variables as well as the relationship between each predictor variable and the target variable.  Which of the predictor variables are most strongly related?  Are there any interesting relationships between categorical predictors and numeric predictors?  If there are any dichotomous variables, does that influence any of the relationships? Are the relationships positive or negative? \n",
    "\n",
    "Below each plot, you should provide a description and interpretation of the plot.  Make sure to include why the variables in that plot were chosen and what you hope the reader would gain from it as well. "
   ]
  },
  {
   "cell_type": "code",
   "execution_count": null,
   "id": "e0cb54b0",
   "metadata": {},
   "outputs": [],
   "source": []
  }
 ],
 "metadata": {
  "kernelspec": {
   "display_name": "Python 3 (ipykernel)",
   "language": "python",
   "name": "python3"
  },
  "language_info": {
   "codemirror_mode": {
    "name": "ipython",
    "version": 3
   },
   "file_extension": ".py",
   "mimetype": "text/x-python",
   "name": "python",
   "nbconvert_exporter": "python",
   "pygments_lexer": "ipython3",
   "version": "3.9.7"
  }
 },
 "nbformat": 4,
 "nbformat_minor": 5
}
