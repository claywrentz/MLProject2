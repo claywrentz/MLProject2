{
 "cells": [
  {
   "cell_type": "markdown",
   "id": "245918b3-be3c-4d1f-9a58-7f2a88d01183",
   "metadata": {},
   "source": [
    "# Project 2\n",
    "### CS 5/7394 - Applied Machine Learning\n",
    "\n",
    "- **Due** - March 11 @ 11:59 pm pushed to Github repo\n",
    "- **Teams** - You can do this project solo or in pairs.  Not 3, not 4 not 5... Max of 2. If a 5394 student pairs with a 7394 student, the pair needs to do the 7394 work. "
   ]
  },
  {
   "cell_type": "markdown",
   "id": "cae9b08f-7745-4dfb-8927-258f22423720",
   "metadata": {},
   "source": [
    "Below are 6 Kaggle Datasets.  You will choose 1 to work with for this project. \n",
    "\n",
    "- [Airfare Prediction Dataset](https://www.kaggle.com/zwartfreak/airline-fare-prediction)\n",
    "- [Chinese Rest Holiday Dataset](https://www.kaggle.com/holoong9291/chinese-rest-holiday-dataset-2020-to-2022)\n",
    "- [Jigsaw Toxic Comment Classification Challenge](https://www.kaggle.com/julian3833/jigsaw-toxic-comment-classification-challenge?select=train.csv)\n",
    "- [Latest Covid 19 Dataset Worldwide](https://www.kaggle.com/sandhyakrishnan02/latest-covid-19-dataset-worldwide)\n",
    "- [Trains](https://www.kaggle.com/vahidehdashti/machinelearningdatabase-trains?select=trains-original.data)\n",
    "- [Football Data top 5 Leagues](https://www.kaggle.com/sanjeetsinghnaik/football-data-top-5-leagues)\n",
    "\n",
    "Merging disparate datasets is a staple of the data exploration process.  Therefore, for which ever data set above that you choose, you will need to independently find **an additional** dataset to merge with your selection.  The only requirement is that it add to the richness of the original dataset. Students in the 7000-level version of the class need to find two additional data sets to merge with the original selection. \n",
    "\n",
    "_Note_: If you want to start with a different data set, you need to get Fontenot's OK first.  "
   ]
  },
  {
   "cell_type": "markdown",
   "id": "126330db-b29f-46d9-b16e-7811612a9e73",
   "metadata": {},
   "source": [
    "### Your Tasks\n",
    "\n",
    "Below, there are cells that provide directions on what to do for the project.  \n",
    "\n",
    "You can insert as many cells between the ones below as you'd like, but please **Do NOT** change the cells already provided. "
   ]
  },
  {
   "cell_type": "markdown",
   "id": "0f2ca87f-07eb-4792-b76e-15f2f01d1408",
   "metadata": {},
   "source": [
    "### Part 1 - Getting Started\n",
    "\n",
    "- Import libraries\n",
    "- Load original Data (which ever one you chose from the provided list) into a data frame. \n",
    "- Load your additional data set(s) into a data frame. \n",
    "- In a markdown cell, provide a brief description of your the data sets you've chosen to work with.  \n",
    "- Develop a list of 3 - 4 questions that you hope to be able to answer after the exploration of the data and write them in this section. "
   ]
  },
  {
   "cell_type": "markdown",
   "id": "0677b38a",
   "metadata": {},
   "source": [
    "https://www.kaggle.com/datasets/shubhambathwal/flight-price-prediction?select=Clean_Dataset.csv"
   ]
  },
  {
   "cell_type": "code",
   "execution_count": 1,
   "id": "eb138aa4",
   "metadata": {},
   "outputs": [],
   "source": [
    "import pandas as pd\n",
    "import numpy as np\n",
    "import seaborn as sns\n",
    "import matplotlib.pyplot as plt\n",
    "import matplotlib as mpl"
   ]
  },
  {
   "cell_type": "code",
   "execution_count": 2,
   "id": "7035f9c5",
   "metadata": {},
   "outputs": [],
   "source": [
    "path1 = '/Users/claywrentz/Desktop/ML-Fontenot/MLProject2/Dataset1/train.xlsx' \n",
    "path2 = '/Users/claywrentz/Desktop/ML-Fontenot/MLProject2/Dataset2.csv'\n",
    "\n",
    "flight1 = pd.read_excel(path1)\n",
    "flight2 = pd.read_csv(path2)"
   ]
  },
  {
   "cell_type": "markdown",
   "id": "6263162f",
   "metadata": {},
   "source": [
    "The first data set contains data on airfare prices for different flights, I can't find where the data was scraped from however I got it from [this](https://www.kaggle.com/datasets/zwartfreak/airline-fare-prediction?select=train.xlsx) link. It is split into a train and test set. The train set has 10,683 entries and the test set has 2,671 entries. Both sets have 11 different attributes. For this analysis I will only be using the train set. The prediction attribute is price. This data set uses numbers to represent the time of day. "
   ]
  },
  {
   "cell_type": "code",
   "execution_count": 3,
   "id": "93687f71",
   "metadata": {},
   "outputs": [
    {
     "data": {
      "text/html": [
       "<div>\n",
       "<style scoped>\n",
       "    .dataframe tbody tr th:only-of-type {\n",
       "        vertical-align: middle;\n",
       "    }\n",
       "\n",
       "    .dataframe tbody tr th {\n",
       "        vertical-align: top;\n",
       "    }\n",
       "\n",
       "    .dataframe thead th {\n",
       "        text-align: right;\n",
       "    }\n",
       "</style>\n",
       "<table border=\"1\" class=\"dataframe\">\n",
       "  <thead>\n",
       "    <tr style=\"text-align: right;\">\n",
       "      <th></th>\n",
       "      <th>Airline</th>\n",
       "      <th>Date_of_Journey</th>\n",
       "      <th>Source</th>\n",
       "      <th>Destination</th>\n",
       "      <th>Route</th>\n",
       "      <th>Dep_Time</th>\n",
       "      <th>Arrival_Time</th>\n",
       "      <th>Duration</th>\n",
       "      <th>Total_Stops</th>\n",
       "      <th>Additional Info</th>\n",
       "      <th>Price</th>\n",
       "    </tr>\n",
       "  </thead>\n",
       "  <tbody>\n",
       "    <tr>\n",
       "      <th>0</th>\n",
       "      <td>IndiGo</td>\n",
       "      <td>24/03/2019</td>\n",
       "      <td>Banglore</td>\n",
       "      <td>New Delhi</td>\n",
       "      <td>BLR → DEL</td>\n",
       "      <td>22:20</td>\n",
       "      <td>01:10 22 Mar</td>\n",
       "      <td>2h 50m</td>\n",
       "      <td>non-stop</td>\n",
       "      <td>No info</td>\n",
       "      <td>3898</td>\n",
       "    </tr>\n",
       "    <tr>\n",
       "      <th>1</th>\n",
       "      <td>Air India</td>\n",
       "      <td>1/05/2019</td>\n",
       "      <td>Kolkata</td>\n",
       "      <td>Banglore</td>\n",
       "      <td>CCU → IXR → BBI → BLR</td>\n",
       "      <td>05:50</td>\n",
       "      <td>13:15</td>\n",
       "      <td>7h 25m</td>\n",
       "      <td>2 stops</td>\n",
       "      <td>No info</td>\n",
       "      <td>7663</td>\n",
       "    </tr>\n",
       "    <tr>\n",
       "      <th>2</th>\n",
       "      <td>Jet Airways</td>\n",
       "      <td>9/06/2019</td>\n",
       "      <td>Delhi</td>\n",
       "      <td>Cochin</td>\n",
       "      <td>DEL → LKO → BOM → COK</td>\n",
       "      <td>09:25</td>\n",
       "      <td>04:25 10 Jun</td>\n",
       "      <td>19h</td>\n",
       "      <td>2 stops</td>\n",
       "      <td>No info</td>\n",
       "      <td>13883</td>\n",
       "    </tr>\n",
       "    <tr>\n",
       "      <th>3</th>\n",
       "      <td>IndiGo</td>\n",
       "      <td>12/05/2019</td>\n",
       "      <td>Kolkata</td>\n",
       "      <td>Banglore</td>\n",
       "      <td>CCU → NAG → BLR</td>\n",
       "      <td>18:05</td>\n",
       "      <td>23:30</td>\n",
       "      <td>5h 25m</td>\n",
       "      <td>1 stop</td>\n",
       "      <td>No info</td>\n",
       "      <td>6219</td>\n",
       "    </tr>\n",
       "    <tr>\n",
       "      <th>4</th>\n",
       "      <td>IndiGo</td>\n",
       "      <td>01/03/2019</td>\n",
       "      <td>Banglore</td>\n",
       "      <td>New Delhi</td>\n",
       "      <td>BLR → NAG → DEL</td>\n",
       "      <td>16:50</td>\n",
       "      <td>21:35</td>\n",
       "      <td>4h 45m</td>\n",
       "      <td>1 stop</td>\n",
       "      <td>No info</td>\n",
       "      <td>13303</td>\n",
       "    </tr>\n",
       "  </tbody>\n",
       "</table>\n",
       "</div>"
      ],
      "text/plain": [
       "       Airline Date_of_Journey    Source Destination                  Route  \\\n",
       "0       IndiGo      24/03/2019  Banglore   New Delhi              BLR → DEL   \n",
       "1    Air India       1/05/2019   Kolkata    Banglore  CCU → IXR → BBI → BLR   \n",
       "2  Jet Airways       9/06/2019     Delhi      Cochin  DEL → LKO → BOM → COK   \n",
       "3       IndiGo      12/05/2019   Kolkata    Banglore        CCU → NAG → BLR   \n",
       "4       IndiGo      01/03/2019  Banglore   New Delhi        BLR → NAG → DEL   \n",
       "\n",
       "  Dep_Time  Arrival_Time Duration Total_Stops Additional Info  Price  \n",
       "0    22:20  01:10 22 Mar   2h 50m    non-stop         No info   3898  \n",
       "1    05:50         13:15   7h 25m     2 stops         No info   7663  \n",
       "2    09:25  04:25 10 Jun      19h     2 stops         No info  13883  \n",
       "3    18:05         23:30   5h 25m      1 stop         No info   6219  \n",
       "4    16:50         21:35   4h 45m      1 stop         No info  13303  "
      ]
     },
     "execution_count": 3,
     "metadata": {},
     "output_type": "execute_result"
    }
   ],
   "source": [
    "flight1.head()"
   ]
  },
  {
   "cell_type": "markdown",
   "id": "607d2f3a",
   "metadata": {},
   "source": [
    "The second data set also contains data on airfare prices for different flights, but specifically focuses on flight travel between India's top 6 metro cities. This data is collected from the website \"Easemytrip\" and I found it at [this](https://www.kaggle.com/datasets/shubhambathwal/flight-price-prediction?select=Clean_Dataset.csv) link. This dataset uses categories to represent the time of day (morning, evening, etc.). This datasets prediction attribute is also price. This dataset has 300,153 entries and 11 different attributes. \n",
    "\n"
   ]
  },
  {
   "cell_type": "code",
   "execution_count": 4,
   "id": "2da0cb21",
   "metadata": {},
   "outputs": [
    {
     "data": {
      "text/html": [
       "<div>\n",
       "<style scoped>\n",
       "    .dataframe tbody tr th:only-of-type {\n",
       "        vertical-align: middle;\n",
       "    }\n",
       "\n",
       "    .dataframe tbody tr th {\n",
       "        vertical-align: top;\n",
       "    }\n",
       "\n",
       "    .dataframe thead th {\n",
       "        text-align: right;\n",
       "    }\n",
       "</style>\n",
       "<table border=\"1\" class=\"dataframe\">\n",
       "  <thead>\n",
       "    <tr style=\"text-align: right;\">\n",
       "      <th></th>\n",
       "      <th>Unnamed: 0</th>\n",
       "      <th>airline</th>\n",
       "      <th>flight</th>\n",
       "      <th>source_city</th>\n",
       "      <th>departure_time</th>\n",
       "      <th>stops</th>\n",
       "      <th>arrival_time</th>\n",
       "      <th>destination_city</th>\n",
       "      <th>class</th>\n",
       "      <th>duration</th>\n",
       "      <th>days_left</th>\n",
       "      <th>price</th>\n",
       "    </tr>\n",
       "  </thead>\n",
       "  <tbody>\n",
       "    <tr>\n",
       "      <th>0</th>\n",
       "      <td>0</td>\n",
       "      <td>SpiceJet</td>\n",
       "      <td>SG-8709</td>\n",
       "      <td>Delhi</td>\n",
       "      <td>Evening</td>\n",
       "      <td>zero</td>\n",
       "      <td>Night</td>\n",
       "      <td>Mumbai</td>\n",
       "      <td>Economy</td>\n",
       "      <td>2.17</td>\n",
       "      <td>1</td>\n",
       "      <td>5953</td>\n",
       "    </tr>\n",
       "    <tr>\n",
       "      <th>1</th>\n",
       "      <td>1</td>\n",
       "      <td>SpiceJet</td>\n",
       "      <td>SG-8157</td>\n",
       "      <td>Delhi</td>\n",
       "      <td>Early_Morning</td>\n",
       "      <td>zero</td>\n",
       "      <td>Morning</td>\n",
       "      <td>Mumbai</td>\n",
       "      <td>Economy</td>\n",
       "      <td>2.33</td>\n",
       "      <td>1</td>\n",
       "      <td>5953</td>\n",
       "    </tr>\n",
       "    <tr>\n",
       "      <th>2</th>\n",
       "      <td>2</td>\n",
       "      <td>AirAsia</td>\n",
       "      <td>I5-764</td>\n",
       "      <td>Delhi</td>\n",
       "      <td>Early_Morning</td>\n",
       "      <td>zero</td>\n",
       "      <td>Early_Morning</td>\n",
       "      <td>Mumbai</td>\n",
       "      <td>Economy</td>\n",
       "      <td>2.17</td>\n",
       "      <td>1</td>\n",
       "      <td>5956</td>\n",
       "    </tr>\n",
       "    <tr>\n",
       "      <th>3</th>\n",
       "      <td>3</td>\n",
       "      <td>Vistara</td>\n",
       "      <td>UK-995</td>\n",
       "      <td>Delhi</td>\n",
       "      <td>Morning</td>\n",
       "      <td>zero</td>\n",
       "      <td>Afternoon</td>\n",
       "      <td>Mumbai</td>\n",
       "      <td>Economy</td>\n",
       "      <td>2.25</td>\n",
       "      <td>1</td>\n",
       "      <td>5955</td>\n",
       "    </tr>\n",
       "    <tr>\n",
       "      <th>4</th>\n",
       "      <td>4</td>\n",
       "      <td>Vistara</td>\n",
       "      <td>UK-963</td>\n",
       "      <td>Delhi</td>\n",
       "      <td>Morning</td>\n",
       "      <td>zero</td>\n",
       "      <td>Morning</td>\n",
       "      <td>Mumbai</td>\n",
       "      <td>Economy</td>\n",
       "      <td>2.33</td>\n",
       "      <td>1</td>\n",
       "      <td>5955</td>\n",
       "    </tr>\n",
       "  </tbody>\n",
       "</table>\n",
       "</div>"
      ],
      "text/plain": [
       "   Unnamed: 0   airline   flight source_city departure_time stops  \\\n",
       "0           0  SpiceJet  SG-8709       Delhi        Evening  zero   \n",
       "1           1  SpiceJet  SG-8157       Delhi  Early_Morning  zero   \n",
       "2           2   AirAsia   I5-764       Delhi  Early_Morning  zero   \n",
       "3           3   Vistara   UK-995       Delhi        Morning  zero   \n",
       "4           4   Vistara   UK-963       Delhi        Morning  zero   \n",
       "\n",
       "    arrival_time destination_city    class  duration  days_left  price  \n",
       "0          Night           Mumbai  Economy      2.17          1   5953  \n",
       "1        Morning           Mumbai  Economy      2.33          1   5953  \n",
       "2  Early_Morning           Mumbai  Economy      2.17          1   5956  \n",
       "3      Afternoon           Mumbai  Economy      2.25          1   5955  \n",
       "4        Morning           Mumbai  Economy      2.33          1   5955  "
      ]
     },
     "execution_count": 4,
     "metadata": {},
     "output_type": "execute_result"
    }
   ],
   "source": [
    "flight2.head()\n"
   ]
  },
  {
   "cell_type": "markdown",
   "id": "9bcc60c9",
   "metadata": {},
   "source": [
    "### Questions \n",
    "\n",
    "1. Is there any trend based on what day of the week you buy a flight and how much it costs.\n",
    "\n",
    "2. What are the most expensive regions to fly to?\n",
    "\n",
    "3. Is there a major price difference between flights that have stops and flights that don't?\n",
    "\n",
    "4. How/why do prices vary with different airlines?\n",
    "\n"
   ]
  },
  {
   "cell_type": "markdown",
   "id": "7dc8b1e5-3e29-4da6-8d36-0e7cf48a3e59",
   "metadata": {},
   "source": [
    "### Part 2 - Data Inspection\n",
    "\n",
    "Write some code to summarize the datasets.  Think about the following questions:\n",
    "- What type of data is each variable? (think like a data scientist here, not a computer scientist)\n",
    "- What is the total size of the data sets?\n",
    "- What time boundaries are there in the dataset?  IOW, what time frame do they span?\n",
    "- Are there any missing values in any of the variables? \n",
    "\n",
    "Do this with Intentionality.  Don't skimp. "
   ]
  },
  {
   "cell_type": "markdown",
   "id": "34f03457",
   "metadata": {},
   "source": [
    "### Data Set 1"
   ]
  },
  {
   "cell_type": "code",
   "execution_count": 5,
   "id": "393dbd5e",
   "metadata": {},
   "outputs": [
    {
     "name": "stdout",
     "output_type": "stream",
     "text": [
      "<class 'pandas.core.frame.DataFrame'>\n",
      "RangeIndex: 10683 entries, 0 to 10682\n",
      "Data columns (total 11 columns):\n",
      " #   Column           Non-Null Count  Dtype \n",
      "---  ------           --------------  ----- \n",
      " 0   Airline          10683 non-null  object\n",
      " 1   Date_of_Journey  10683 non-null  object\n",
      " 2   Source           10683 non-null  object\n",
      " 3   Destination      10683 non-null  object\n",
      " 4   Route            10682 non-null  object\n",
      " 5   Dep_Time         10683 non-null  object\n",
      " 6   Arrival_Time     10683 non-null  object\n",
      " 7   Duration         10683 non-null  object\n",
      " 8   Total_Stops      10682 non-null  object\n",
      " 9   Additional_Info  10683 non-null  object\n",
      " 10  Price            10683 non-null  int64 \n",
      "dtypes: int64(1), object(10)\n",
      "memory usage: 918.2+ KB\n"
     ]
    },
    {
     "data": {
      "text/plain": [
       "array(['No info', 'In-flight meal not included',\n",
       "       'No check-in baggage included', '1 Short layover', 'No Info',\n",
       "       '1 Long layover', 'Change airports', 'Business class',\n",
       "       'Red-eye flight', '2 Long layover'], dtype=object)"
      ]
     },
     "execution_count": 5,
     "metadata": {},
     "output_type": "execute_result"
    }
   ],
   "source": [
    "flight1.columns = [c.replace(' ', '_') for c in flight1.columns]\n",
    "flight1.info()\n",
    "flight1.shape\n",
    "flight1.Additional_Info.unique()"
   ]
  },
  {
   "cell_type": "markdown",
   "id": "f935792b",
   "metadata": {},
   "source": [
    "**Airline:** Nominal categorical variable, 12 categories\n",
    "\n",
    "**Date of Journey:** Continuous numerical variable, initially stored as a string, will be datetime\n",
    "    \n",
    "**Source:** Nominal categorical variable, 5 categories\n",
    "    \n",
    "**Destination:** Nominal categorical variable, 6 categories\n",
    "    \n",
    "**Route:** Nominal categorical variable, 129 categories\n",
    "    \n",
    "**Departure Time:** Continuous numerical variable, initially stored as a string, will be datetime\n",
    "    \n",
    "**Arrival Time:** Continuous numerical variable, initially stored as a string, will be datetime\n",
    "    \n",
    "**Duration:** Discrete numerical variable, initially stored as a string\n",
    "    \n",
    "**Total Stops:** Discrete numerical variable\n",
    "    \n",
    "**Additional Info:** Nominal categorical variable, 10 categories\n",
    "    \n",
    "**Price:** Discrete numerical variable, stored as an int\n",
    "\n",
    "\n",
    "\n",
    "\n",
    "This dataset has 11 attributes and 10,683 entries, which is 117,513 total data points. \n"
   ]
  },
  {
   "cell_type": "code",
   "execution_count": 6,
   "id": "3ead7cbd",
   "metadata": {},
   "outputs": [
    {
     "data": {
      "text/html": [
       "<div>\n",
       "<style scoped>\n",
       "    .dataframe tbody tr th:only-of-type {\n",
       "        vertical-align: middle;\n",
       "    }\n",
       "\n",
       "    .dataframe tbody tr th {\n",
       "        vertical-align: top;\n",
       "    }\n",
       "\n",
       "    .dataframe thead th {\n",
       "        text-align: right;\n",
       "    }\n",
       "</style>\n",
       "<table border=\"1\" class=\"dataframe\">\n",
       "  <thead>\n",
       "    <tr style=\"text-align: right;\">\n",
       "      <th></th>\n",
       "      <th>Airline</th>\n",
       "      <th>Date_of_Journey</th>\n",
       "      <th>Source</th>\n",
       "      <th>Destination</th>\n",
       "      <th>Route</th>\n",
       "      <th>Dep_Time</th>\n",
       "      <th>Arrival_Time</th>\n",
       "      <th>Duration</th>\n",
       "      <th>Total_Stops</th>\n",
       "      <th>Additional_Info</th>\n",
       "      <th>Price</th>\n",
       "    </tr>\n",
       "  </thead>\n",
       "  <tbody>\n",
       "    <tr>\n",
       "      <th>0</th>\n",
       "      <td>IndiGo</td>\n",
       "      <td>2019-03-24</td>\n",
       "      <td>Banglore</td>\n",
       "      <td>New Delhi</td>\n",
       "      <td>BLR → DEL</td>\n",
       "      <td>22:20</td>\n",
       "      <td>01:10 22 Mar</td>\n",
       "      <td>2h 50m</td>\n",
       "      <td>non-stop</td>\n",
       "      <td>No info</td>\n",
       "      <td>3898</td>\n",
       "    </tr>\n",
       "    <tr>\n",
       "      <th>1</th>\n",
       "      <td>Air India</td>\n",
       "      <td>2019-01-05</td>\n",
       "      <td>Kolkata</td>\n",
       "      <td>Banglore</td>\n",
       "      <td>CCU → IXR → BBI → BLR</td>\n",
       "      <td>05:50</td>\n",
       "      <td>13:15</td>\n",
       "      <td>7h 25m</td>\n",
       "      <td>2 stops</td>\n",
       "      <td>No info</td>\n",
       "      <td>7663</td>\n",
       "    </tr>\n",
       "    <tr>\n",
       "      <th>2</th>\n",
       "      <td>Jet Airways</td>\n",
       "      <td>2019-09-06</td>\n",
       "      <td>Delhi</td>\n",
       "      <td>Cochin</td>\n",
       "      <td>DEL → LKO → BOM → COK</td>\n",
       "      <td>09:25</td>\n",
       "      <td>04:25 10 Jun</td>\n",
       "      <td>19h</td>\n",
       "      <td>2 stops</td>\n",
       "      <td>No info</td>\n",
       "      <td>13883</td>\n",
       "    </tr>\n",
       "    <tr>\n",
       "      <th>3</th>\n",
       "      <td>IndiGo</td>\n",
       "      <td>2019-12-05</td>\n",
       "      <td>Kolkata</td>\n",
       "      <td>Banglore</td>\n",
       "      <td>CCU → NAG → BLR</td>\n",
       "      <td>18:05</td>\n",
       "      <td>23:30</td>\n",
       "      <td>5h 25m</td>\n",
       "      <td>1 stop</td>\n",
       "      <td>No info</td>\n",
       "      <td>6219</td>\n",
       "    </tr>\n",
       "    <tr>\n",
       "      <th>4</th>\n",
       "      <td>IndiGo</td>\n",
       "      <td>2019-01-03</td>\n",
       "      <td>Banglore</td>\n",
       "      <td>New Delhi</td>\n",
       "      <td>BLR → NAG → DEL</td>\n",
       "      <td>16:50</td>\n",
       "      <td>21:35</td>\n",
       "      <td>4h 45m</td>\n",
       "      <td>1 stop</td>\n",
       "      <td>No info</td>\n",
       "      <td>13303</td>\n",
       "    </tr>\n",
       "  </tbody>\n",
       "</table>\n",
       "</div>"
      ],
      "text/plain": [
       "       Airline Date_of_Journey    Source Destination                  Route  \\\n",
       "0       IndiGo      2019-03-24  Banglore   New Delhi              BLR → DEL   \n",
       "1    Air India      2019-01-05   Kolkata    Banglore  CCU → IXR → BBI → BLR   \n",
       "2  Jet Airways      2019-09-06     Delhi      Cochin  DEL → LKO → BOM → COK   \n",
       "3       IndiGo      2019-12-05   Kolkata    Banglore        CCU → NAG → BLR   \n",
       "4       IndiGo      2019-01-03  Banglore   New Delhi        BLR → NAG → DEL   \n",
       "\n",
       "  Dep_Time  Arrival_Time Duration Total_Stops Additional_Info  Price  \n",
       "0    22:20  01:10 22 Mar   2h 50m    non-stop         No info   3898  \n",
       "1    05:50         13:15   7h 25m     2 stops         No info   7663  \n",
       "2    09:25  04:25 10 Jun      19h     2 stops         No info  13883  \n",
       "3    18:05         23:30   5h 25m      1 stop         No info   6219  \n",
       "4    16:50         21:35   4h 45m      1 stop         No info  13303  "
      ]
     },
     "execution_count": 6,
     "metadata": {},
     "output_type": "execute_result"
    }
   ],
   "source": [
    "flight1['Date_of_Journey'] = pd.to_datetime(flight1['Date_of_Journey'])\n",
    "flight1.head()"
   ]
  },
  {
   "cell_type": "code",
   "execution_count": 7,
   "id": "fd5c0649",
   "metadata": {},
   "outputs": [
    {
     "data": {
      "text/html": [
       "<div>\n",
       "<style scoped>\n",
       "    .dataframe tbody tr th:only-of-type {\n",
       "        vertical-align: middle;\n",
       "    }\n",
       "\n",
       "    .dataframe tbody tr th {\n",
       "        vertical-align: top;\n",
       "    }\n",
       "\n",
       "    .dataframe thead th {\n",
       "        text-align: right;\n",
       "    }\n",
       "</style>\n",
       "<table border=\"1\" class=\"dataframe\">\n",
       "  <thead>\n",
       "    <tr style=\"text-align: right;\">\n",
       "      <th></th>\n",
       "      <th>Airline</th>\n",
       "      <th>Date_of_Journey</th>\n",
       "      <th>Source</th>\n",
       "      <th>Destination</th>\n",
       "      <th>Route</th>\n",
       "      <th>Dep_Time</th>\n",
       "      <th>Arrival_Time</th>\n",
       "      <th>Duration</th>\n",
       "      <th>Total_Stops</th>\n",
       "      <th>Additional_Info</th>\n",
       "      <th>Price</th>\n",
       "    </tr>\n",
       "  </thead>\n",
       "  <tbody>\n",
       "    <tr>\n",
       "      <th>959</th>\n",
       "      <td>Jet Airways</td>\n",
       "      <td>2019-01-03</td>\n",
       "      <td>Banglore</td>\n",
       "      <td>New Delhi</td>\n",
       "      <td>BLR → BOM → DEL</td>\n",
       "      <td>11:40</td>\n",
       "      <td>00:45 02 Mar</td>\n",
       "      <td>13h 5m</td>\n",
       "      <td>1 stop</td>\n",
       "      <td>No info</td>\n",
       "      <td>26891</td>\n",
       "    </tr>\n",
       "    <tr>\n",
       "      <th>6336</th>\n",
       "      <td>SpiceJet</td>\n",
       "      <td>2019-01-03</td>\n",
       "      <td>Banglore</td>\n",
       "      <td>New Delhi</td>\n",
       "      <td>BLR → HYD → DEL</td>\n",
       "      <td>15:35</td>\n",
       "      <td>23:40</td>\n",
       "      <td>8h 5m</td>\n",
       "      <td>1 stop</td>\n",
       "      <td>1 Long layover</td>\n",
       "      <td>7745</td>\n",
       "    </tr>\n",
       "    <tr>\n",
       "      <th>1654</th>\n",
       "      <td>Jet Airways</td>\n",
       "      <td>2019-01-03</td>\n",
       "      <td>Banglore</td>\n",
       "      <td>New Delhi</td>\n",
       "      <td>BLR → BOM → DEL</td>\n",
       "      <td>08:00</td>\n",
       "      <td>20:20</td>\n",
       "      <td>12h 20m</td>\n",
       "      <td>1 stop</td>\n",
       "      <td>No info</td>\n",
       "      <td>27993</td>\n",
       "    </tr>\n",
       "    <tr>\n",
       "      <th>6321</th>\n",
       "      <td>Air India</td>\n",
       "      <td>2019-01-03</td>\n",
       "      <td>Banglore</td>\n",
       "      <td>New Delhi</td>\n",
       "      <td>BLR → BOM → AMD → DEL</td>\n",
       "      <td>08:50</td>\n",
       "      <td>23:55 02 Mar</td>\n",
       "      <td>39h 5m</td>\n",
       "      <td>2 stops</td>\n",
       "      <td>No info</td>\n",
       "      <td>17136</td>\n",
       "    </tr>\n",
       "    <tr>\n",
       "      <th>6314</th>\n",
       "      <td>Jet Airways</td>\n",
       "      <td>2019-01-03</td>\n",
       "      <td>Banglore</td>\n",
       "      <td>New Delhi</td>\n",
       "      <td>BLR → BOM → DEL</td>\n",
       "      <td>11:40</td>\n",
       "      <td>11:25 02 Mar</td>\n",
       "      <td>23h 45m</td>\n",
       "      <td>1 stop</td>\n",
       "      <td>No info</td>\n",
       "      <td>25736</td>\n",
       "    </tr>\n",
       "  </tbody>\n",
       "</table>\n",
       "</div>"
      ],
      "text/plain": [
       "          Airline Date_of_Journey    Source Destination  \\\n",
       "959   Jet Airways      2019-01-03  Banglore   New Delhi   \n",
       "6336     SpiceJet      2019-01-03  Banglore   New Delhi   \n",
       "1654  Jet Airways      2019-01-03  Banglore   New Delhi   \n",
       "6321    Air India      2019-01-03  Banglore   New Delhi   \n",
       "6314  Jet Airways      2019-01-03  Banglore   New Delhi   \n",
       "\n",
       "                      Route Dep_Time  Arrival_Time Duration Total_Stops  \\\n",
       "959         BLR → BOM → DEL    11:40  00:45 02 Mar   13h 5m      1 stop   \n",
       "6336        BLR → HYD → DEL    15:35         23:40    8h 5m      1 stop   \n",
       "1654        BLR → BOM → DEL    08:00         20:20  12h 20m      1 stop   \n",
       "6321  BLR → BOM → AMD → DEL    08:50  23:55 02 Mar   39h 5m     2 stops   \n",
       "6314        BLR → BOM → DEL    11:40  11:25 02 Mar  23h 45m      1 stop   \n",
       "\n",
       "     Additional_Info  Price  \n",
       "959          No info  26891  \n",
       "6336  1 Long layover   7745  \n",
       "1654         No info  27993  \n",
       "6321         No info  17136  \n",
       "6314         No info  25736  "
      ]
     },
     "execution_count": 7,
     "metadata": {},
     "output_type": "execute_result"
    }
   ],
   "source": [
    "flight1 = flight1.sort_values(by='Date_of_Journey')\n",
    "flight1.head()"
   ]
  },
  {
   "cell_type": "code",
   "execution_count": 8,
   "id": "5f210a2a",
   "metadata": {},
   "outputs": [
    {
     "data": {
      "text/html": [
       "<div>\n",
       "<style scoped>\n",
       "    .dataframe tbody tr th:only-of-type {\n",
       "        vertical-align: middle;\n",
       "    }\n",
       "\n",
       "    .dataframe tbody tr th {\n",
       "        vertical-align: top;\n",
       "    }\n",
       "\n",
       "    .dataframe thead th {\n",
       "        text-align: right;\n",
       "    }\n",
       "</style>\n",
       "<table border=\"1\" class=\"dataframe\">\n",
       "  <thead>\n",
       "    <tr style=\"text-align: right;\">\n",
       "      <th></th>\n",
       "      <th>Airline</th>\n",
       "      <th>Date_of_Journey</th>\n",
       "      <th>Source</th>\n",
       "      <th>Destination</th>\n",
       "      <th>Route</th>\n",
       "      <th>Dep_Time</th>\n",
       "      <th>Arrival_Time</th>\n",
       "      <th>Duration</th>\n",
       "      <th>Total_Stops</th>\n",
       "      <th>Additional_Info</th>\n",
       "      <th>Price</th>\n",
       "    </tr>\n",
       "  </thead>\n",
       "  <tbody>\n",
       "    <tr>\n",
       "      <th>9873</th>\n",
       "      <td>Multiple carriers</td>\n",
       "      <td>2019-12-06</td>\n",
       "      <td>Delhi</td>\n",
       "      <td>Cochin</td>\n",
       "      <td>DEL → BOM → COK</td>\n",
       "      <td>09:15</td>\n",
       "      <td>19:00</td>\n",
       "      <td>9h 45m</td>\n",
       "      <td>1 stop</td>\n",
       "      <td>No info</td>\n",
       "      <td>11623</td>\n",
       "    </tr>\n",
       "    <tr>\n",
       "      <th>5993</th>\n",
       "      <td>IndiGo</td>\n",
       "      <td>2019-12-06</td>\n",
       "      <td>Kolkata</td>\n",
       "      <td>Banglore</td>\n",
       "      <td>CCU → MAA → BLR</td>\n",
       "      <td>08:10</td>\n",
       "      <td>13:00</td>\n",
       "      <td>4h 50m</td>\n",
       "      <td>1 stop</td>\n",
       "      <td>No info</td>\n",
       "      <td>5070</td>\n",
       "    </tr>\n",
       "    <tr>\n",
       "      <th>7260</th>\n",
       "      <td>Jet Airways</td>\n",
       "      <td>2019-12-06</td>\n",
       "      <td>Delhi</td>\n",
       "      <td>Cochin</td>\n",
       "      <td>DEL → BOM → COK</td>\n",
       "      <td>22:50</td>\n",
       "      <td>19:00 13 Jun</td>\n",
       "      <td>20h 10m</td>\n",
       "      <td>1 stop</td>\n",
       "      <td>No info</td>\n",
       "      <td>14715</td>\n",
       "    </tr>\n",
       "    <tr>\n",
       "      <th>4997</th>\n",
       "      <td>Air Asia</td>\n",
       "      <td>2019-12-06</td>\n",
       "      <td>Kolkata</td>\n",
       "      <td>Banglore</td>\n",
       "      <td>CCU → DEL → BLR</td>\n",
       "      <td>07:35</td>\n",
       "      <td>23:30</td>\n",
       "      <td>15h 55m</td>\n",
       "      <td>1 stop</td>\n",
       "      <td>No info</td>\n",
       "      <td>5193</td>\n",
       "    </tr>\n",
       "    <tr>\n",
       "      <th>1081</th>\n",
       "      <td>Jet Airways</td>\n",
       "      <td>2019-12-06</td>\n",
       "      <td>Delhi</td>\n",
       "      <td>Cochin</td>\n",
       "      <td>DEL → BOM → COK</td>\n",
       "      <td>21:50</td>\n",
       "      <td>04:25 13 Jun</td>\n",
       "      <td>6h 35m</td>\n",
       "      <td>1 stop</td>\n",
       "      <td>In-flight meal not included</td>\n",
       "      <td>10263</td>\n",
       "    </tr>\n",
       "  </tbody>\n",
       "</table>\n",
       "</div>"
      ],
      "text/plain": [
       "                Airline Date_of_Journey   Source Destination            Route  \\\n",
       "9873  Multiple carriers      2019-12-06    Delhi      Cochin  DEL → BOM → COK   \n",
       "5993             IndiGo      2019-12-06  Kolkata    Banglore  CCU → MAA → BLR   \n",
       "7260        Jet Airways      2019-12-06    Delhi      Cochin  DEL → BOM → COK   \n",
       "4997           Air Asia      2019-12-06  Kolkata    Banglore  CCU → DEL → BLR   \n",
       "1081        Jet Airways      2019-12-06    Delhi      Cochin  DEL → BOM → COK   \n",
       "\n",
       "     Dep_Time  Arrival_Time Duration Total_Stops              Additional_Info  \\\n",
       "9873    09:15         19:00   9h 45m      1 stop                      No info   \n",
       "5993    08:10         13:00   4h 50m      1 stop                      No info   \n",
       "7260    22:50  19:00 13 Jun  20h 10m      1 stop                      No info   \n",
       "4997    07:35         23:30  15h 55m      1 stop                      No info   \n",
       "1081    21:50  04:25 13 Jun   6h 35m      1 stop  In-flight meal not included   \n",
       "\n",
       "      Price  \n",
       "9873  11623  \n",
       "5993   5070  \n",
       "7260  14715  \n",
       "4997   5193  \n",
       "1081  10263  "
      ]
     },
     "execution_count": 8,
     "metadata": {},
     "output_type": "execute_result"
    }
   ],
   "source": [
    "flight1.tail()"
   ]
  },
  {
   "cell_type": "markdown",
   "id": "154f8f27",
   "metadata": {},
   "source": [
    "I changed Date of Journey to a datetime object in order to have the same format for all entries. After sorting by this column, we can see that the data has dates beginning on 01/03/2019 and spanning until 12/06/2019; a timespan of about one year. We can see above that there is very few missing datapoints. Route and Total Stops are the only columns missing data and they are both missing only one entry. "
   ]
  },
  {
   "cell_type": "code",
   "execution_count": 9,
   "id": "1e609e64",
   "metadata": {},
   "outputs": [
    {
     "name": "stdout",
     "output_type": "stream",
     "text": [
      "<class 'pandas.core.frame.DataFrame'>\n",
      "Int64Index: 10683 entries, 959 to 1081\n",
      "Data columns (total 11 columns):\n",
      " #   Column           Non-Null Count  Dtype         \n",
      "---  ------           --------------  -----         \n",
      " 0   Airline          10683 non-null  object        \n",
      " 1   Date_of_Journey  10683 non-null  datetime64[ns]\n",
      " 2   Source           10683 non-null  object        \n",
      " 3   Destination      10683 non-null  object        \n",
      " 4   Route            10682 non-null  object        \n",
      " 5   Dep_Time         10683 non-null  object        \n",
      " 6   Arrival_Time     10683 non-null  object        \n",
      " 7   Duration         10683 non-null  object        \n",
      " 8   Total_Stops      10682 non-null  object        \n",
      " 9   Additional_Info  10683 non-null  object        \n",
      " 10  Price            10683 non-null  int64         \n",
      "dtypes: datetime64[ns](1), int64(1), object(9)\n",
      "memory usage: 1001.5+ KB\n"
     ]
    }
   ],
   "source": [
    "flight1.info()"
   ]
  },
  {
   "cell_type": "markdown",
   "id": "dbd6a49c",
   "metadata": {},
   "source": [
    "### Dataset 2"
   ]
  },
  {
   "cell_type": "code",
   "execution_count": 10,
   "id": "e1266ffc",
   "metadata": {},
   "outputs": [
    {
     "name": "stdout",
     "output_type": "stream",
     "text": [
      "<class 'pandas.core.frame.DataFrame'>\n",
      "RangeIndex: 300153 entries, 0 to 300152\n",
      "Data columns (total 11 columns):\n",
      " #   Column            Non-Null Count   Dtype  \n",
      "---  ------            --------------   -----  \n",
      " 0   airline           300153 non-null  object \n",
      " 1   flight            300153 non-null  object \n",
      " 2   source_city       300153 non-null  object \n",
      " 3   departure_time    300153 non-null  object \n",
      " 4   stops             300153 non-null  object \n",
      " 5   arrival_time      300153 non-null  object \n",
      " 6   destination_city  300153 non-null  object \n",
      " 7   class             300153 non-null  object \n",
      " 8   duration          300153 non-null  float64\n",
      " 9   days_left         300153 non-null  int64  \n",
      " 10  price             300153 non-null  int64  \n",
      "dtypes: float64(1), int64(2), object(8)\n",
      "memory usage: 25.2+ MB\n"
     ]
    },
    {
     "name": "stderr",
     "output_type": "stream",
     "text": [
      "/var/folders/sc/3djkvdx57jb0ycqsbk23w5pc0000gn/T/ipykernel_76806/4202729272.py:2: FutureWarning: In a future version of pandas all arguments of DataFrame.drop except for the argument 'labels' will be keyword-only\n",
      "  flight2 = flight2.drop('Unnamed:_0', 1)\n"
     ]
    },
    {
     "data": {
      "text/plain": [
       "(300153, 11)"
      ]
     },
     "execution_count": 10,
     "metadata": {},
     "output_type": "execute_result"
    }
   ],
   "source": [
    "flight2.columns = [c.replace(' ', '_') for c in flight2.columns]\n",
    "flight2 = flight2.drop('Unnamed:_0', 1)\n",
    "flight2.info()\n",
    "flight2.shape"
   ]
  },
  {
   "cell_type": "code",
   "execution_count": 11,
   "id": "9c667881",
   "metadata": {},
   "outputs": [
    {
     "data": {
      "text/plain": [
       "2"
      ]
     },
     "execution_count": 11,
     "metadata": {},
     "output_type": "execute_result"
    }
   ],
   "source": [
    "x = flight2['class'].unique()\n",
    "len(x)"
   ]
  },
  {
   "cell_type": "markdown",
   "id": "36bb3a97",
   "metadata": {},
   "source": [
    "**Airline:** Nominal categorical variable, 6 categories\n",
    "\n",
    "**Flight:** Nominal categorical variable, 1561 categories\n",
    "\n",
    "**Source City:** Nominal categorical variable, 6 categories\n",
    "\n",
    "**Departure Time:** Ordinal categorical variable, 6 categories\n",
    "\n",
    "**Stops:** Discrete numerical variable, initially stored as a string (not an int)\n",
    "\n",
    "**Arrival Time:** Ordinal categorical variable, 6 categories\n",
    "\n",
    "**Destination City:** Nominal categorical variable, 6 categories\n",
    "\n",
    "**Class:** Nominal categorical variable, 2 categories\n",
    "\n",
    "**Duration:** Continuous numerical variable, stored as float\n",
    "\n",
    "**Days Left:** Discrete numerical variable, stored as int\n",
    "\n",
    "**Price:** Discrete numerical variable, stored as an int\n",
    "\n",
    "This dataset has 11 attributes and 300,153 entries, which is 3,301,683 total data points.\n",
    "\n",
    "There are no dates included in the dataset, however using the description from Kaggle we can see this data was collected for flights departing on 02/11/2022 through 03/31/2022. This dataset is limited to a much smaller timespan, only 1.5 months. \n",
    "There is no missing data, all columns have 300,153 non-null entries. "
   ]
  },
  {
   "cell_type": "markdown",
   "id": "f816006c-868c-4863-b0b8-e56e8a1ec8f3",
   "metadata": {
    "tags": []
   },
   "source": [
    "### Part 3 - Data Description\n",
    "\n",
    "- Create a data description (data dictionary) for your data sets.\n",
    "    - Describe each variable\n",
    "    - If categorical, what levels are present? If the levels are encoded, what do the codes mean?\n",
    "    - If numeric, provide min, max, median and any other univariate stats you'd like to add in. \n",
    "- Where appropriate, provide histograms or other visualizations to characterize each variable. "
   ]
  },
  {
   "cell_type": "markdown",
   "id": "4c21dc2a",
   "metadata": {},
   "source": [
    "First step is to change all numeric data (that's not a date) to integers. Then we can better understand each variable.\n",
    "### Dataset 1"
   ]
  },
  {
   "cell_type": "code",
   "execution_count": 12,
   "id": "e6e6c13a",
   "metadata": {},
   "outputs": [
    {
     "data": {
      "text/html": [
       "<div>\n",
       "<style scoped>\n",
       "    .dataframe tbody tr th:only-of-type {\n",
       "        vertical-align: middle;\n",
       "    }\n",
       "\n",
       "    .dataframe tbody tr th {\n",
       "        vertical-align: top;\n",
       "    }\n",
       "\n",
       "    .dataframe thead th {\n",
       "        text-align: right;\n",
       "    }\n",
       "</style>\n",
       "<table border=\"1\" class=\"dataframe\">\n",
       "  <thead>\n",
       "    <tr style=\"text-align: right;\">\n",
       "      <th></th>\n",
       "      <th>Airline</th>\n",
       "      <th>Date_of_Journey</th>\n",
       "      <th>Source</th>\n",
       "      <th>Destination</th>\n",
       "      <th>Route</th>\n",
       "      <th>Dep_Time</th>\n",
       "      <th>Arrival_Time</th>\n",
       "      <th>Duration</th>\n",
       "      <th>Total_Stops</th>\n",
       "      <th>Additional_Info</th>\n",
       "      <th>Price</th>\n",
       "    </tr>\n",
       "  </thead>\n",
       "  <tbody>\n",
       "    <tr>\n",
       "      <th>959</th>\n",
       "      <td>Jet Airways</td>\n",
       "      <td>2019-01-03</td>\n",
       "      <td>Banglore</td>\n",
       "      <td>New Delhi</td>\n",
       "      <td>BLR → BOM → DEL</td>\n",
       "      <td>11:40</td>\n",
       "      <td>00:45 02 Mar</td>\n",
       "      <td>13h 5m</td>\n",
       "      <td>1 stop</td>\n",
       "      <td>No info</td>\n",
       "      <td>26891</td>\n",
       "    </tr>\n",
       "    <tr>\n",
       "      <th>6336</th>\n",
       "      <td>SpiceJet</td>\n",
       "      <td>2019-01-03</td>\n",
       "      <td>Banglore</td>\n",
       "      <td>New Delhi</td>\n",
       "      <td>BLR → HYD → DEL</td>\n",
       "      <td>15:35</td>\n",
       "      <td>23:40</td>\n",
       "      <td>8h 5m</td>\n",
       "      <td>1 stop</td>\n",
       "      <td>1 Long layover</td>\n",
       "      <td>7745</td>\n",
       "    </tr>\n",
       "    <tr>\n",
       "      <th>1654</th>\n",
       "      <td>Jet Airways</td>\n",
       "      <td>2019-01-03</td>\n",
       "      <td>Banglore</td>\n",
       "      <td>New Delhi</td>\n",
       "      <td>BLR → BOM → DEL</td>\n",
       "      <td>08:00</td>\n",
       "      <td>20:20</td>\n",
       "      <td>12h 20m</td>\n",
       "      <td>1 stop</td>\n",
       "      <td>No info</td>\n",
       "      <td>27993</td>\n",
       "    </tr>\n",
       "    <tr>\n",
       "      <th>6321</th>\n",
       "      <td>Air India</td>\n",
       "      <td>2019-01-03</td>\n",
       "      <td>Banglore</td>\n",
       "      <td>New Delhi</td>\n",
       "      <td>BLR → BOM → AMD → DEL</td>\n",
       "      <td>08:50</td>\n",
       "      <td>23:55 02 Mar</td>\n",
       "      <td>39h 5m</td>\n",
       "      <td>2 stops</td>\n",
       "      <td>No info</td>\n",
       "      <td>17136</td>\n",
       "    </tr>\n",
       "    <tr>\n",
       "      <th>6314</th>\n",
       "      <td>Jet Airways</td>\n",
       "      <td>2019-01-03</td>\n",
       "      <td>Banglore</td>\n",
       "      <td>New Delhi</td>\n",
       "      <td>BLR → BOM → DEL</td>\n",
       "      <td>11:40</td>\n",
       "      <td>11:25 02 Mar</td>\n",
       "      <td>23h 45m</td>\n",
       "      <td>1 stop</td>\n",
       "      <td>No info</td>\n",
       "      <td>25736</td>\n",
       "    </tr>\n",
       "  </tbody>\n",
       "</table>\n",
       "</div>"
      ],
      "text/plain": [
       "          Airline Date_of_Journey    Source Destination  \\\n",
       "959   Jet Airways      2019-01-03  Banglore   New Delhi   \n",
       "6336     SpiceJet      2019-01-03  Banglore   New Delhi   \n",
       "1654  Jet Airways      2019-01-03  Banglore   New Delhi   \n",
       "6321    Air India      2019-01-03  Banglore   New Delhi   \n",
       "6314  Jet Airways      2019-01-03  Banglore   New Delhi   \n",
       "\n",
       "                      Route Dep_Time  Arrival_Time Duration Total_Stops  \\\n",
       "959         BLR → BOM → DEL    11:40  00:45 02 Mar   13h 5m      1 stop   \n",
       "6336        BLR → HYD → DEL    15:35         23:40    8h 5m      1 stop   \n",
       "1654        BLR → BOM → DEL    08:00         20:20  12h 20m      1 stop   \n",
       "6321  BLR → BOM → AMD → DEL    08:50  23:55 02 Mar   39h 5m     2 stops   \n",
       "6314        BLR → BOM → DEL    11:40  11:25 02 Mar  23h 45m      1 stop   \n",
       "\n",
       "     Additional_Info  Price  \n",
       "959          No info  26891  \n",
       "6336  1 Long layover   7745  \n",
       "1654         No info  27993  \n",
       "6321         No info  17136  \n",
       "6314         No info  25736  "
      ]
     },
     "execution_count": 12,
     "metadata": {},
     "output_type": "execute_result"
    }
   ],
   "source": [
    "flight1.head()"
   ]
  },
  {
   "cell_type": "markdown",
   "id": "3a4b81ac",
   "metadata": {},
   "source": [
    "I started by converting the Duration column from a string to an int. I multiplied the total hours by 60 and added the minutes, so now the duration is measured in minutes. "
   ]
  },
  {
   "cell_type": "code",
   "execution_count": 13,
   "id": "ec0fe53d",
   "metadata": {},
   "outputs": [
    {
     "data": {
      "text/html": [
       "<div>\n",
       "<style scoped>\n",
       "    .dataframe tbody tr th:only-of-type {\n",
       "        vertical-align: middle;\n",
       "    }\n",
       "\n",
       "    .dataframe tbody tr th {\n",
       "        vertical-align: top;\n",
       "    }\n",
       "\n",
       "    .dataframe thead th {\n",
       "        text-align: right;\n",
       "    }\n",
       "</style>\n",
       "<table border=\"1\" class=\"dataframe\">\n",
       "  <thead>\n",
       "    <tr style=\"text-align: right;\">\n",
       "      <th></th>\n",
       "      <th>Airline</th>\n",
       "      <th>Date_of_Journey</th>\n",
       "      <th>Source</th>\n",
       "      <th>Destination</th>\n",
       "      <th>Route</th>\n",
       "      <th>Dep_Time</th>\n",
       "      <th>Arrival_Time</th>\n",
       "      <th>Duration</th>\n",
       "      <th>Total_Stops</th>\n",
       "      <th>Additional_Info</th>\n",
       "      <th>Price</th>\n",
       "    </tr>\n",
       "  </thead>\n",
       "  <tbody>\n",
       "    <tr>\n",
       "      <th>959</th>\n",
       "      <td>Jet Airways</td>\n",
       "      <td>2019-01-03</td>\n",
       "      <td>Banglore</td>\n",
       "      <td>New Delhi</td>\n",
       "      <td>BLR → BOM → DEL</td>\n",
       "      <td>11:40</td>\n",
       "      <td>00:45 02 Mar</td>\n",
       "      <td>785</td>\n",
       "      <td>1 stop</td>\n",
       "      <td>No info</td>\n",
       "      <td>26891</td>\n",
       "    </tr>\n",
       "    <tr>\n",
       "      <th>6336</th>\n",
       "      <td>SpiceJet</td>\n",
       "      <td>2019-01-03</td>\n",
       "      <td>Banglore</td>\n",
       "      <td>New Delhi</td>\n",
       "      <td>BLR → HYD → DEL</td>\n",
       "      <td>15:35</td>\n",
       "      <td>23:40</td>\n",
       "      <td>485</td>\n",
       "      <td>1 stop</td>\n",
       "      <td>1 Long layover</td>\n",
       "      <td>7745</td>\n",
       "    </tr>\n",
       "    <tr>\n",
       "      <th>1654</th>\n",
       "      <td>Jet Airways</td>\n",
       "      <td>2019-01-03</td>\n",
       "      <td>Banglore</td>\n",
       "      <td>New Delhi</td>\n",
       "      <td>BLR → BOM → DEL</td>\n",
       "      <td>08:00</td>\n",
       "      <td>20:20</td>\n",
       "      <td>740</td>\n",
       "      <td>1 stop</td>\n",
       "      <td>No info</td>\n",
       "      <td>27993</td>\n",
       "    </tr>\n",
       "    <tr>\n",
       "      <th>6321</th>\n",
       "      <td>Air India</td>\n",
       "      <td>2019-01-03</td>\n",
       "      <td>Banglore</td>\n",
       "      <td>New Delhi</td>\n",
       "      <td>BLR → BOM → AMD → DEL</td>\n",
       "      <td>08:50</td>\n",
       "      <td>23:55 02 Mar</td>\n",
       "      <td>2345</td>\n",
       "      <td>2 stops</td>\n",
       "      <td>No info</td>\n",
       "      <td>17136</td>\n",
       "    </tr>\n",
       "    <tr>\n",
       "      <th>6314</th>\n",
       "      <td>Jet Airways</td>\n",
       "      <td>2019-01-03</td>\n",
       "      <td>Banglore</td>\n",
       "      <td>New Delhi</td>\n",
       "      <td>BLR → BOM → DEL</td>\n",
       "      <td>11:40</td>\n",
       "      <td>11:25 02 Mar</td>\n",
       "      <td>1425</td>\n",
       "      <td>1 stop</td>\n",
       "      <td>No info</td>\n",
       "      <td>25736</td>\n",
       "    </tr>\n",
       "  </tbody>\n",
       "</table>\n",
       "</div>"
      ],
      "text/plain": [
       "          Airline Date_of_Journey    Source Destination  \\\n",
       "959   Jet Airways      2019-01-03  Banglore   New Delhi   \n",
       "6336     SpiceJet      2019-01-03  Banglore   New Delhi   \n",
       "1654  Jet Airways      2019-01-03  Banglore   New Delhi   \n",
       "6321    Air India      2019-01-03  Banglore   New Delhi   \n",
       "6314  Jet Airways      2019-01-03  Banglore   New Delhi   \n",
       "\n",
       "                      Route Dep_Time  Arrival_Time  Duration Total_Stops  \\\n",
       "959         BLR → BOM → DEL    11:40  00:45 02 Mar       785      1 stop   \n",
       "6336        BLR → HYD → DEL    15:35         23:40       485      1 stop   \n",
       "1654        BLR → BOM → DEL    08:00         20:20       740      1 stop   \n",
       "6321  BLR → BOM → AMD → DEL    08:50  23:55 02 Mar      2345     2 stops   \n",
       "6314        BLR → BOM → DEL    11:40  11:25 02 Mar      1425      1 stop   \n",
       "\n",
       "     Additional_Info  Price  \n",
       "959          No info  26891  \n",
       "6336  1 Long layover   7745  \n",
       "1654         No info  27993  \n",
       "6321         No info  17136  \n",
       "6314         No info  25736  "
      ]
     },
     "execution_count": 13,
     "metadata": {},
     "output_type": "execute_result"
    }
   ],
   "source": [
    "h = flight1['Duration'].str.extract('(\\d+)h', expand=False).astype(float) * 60\n",
    "m = flight1['Duration'].str.extract('(\\d+)m', expand=False).astype(float)\n",
    "\n",
    "flight1['Duration'] = h.add(m, fill_value=0).astype(int)\n",
    "flight1.head()"
   ]
  },
  {
   "cell_type": "markdown",
   "id": "47d60fd8",
   "metadata": {},
   "source": [
    "I also shortened the Arrival Time column to include only the first 5 characters, meaning just the time. If I need to know what date the column is referencing I will use the duration column + departure time column. Right now the Arrival Time column is still an object but it will later be changed to a datetime type. "
   ]
  },
  {
   "cell_type": "code",
   "execution_count": 14,
   "id": "ffbd0335",
   "metadata": {},
   "outputs": [],
   "source": [
    "flight1['Arrival_Time'] = flight1['Arrival_Time'].str[0:5]"
   ]
  },
  {
   "cell_type": "markdown",
   "id": "75fff5bc",
   "metadata": {},
   "source": [
    "Next I dropped all the rows from dataset 1 that have null entries. This ended up being only one row because, as stated earlier, there are only two null entries and they happened to be in the same row. Therefore, dropping all rows with null entries has a miniscule effect on the overall data. Then, I formatted the Total stops column to only contain an int, and changed its type to int."
   ]
  },
  {
   "cell_type": "code",
   "execution_count": 15,
   "id": "47c847e5",
   "metadata": {},
   "outputs": [
    {
     "name": "stderr",
     "output_type": "stream",
     "text": [
      "/var/folders/sc/3djkvdx57jb0ycqsbk23w5pc0000gn/T/ipykernel_76806/1157681791.py:1: FutureWarning: In a future version of pandas all arguments of DataFrame.dropna will be keyword-only\n",
      "  flight1 = flight1.dropna(0)\n"
     ]
    }
   ],
   "source": [
    "flight1 = flight1.dropna(0)\n",
    "flight1['Total_Stops'] = flight1['Total_Stops'].str[0:1]\n",
    "flight1['Total_Stops'] = [c.replace('n', '0') for c in flight1['Total_Stops']]\n",
    "flight1['Total_Stops'] = flight1['Total_Stops'].astype(int)"
   ]
  },
  {
   "cell_type": "code",
   "execution_count": 16,
   "id": "4aa38ef3",
   "metadata": {},
   "outputs": [
    {
     "data": {
      "text/html": [
       "<div>\n",
       "<style scoped>\n",
       "    .dataframe tbody tr th:only-of-type {\n",
       "        vertical-align: middle;\n",
       "    }\n",
       "\n",
       "    .dataframe tbody tr th {\n",
       "        vertical-align: top;\n",
       "    }\n",
       "\n",
       "    .dataframe thead th {\n",
       "        text-align: right;\n",
       "    }\n",
       "</style>\n",
       "<table border=\"1\" class=\"dataframe\">\n",
       "  <thead>\n",
       "    <tr style=\"text-align: right;\">\n",
       "      <th></th>\n",
       "      <th>Airline</th>\n",
       "      <th>Date_of_Journey</th>\n",
       "      <th>Source</th>\n",
       "      <th>Destination</th>\n",
       "      <th>Route</th>\n",
       "      <th>Dep_Time</th>\n",
       "      <th>Arrival_Time</th>\n",
       "      <th>Duration</th>\n",
       "      <th>Total_Stops</th>\n",
       "      <th>Additional_Info</th>\n",
       "      <th>Price</th>\n",
       "    </tr>\n",
       "  </thead>\n",
       "  <tbody>\n",
       "    <tr>\n",
       "      <th>959</th>\n",
       "      <td>Jet Airways</td>\n",
       "      <td>2019-01-03</td>\n",
       "      <td>Banglore</td>\n",
       "      <td>New Delhi</td>\n",
       "      <td>BLR → BOM → DEL</td>\n",
       "      <td>11:40</td>\n",
       "      <td>00:45</td>\n",
       "      <td>785</td>\n",
       "      <td>1</td>\n",
       "      <td>No info</td>\n",
       "      <td>26891</td>\n",
       "    </tr>\n",
       "    <tr>\n",
       "      <th>6336</th>\n",
       "      <td>SpiceJet</td>\n",
       "      <td>2019-01-03</td>\n",
       "      <td>Banglore</td>\n",
       "      <td>New Delhi</td>\n",
       "      <td>BLR → HYD → DEL</td>\n",
       "      <td>15:35</td>\n",
       "      <td>23:40</td>\n",
       "      <td>485</td>\n",
       "      <td>1</td>\n",
       "      <td>1 Long layover</td>\n",
       "      <td>7745</td>\n",
       "    </tr>\n",
       "    <tr>\n",
       "      <th>1654</th>\n",
       "      <td>Jet Airways</td>\n",
       "      <td>2019-01-03</td>\n",
       "      <td>Banglore</td>\n",
       "      <td>New Delhi</td>\n",
       "      <td>BLR → BOM → DEL</td>\n",
       "      <td>08:00</td>\n",
       "      <td>20:20</td>\n",
       "      <td>740</td>\n",
       "      <td>1</td>\n",
       "      <td>No info</td>\n",
       "      <td>27993</td>\n",
       "    </tr>\n",
       "    <tr>\n",
       "      <th>6321</th>\n",
       "      <td>Air India</td>\n",
       "      <td>2019-01-03</td>\n",
       "      <td>Banglore</td>\n",
       "      <td>New Delhi</td>\n",
       "      <td>BLR → BOM → AMD → DEL</td>\n",
       "      <td>08:50</td>\n",
       "      <td>23:55</td>\n",
       "      <td>2345</td>\n",
       "      <td>2</td>\n",
       "      <td>No info</td>\n",
       "      <td>17136</td>\n",
       "    </tr>\n",
       "    <tr>\n",
       "      <th>6314</th>\n",
       "      <td>Jet Airways</td>\n",
       "      <td>2019-01-03</td>\n",
       "      <td>Banglore</td>\n",
       "      <td>New Delhi</td>\n",
       "      <td>BLR → BOM → DEL</td>\n",
       "      <td>11:40</td>\n",
       "      <td>11:25</td>\n",
       "      <td>1425</td>\n",
       "      <td>1</td>\n",
       "      <td>No info</td>\n",
       "      <td>25736</td>\n",
       "    </tr>\n",
       "  </tbody>\n",
       "</table>\n",
       "</div>"
      ],
      "text/plain": [
       "          Airline Date_of_Journey    Source Destination  \\\n",
       "959   Jet Airways      2019-01-03  Banglore   New Delhi   \n",
       "6336     SpiceJet      2019-01-03  Banglore   New Delhi   \n",
       "1654  Jet Airways      2019-01-03  Banglore   New Delhi   \n",
       "6321    Air India      2019-01-03  Banglore   New Delhi   \n",
       "6314  Jet Airways      2019-01-03  Banglore   New Delhi   \n",
       "\n",
       "                      Route Dep_Time Arrival_Time  Duration  Total_Stops  \\\n",
       "959         BLR → BOM → DEL    11:40        00:45       785            1   \n",
       "6336        BLR → HYD → DEL    15:35        23:40       485            1   \n",
       "1654        BLR → BOM → DEL    08:00        20:20       740            1   \n",
       "6321  BLR → BOM → AMD → DEL    08:50        23:55      2345            2   \n",
       "6314        BLR → BOM → DEL    11:40        11:25      1425            1   \n",
       "\n",
       "     Additional_Info  Price  \n",
       "959          No info  26891  \n",
       "6336  1 Long layover   7745  \n",
       "1654         No info  27993  \n",
       "6321         No info  17136  \n",
       "6314         No info  25736  "
      ]
     },
     "execution_count": 16,
     "metadata": {},
     "output_type": "execute_result"
    }
   ],
   "source": [
    "flight1.head()"
   ]
  },
  {
   "cell_type": "markdown",
   "id": "e8b3ac69",
   "metadata": {},
   "source": [
    "The data from dataset 1 now appears to be ready to be put into the data dictionary. "
   ]
  },
  {
   "cell_type": "code",
   "execution_count": 17,
   "id": "3d9b7d8b",
   "metadata": {},
   "outputs": [
    {
     "data": {
      "text/plain": [
       "array(['Jet Airways', 'SpiceJet', 'Air India', 'IndiGo', 'Air Asia',\n",
       "       'Vistara', 'GoAir', 'Jet Airways Business', 'Multiple carriers',\n",
       "       'Vistara Premium economy', 'Multiple carriers Premium economy',\n",
       "       'Trujet'], dtype=object)"
      ]
     },
     "execution_count": 17,
     "metadata": {},
     "output_type": "execute_result"
    }
   ],
   "source": [
    "flight1['Airline'].unique()"
   ]
  },
  {
   "cell_type": "markdown",
   "id": "4690bbde",
   "metadata": {},
   "source": [
    "#### Airline\n",
    "This variable represents all the different airlines available for travel in dataset 1. This includes Jet Airways, SpiceJet, Air India, IndiGo, Air Asia, Vistara, GoAir, Jet Airways Business, multiple carriers, Vistara premium economy, Trujet, and multiple carriers premium economy. Multiple carriers means that multiple different airlines were taken to get to the final destination. "
   ]
  },
  {
   "cell_type": "code",
   "execution_count": 23,
   "id": "a2d2074d",
   "metadata": {},
   "outputs": [
    {
     "data": {
      "text/plain": [
       "<function matplotlib.pyplot.show(close=None, block=None)>"
      ]
     },
     "execution_count": 23,
     "metadata": {},
     "output_type": "execute_result"
    },
    {
     "data": {
      "image/png": "[encoded data removed]",
      "text/plain": [
       "<Figure size 432x288 with 1 Axes>"
      ]
     },
     "metadata": {
      "needs_background": "light"
     },
     "output_type": "display_data"
    }
   ],
   "source": [
    "plt.hist(flight1['Airline'], bins = 12, density = False)\n",
    "plt.xticks(rotation='vertical')\n",
    "plt.show"
   ]
  },
  {
   "cell_type": "code",
   "execution_count": 28,
   "id": "cac50513",
   "metadata": {},
   "outputs": [
    {
     "data": {
      "text/plain": [
       "<function matplotlib.pyplot.show(close=None, block=None)>"
      ]
     },
     "execution_count": 28,
     "metadata": {},
     "output_type": "execute_result"
    },
    {
     "data": {
      "image/png": "[encoded data removed]",
      "text/plain": [
       "<Figure size 432x288 with 1 Axes>"
      ]
     },
     "metadata": {
      "needs_background": "light"
     },
     "output_type": "display_data"
    }
   ],
   "source": [
    "flight1.boxplot(column = 'Price', by = 'Airline')\n",
    "plt.xticks(rotation=90)\n",
    "plt.show"
   ]
  },
  {
   "cell_type": "markdown",
   "id": "bf9054a5",
   "metadata": {},
   "source": [
    "#### Date of Journey\n",
    "\n",
    "This variable represents the date that the journey began, meaning the date that the flight departs. It is saved as a datetime object in the format YYYY-MM-DD. This variable is a little bit inbetween categorical and numeric. The representation of it includes numbers, however these numbers can't alone be used for calculation. You have to take other logic into account such as the number of days in a month or year. Also you can't calculate the average. The data also isn't exactly categorical because if we considered it that there would be too many categories. Although its not exactly numeric, we can still calculate the min, max, and median. The min is 01/03/2019 and the max is 12/06/2019. The median is 05/24/2019. The date with the highest number of flights was 05/18/2019.\n",
    "\n"
   ]
  },
  {
   "cell_type": "code",
   "execution_count": 31,
   "id": "c41c5ca5",
   "metadata": {},
   "outputs": [
    {
     "data": {
      "text/plain": [
       "<function matplotlib.pyplot.show(close=None, block=None)>"
      ]
     },
     "execution_count": 31,
     "metadata": {},
     "output_type": "execute_result"
    },
    {
     "data": {
      "image/png": "[encoded data removed]",
      "text/plain": [
       "<Figure size 432x288 with 1 Axes>"
      ]
     },
     "metadata": {
      "needs_background": "light"
     },
     "output_type": "display_data"
    }
   ],
   "source": [
    "plt.hist(flight1['Date_of_Journey'], bins = 40, density = False)\n",
    "plt.xticks(rotation='vertical')\n",
    "plt.show"
   ]
  },
  {
   "cell_type": "markdown",
   "id": "325995f3",
   "metadata": {},
   "source": [
    "#### Source\n",
    "\n",
    "This variable represents the location of which the flight is departing from. This is a categorical variable consisting of 5 categories: Banglore, Chennai, Delhi, Kolkata, and Mumbai. Most of the flights were made from Delhi, with the second most being from Banglore and Kolkata. "
   ]
  },
  {
   "cell_type": "code",
   "execution_count": 34,
   "id": "e904f709",
   "metadata": {},
   "outputs": [
    {
     "data": {
      "text/plain": [
       "<function matplotlib.pyplot.show(close=None, block=None)>"
      ]
     },
     "execution_count": 34,
     "metadata": {},
     "output_type": "execute_result"
    },
    {
     "data": {
      "image/png": "[encoded data removed]",
      "text/plain": [
       "<Figure size 432x288 with 1 Axes>"
      ]
     },
     "metadata": {
      "needs_background": "light"
     },
     "output_type": "display_data"
    }
   ],
   "source": [
    "plt.hist(flight1['Source'], bins = 5, density = False)\n",
    "plt.xticks(rotation='vertical')\n",
    "plt.show"
   ]
  },
  {
   "cell_type": "markdown",
   "id": "e56bb304",
   "metadata": {},
   "source": [
    "#### Destination\n",
    "\n",
    "This variable represents the location of which the flight is landing at. This is a categorical variable consisting of 6 categories: New Delhi, Kolkata, Cochin, Banglore, Hyderabad, and Delhi. Most of the flights were made to Cochin, with Banglore coming in second. "
   ]
  },
  {
   "cell_type": "code",
   "execution_count": 37,
   "id": "4b08c0c1",
   "metadata": {},
   "outputs": [
    {
     "data": {
      "text/plain": [
       "<function matplotlib.pyplot.show(close=None, block=None)>"
      ]
     },
     "execution_count": 37,
     "metadata": {},
     "output_type": "execute_result"
    },
    {
     "data": {
      "image/png": "[encoded data removed]",
      "text/plain": [
       "<Figure size 432x288 with 1 Axes>"
      ]
     },
     "metadata": {
      "needs_background": "light"
     },
     "output_type": "display_data"
    }
   ],
   "source": [
    "plt.hist(flight1['Destination'], bins = 6, density = False)\n",
    "plt.xticks(rotation='vertical')\n",
    "plt.show"
   ]
  },
  {
   "cell_type": "markdown",
   "id": "155f1932",
   "metadata": {},
   "source": [
    "#### Route \n",
    "\n",
    "This variable represents the path that was taken to get from the source to destination. It consists of the names of locations in the order of which they were reached by the flight. It is a categorical variable of 129 different categories. The most popular route is DEL -> BOM -> COK with 2,376 total flights through this path in the timespan that the data was recorded. The mean number of flights for each path is 83, with a minimum of 1. "
   ]
  },
  {
   "cell_type": "code",
   "execution_count": 52,
   "id": "847f2720",
   "metadata": {},
   "outputs": [
    {
     "data": {
      "text/html": [
       "<div>\n",
       "<style scoped>\n",
       "    .dataframe tbody tr th:only-of-type {\n",
       "        vertical-align: middle;\n",
       "    }\n",
       "\n",
       "    .dataframe tbody tr th {\n",
       "        vertical-align: top;\n",
       "    }\n",
       "\n",
       "    .dataframe thead th {\n",
       "        text-align: right;\n",
       "    }\n",
       "</style>\n",
       "<table border=\"1\" class=\"dataframe\">\n",
       "  <thead>\n",
       "    <tr style=\"text-align: right;\">\n",
       "      <th></th>\n",
       "      <th>Airline</th>\n",
       "      <th>Date_of_Journey</th>\n",
       "      <th>Source</th>\n",
       "      <th>Destination</th>\n",
       "      <th>Dep_Time</th>\n",
       "      <th>Arrival_Time</th>\n",
       "      <th>Duration</th>\n",
       "      <th>Total_Stops</th>\n",
       "      <th>Additional_Info</th>\n",
       "      <th>Price</th>\n",
       "    </tr>\n",
       "  </thead>\n",
       "  <tbody>\n",
       "    <tr>\n",
       "      <th>count</th>\n",
       "      <td>128.000000</td>\n",
       "      <td>128.000000</td>\n",
       "      <td>128.000000</td>\n",
       "      <td>128.000000</td>\n",
       "      <td>128.000000</td>\n",
       "      <td>128.000000</td>\n",
       "      <td>128.000000</td>\n",
       "      <td>128.000000</td>\n",
       "      <td>128.000000</td>\n",
       "      <td>128.000000</td>\n",
       "    </tr>\n",
       "    <tr>\n",
       "      <th>mean</th>\n",
       "      <td>83.453125</td>\n",
       "      <td>83.453125</td>\n",
       "      <td>83.453125</td>\n",
       "      <td>83.453125</td>\n",
       "      <td>83.453125</td>\n",
       "      <td>83.453125</td>\n",
       "      <td>83.453125</td>\n",
       "      <td>83.453125</td>\n",
       "      <td>83.453125</td>\n",
       "      <td>83.453125</td>\n",
       "    </tr>\n",
       "    <tr>\n",
       "      <th>std</th>\n",
       "      <td>281.334219</td>\n",
       "      <td>281.334219</td>\n",
       "      <td>281.334219</td>\n",
       "      <td>281.334219</td>\n",
       "      <td>281.334219</td>\n",
       "      <td>281.334219</td>\n",
       "      <td>281.334219</td>\n",
       "      <td>281.334219</td>\n",
       "      <td>281.334219</td>\n",
       "      <td>281.334219</td>\n",
       "    </tr>\n",
       "    <tr>\n",
       "      <th>min</th>\n",
       "      <td>1.000000</td>\n",
       "      <td>1.000000</td>\n",
       "      <td>1.000000</td>\n",
       "      <td>1.000000</td>\n",
       "      <td>1.000000</td>\n",
       "      <td>1.000000</td>\n",
       "      <td>1.000000</td>\n",
       "      <td>1.000000</td>\n",
       "      <td>1.000000</td>\n",
       "      <td>1.000000</td>\n",
       "    </tr>\n",
       "    <tr>\n",
       "      <th>25%</th>\n",
       "      <td>2.000000</td>\n",
       "      <td>2.000000</td>\n",
       "      <td>2.000000</td>\n",
       "      <td>2.000000</td>\n",
       "      <td>2.000000</td>\n",
       "      <td>2.000000</td>\n",
       "      <td>2.000000</td>\n",
       "      <td>2.000000</td>\n",
       "      <td>2.000000</td>\n",
       "      <td>2.000000</td>\n",
       "    </tr>\n",
       "    <tr>\n",
       "      <th>50%</th>\n",
       "      <td>9.000000</td>\n",
       "      <td>9.000000</td>\n",
       "      <td>9.000000</td>\n",
       "      <td>9.000000</td>\n",
       "      <td>9.000000</td>\n",
       "      <td>9.000000</td>\n",
       "      <td>9.000000</td>\n",
       "      <td>9.000000</td>\n",
       "      <td>9.000000</td>\n",
       "      <td>9.000000</td>\n",
       "    </tr>\n",
       "    <tr>\n",
       "      <th>75%</th>\n",
       "      <td>37.000000</td>\n",
       "      <td>37.000000</td>\n",
       "      <td>37.000000</td>\n",
       "      <td>37.000000</td>\n",
       "      <td>37.000000</td>\n",
       "      <td>37.000000</td>\n",
       "      <td>37.000000</td>\n",
       "      <td>37.000000</td>\n",
       "      <td>37.000000</td>\n",
       "      <td>37.000000</td>\n",
       "    </tr>\n",
       "    <tr>\n",
       "      <th>max</th>\n",
       "      <td>2376.000000</td>\n",
       "      <td>2376.000000</td>\n",
       "      <td>2376.000000</td>\n",
       "      <td>2376.000000</td>\n",
       "      <td>2376.000000</td>\n",
       "      <td>2376.000000</td>\n",
       "      <td>2376.000000</td>\n",
       "      <td>2376.000000</td>\n",
       "      <td>2376.000000</td>\n",
       "      <td>2376.000000</td>\n",
       "    </tr>\n",
       "  </tbody>\n",
       "</table>\n",
       "</div>"
      ],
      "text/plain": [
       "           Airline  Date_of_Journey       Source  Destination     Dep_Time  \\\n",
       "count   128.000000       128.000000   128.000000   128.000000   128.000000   \n",
       "mean     83.453125        83.453125    83.453125    83.453125    83.453125   \n",
       "std     281.334219       281.334219   281.334219   281.334219   281.334219   \n",
       "min       1.000000         1.000000     1.000000     1.000000     1.000000   \n",
       "25%       2.000000         2.000000     2.000000     2.000000     2.000000   \n",
       "50%       9.000000         9.000000     9.000000     9.000000     9.000000   \n",
       "75%      37.000000        37.000000    37.000000    37.000000    37.000000   \n",
       "max    2376.000000      2376.000000  2376.000000  2376.000000  2376.000000   \n",
       "\n",
       "       Arrival_Time     Duration  Total_Stops  Additional_Info        Price  \n",
       "count    128.000000   128.000000   128.000000       128.000000   128.000000  \n",
       "mean      83.453125    83.453125    83.453125        83.453125    83.453125  \n",
       "std      281.334219   281.334219   281.334219       281.334219   281.334219  \n",
       "min        1.000000     1.000000     1.000000         1.000000     1.000000  \n",
       "25%        2.000000     2.000000     2.000000         2.000000     2.000000  \n",
       "50%        9.000000     9.000000     9.000000         9.000000     9.000000  \n",
       "75%       37.000000    37.000000    37.000000        37.000000    37.000000  \n",
       "max     2376.000000  2376.000000  2376.000000      2376.000000  2376.000000  "
      ]
     },
     "execution_count": 52,
     "metadata": {},
     "output_type": "execute_result"
    }
   ],
   "source": [
    "x = flight1.groupby('Route').count()\n",
    "x.head()\n",
    "x = x.sort_values(by='Airline')\n",
    "x.tail()\n",
    "x.describe()"
   ]
  },
  {
   "cell_type": "markdown",
   "id": "1eb3b66b",
   "metadata": {},
   "source": [
    "#### Departure Time\n",
    "\n",
    "This variable represents the time that the flight departed the airport on the day found in the Date of Journey column. "
   ]
  },
  {
   "cell_type": "code",
   "execution_count": null,
   "id": "a7b9d633",
   "metadata": {},
   "outputs": [],
   "source": []
  },
  {
   "cell_type": "markdown",
   "id": "e3afbb04-3bee-4c47-b4ba-d2bfc247492a",
   "metadata": {},
   "source": [
    "### Part 4 - Merge the data\n",
    "\n",
    "Now that you have a better feel for each of your two (or three, for the 7394 students) data sets, it is time to merge them. Describe your strategy for merging the data sets and then actually perform the merge.  \n",
    "\n",
    "Develop a strategy for verifying that the data is properly merged (hoping and finger-crossing are not valid strategies). "
   ]
  },
  {
   "cell_type": "code",
   "execution_count": null,
   "id": "6ccfb384-f695-4a49-a084-d373d45111f6",
   "metadata": {},
   "outputs": [],
   "source": []
  },
  {
   "cell_type": "markdown",
   "id": "3063ca2e-ec1b-4799-bc76-4a464fc82921",
   "metadata": {
    "tags": []
   },
   "source": [
    "### Part 5 - Explore Bivariate relationships\n",
    "\n",
    "- Choose a reasoned set of variables to explore further.  You don't have to explore all possible pairs of variables, nor do we want to grade that much.  Choose 7 - 9 variables. One should be a variable that you'd like to predict (target variable) using the others (predictor variables). \n",
    "- List your predictor variables\n",
    "- List your target variable\n",
    "- Briefly describe why you have chosen these. \n",
    "\n",
    "Use any of the available visualizations from Seaborn to explore the relationships between the variables. Explore the relationships among the predictor variables as well as the relationship between each predictor variable and the target variable.  Which of the predictor variables are most strongly related?  Are there any interesting relationships between categorical predictors and numeric predictors?  If there are any dichotomous variables, does that influence any of the relationships? Are the relationships positive or negative? \n",
    "\n",
    "Below each plot, you should provide a description and interpretation of the plot.  Make sure to include why the variables in that plot were chosen and what you hope the reader would gain from it as well. "
   ]
  },
  {
   "cell_type": "code",
   "execution_count": null,
   "id": "4058bb4e-b6a0-4d4f-b271-cd0ec29951ab",
   "metadata": {},
   "outputs": [],
   "source": []
  }
 ],
 "metadata": {
  "kernelspec": {
   "display_name": "Python 3 (ipykernel)",
   "language": "python",
   "name": "python3"
  },
  "language_info": {
   "codemirror_mode": {
    "name": "ipython",
    "version": 3
   },
   "file_extension": ".py",
   "mimetype": "text/x-python",
   "name": "python",
   "nbconvert_exporter": "python",
   "pygments_lexer": "ipython3",
   "version": "3.9.7"
  }
 },
 "nbformat": 4,
 "nbformat_minor": 5
}
